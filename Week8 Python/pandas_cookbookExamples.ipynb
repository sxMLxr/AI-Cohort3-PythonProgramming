{
 "cells": [
  {
   "cell_type": "code",
   "execution_count": null,
   "id": "1d80e890",
   "metadata": {},
   "outputs": [],
   "source": [
    "import pandas as pd\n",
    "\n",
    "df = pd.DataFrame(\n",
    "    {\"AAA\": [4, 5, 6, 7], \"BBB\": [10, 20, 30, 40], \"CCC\": [100, 50, -30, -50]}\n",
    ")\n",
    "\n",
    "df\n"
   ]
  },
  {
   "cell_type": "code",
   "execution_count": null,
   "id": "a3f6451c",
   "metadata": {},
   "outputs": [],
   "source": [
    "df = pd.DataFrame(\n",
    "    {\"AAA\": [4, 5, 6, 7], \"BBB\": [10, 20, 30, 40], \"CCC\": [100, 50, -30, -50]}\n",
    ")\n",
    "\n",
    "df"
   ]
  },
  {
   "cell_type": "code",
   "execution_count": null,
   "id": "fe46c732",
   "metadata": {},
   "outputs": [],
   "source": [
    "df.loc[(df[\"BBB\"] < 25) & (df[\"CCC\"] >= -40), \"AAA\"]"
   ]
  },
  {
   "cell_type": "raw",
   "id": "52e4b5d3",
   "metadata": {},
   "source": [
    "Select rows with data closest to certain value using argsort"
   ]
  },
  {
   "cell_type": "code",
   "execution_count": null,
   "id": "09322d3b",
   "metadata": {
    "scrolled": true
   },
   "outputs": [],
   "source": [
    "aValue = 43.0\n",
    "df.loc[(df.CCC - aValue).abs().argsort()]\n"
   ]
  },
  {
   "cell_type": "code",
   "execution_count": null,
   "id": "63ee1493",
   "metadata": {},
   "outputs": [],
   "source": [
    "df[(df.AAA <= 6) & (df.index.isin([0,2,4]))]\n"
   ]
  },
  {
   "cell_type": "code",
   "execution_count": null,
   "id": "d91b4840",
   "metadata": {},
   "outputs": [],
   "source": [
    "import csv\n",
    "import matplotlib.pyplot as plt\n",
    "import pandas as pd\n",
    "import numpy as np\n",
    "import seaborn as sns\n",
    "\n",
    "\n",
    "class Athlete:\n",
    "    def __init__(self, name, sex, age, height, weight, team, noc, games, year, season, city, sport, event, medal):\n",
    "        self.__name = name\n",
    "        self.__sex = sex\n",
    "        self.__age = age\n",
    "        self.__height = height\n",
    "        self.__weight = weight\n",
    "        self.__team = team\n",
    "        self.__noc = noc\n",
    "        self.__games = games\n",
    "        self.__year = year\n",
    "        self.__season = season\n",
    "        self.__city = city\n",
    "        self.__sport = sport\n",
    "        self.__event = event\n",
    "        self.__medal = medal\n",
    "        \n",
    "        \n",
    "    def get_age(self):\n",
    "        try:\n",
    "            if int(self.__age) > 0:\n",
    "                return int(self.__age)\n",
    "        except:\n",
    "            pass\n",
    "            return 0\n",
    "        \n",
    "    def get_weight(self):\n",
    "        try:\n",
    "            if int(self.__weight) > 0:\n",
    "                return int(self.__weight)\n",
    "        except:\n",
    "            pass\n",
    "            return 0    \n",
    "    \n",
    "    def get_height(self):\n",
    "        try:\n",
    "            if int(self.__height) > 0:\n",
    "                return int(self.__height)\n",
    "        except:\n",
    "            pass\n",
    "            return 0    \n",
    "        \n",
    "\n",
    "athlete_list = []\n",
    "all_ages = []\n",
    "athlete_height = []\n",
    "age_total = 0\n",
    "weight_total = 0\n",
    "height_total = 0\n",
    "year = \"1989\"\n",
    "\n",
    "#fig, ax = plt.subplots(figsize=(10, 10))\n",
    "\n",
    "with open('../Week7 Python/athlete_events_short.csv', 'r', newline='') as athletes:\n",
    "    reader = csv.reader(athletes)   \n",
    "    #obj == csv.reader(object_name)\n",
    "    #print(athletes)\n",
    "    #<_io.TextIOWrapper name='../Week7 Python/athlete_events_short.csv' mode='r' encoding='UTF-8'>\n",
    "    \n",
    "    #lets skip the first line - row\n",
    "    header = next(reader)  \n",
    "    \n",
    "    #show the data\n",
    "    for line in reader:\n",
    "        if line[9] > year:\n",
    "            new_athlete = Athlete(line[1], line[2], line[3], line[4], line[5], line[6], \n",
    "                line[7], line[8], line[9], line[10], line[11], line[12], line[13], line[14])\n",
    "            athlete_list.append(new_athlete)  #object\n",
    "            if line[3] != \"NA\":\n",
    "                all_ages.append(line[3]) #string values\n",
    "            if line[4] != \"NA\":\n",
    "                athlete_height.append(line[4]) #string values\n",
    "            \n",
    "    #print(athlete_height)\n",
    "    \n",
    "    for athlete in athlete_list:\n",
    "        age_total += athlete.get_age()\n",
    "        weight_total += athlete.get_weight()\n",
    "        height_total += athlete.get_height()\n",
    "        \n",
    "print(\" Average age in years for all olympians = \", age_total/len(athlete_list))\n",
    "print(\" Average weight for all olympians = \", weight_total/len(athlete_list))\n",
    "print(\" Average height for all olympians = \", height_total/len(athlete_list))\n",
    "print(\" Max height of all olypians = \", max(athlete_height), \"cm\")\n",
    "\n",
    "print(athlete_list)"
   ]
  },
  {
   "cell_type": "code",
   "execution_count": null,
   "id": "aa6a6947",
   "metadata": {},
   "outputs": [],
   "source": []
  }
 ],
 "metadata": {
  "kernelspec": {
   "display_name": "Python 3 (ipykernel)",
   "language": "python",
   "name": "python3"
  },
  "language_info": {
   "codemirror_mode": {
    "name": "ipython",
    "version": 3
   },
   "file_extension": ".py",
   "mimetype": "text/x-python",
   "name": "python",
   "nbconvert_exporter": "python",
   "pygments_lexer": "ipython3",
   "version": "3.9.7"
  }
 },
 "nbformat": 4,
 "nbformat_minor": 5
}
