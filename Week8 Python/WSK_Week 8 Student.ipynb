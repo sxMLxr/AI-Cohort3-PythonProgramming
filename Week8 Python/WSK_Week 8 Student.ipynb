{
 "cells": [
  {
   "cell_type": "markdown",
   "metadata": {
    "id": "2ngLF7cpYjqg"
   },
   "source": [
    "# Workshop 8 [Student]\n",
    "\n",
    "This notebook will cover the following topics:\n",
    "\n",
    "1. Numpy and array orientated programming\n",
    "2. Reading numpy arrays from files\n",
    "3. Manipulating numpy arrays\n",
    "4. Numpy calculations\n",
    "5. Numpy arrays versus list speed"
   ]
  },
  {
   "cell_type": "markdown",
   "metadata": {
    "id": "0q453iEEZt2e"
   },
   "source": [
    "## 8.1 Numpy and array orientated programming (Follow)\n",
    "\n",
    "**Learning Objectives**\n",
    "\n",
    "1. Understand how to create and populate numpy arrays.\n",
    "2. Understand the importance of using numpy arrays.\n",
    "3. Understand why numpy arrays are so useful."
   ]
  },
  {
   "cell_type": "code",
   "execution_count": 264,
   "metadata": {
    "executionInfo": {
     "elapsed": 103,
     "status": "ok",
     "timestamp": 1645202951032,
     "user": {
      "displayName": "Travis Martin",
      "photoUrl": "https://lh3.googleusercontent.com/a/default-user=s64",
      "userId": "17005528951968776844"
     },
     "user_tz": 360
    },
    "id": "cHN6e-kRgoqe"
   },
   "outputs": [
    {
     "name": "stdout",
     "output_type": "stream",
     "text": [
      "Append elements along axis 1:\n",
      "[[1 2 3 5]\n",
      " [4 5 6 7]]\n",
      "\n",
      " [[10 10 10 10 10]\n",
      " [10 10 10 10 10]\n",
      " [10 10 10 10 10]]\n"
     ]
    }
   ],
   "source": [
    "# add comments to the code\n",
    "# https://numpy.org/doc/\n",
    "\n",
    "import numpy as np\n",
    "\n",
    "numbers = np.array([2, 3, 5, 7, 11])\n",
    "#print(numbers)\n",
    "\n",
    "multi_dim_nums = np.array([[1, 2, 3], [4, 5, 6]])\n",
    "#print('\\n', multi_dim_nums)\n",
    "\n",
    "extra_row = np.array([7, 8, 9])\n",
    "multi_dim_nums = np.append(multi_dim_nums, [extra_row], axis=0) #rows\n",
    "#print('\\n', multi_dim_nums)\n",
    "\n",
    "print('Append elements along axis 1:') \n",
    "a = np.array([[1,2,3],[4,5,6]]) \n",
    "print(np.append(a, [[5],[7]],axis = 1))  #columns\n",
    "\n",
    "new_array = np.array([x for x in range(1, 20, 2)])\n",
    "#print('\\n', new_array)\n",
    "\n",
    "#print('\\n', type(numbers))\n",
    "#print('\\n', numbers.dtype)\n",
    "\n",
    "#for row in multi_dim_nums:\n",
    " # for column in row:\n",
    "  #  print('\\n', column)\n",
    "\n",
    "#for i in multi_dim_nums.flat:\n",
    " # print('\\n', i)\n",
    "\n",
    "zero_array = np.zeros(10)\n",
    "#print('\\n', zero_array)\n",
    "\n",
    "any_num_array = np.full((3, 5), 10)\n",
    "print('\\n', any_num_array)\n",
    "\n",
    "big_array = np.arange(1, 21, 1).reshape(4, 5)\n",
    "#print('\\n', big_array)\n",
    "\n",
    "really_big_array = np.arange(1, 100001).reshape(4, 25000)\n",
    "#print('\\n', really_big_array)\n",
    "\n"
   ]
  },
  {
   "cell_type": "markdown",
   "metadata": {
    "id": "nMCJx55HgUiG"
   },
   "source": [
    "### As the above code executes, think about the following questions:\n",
    "\n",
    "1. What does the np.array() function do?  Creates a one dimensional array (data type and value list)\n",
    "2. What does the np.full() function do? fills array (x,x) all values of y  \n",
    "3. What does the np.reshape() function do? changes array to X rows, Y columns\n",
    "4. What does the np.arange() function do? fills array with values from a range, using a step function.  "
   ]
  },
  {
   "cell_type": "markdown",
   "metadata": {
    "id": "AntzM5j0euuf"
   },
   "source": [
    "## 8.1 Numpy and array orientated programming (Group)\n",
    "\n",
    "**Write a program that will do the following:**\n",
    "\n",
    "1. Create some different arrays.\n",
    "2. Create arrays with different values in the arrays.\n",
    "3. Create arrays of different sizes and shapes.\n",
    "4. Try experimenting with array creation and try to do some interesting things with them.\n",
    "5. You may be asked to present what you come up with."
   ]
  },
  {
   "cell_type": "code",
   "execution_count": 250,
   "metadata": {
    "id": "fMJ4578ggsgw"
   },
   "outputs": [
    {
     "name": "stdout",
     "output_type": "stream",
     "text": [
      "[[ 2  4  6  8 10 12 14 16 18 20 22 24 26 28 30 32 34 36 38 40]]\n",
      "\n",
      " 2\n"
     ]
    }
   ],
   "source": [
    "import numpy as np\n",
    "\n",
    "a = np.array([1,2,3,4,5])  #single dimension with static values as listed\n",
    "b = np.zeros(3) # single dimension with zeros\n",
    "c = np.ones((3,4))  #3x4 array, with all values 1\n",
    "d = np.full(5,4)  #single dimension 5 spots with 4's \n",
    "e = np.eye(5)  #5x5 array with all zeros, and 1's diagonal\n",
    "f = np.random.rand(4,5) #4x5 array of random floats between 0-1\n",
    "\n",
    "big_array = np.arange(2, 41, 2)\n",
    "# print(big_array.reshape(4, 5)[2])\n",
    "print(big_array.reshape(1, 20)[0])\n",
    "print('\\n', big_array[0])"
   ]
  },
  {
   "cell_type": "code",
   "execution_count": null,
   "metadata": {
    "id": "dsp6ozIKgsmJ",
    "scrolled": true
   },
   "outputs": [],
   "source": [
    "print(f'np.array([1,2,3,4,5]):\\n{a}\\n')\n",
    "print(f'np.zeros(3):\\n{b}\\n')\n",
    "print(f'np.ones((3,4)):\\n{c}\\n')\n",
    "print(f'np.full(5,4)\\n{d}\\n')\n",
    "print(f'np.eye(5):\\n{e}\\n')\n",
    "print(f'np.randon.rand(4,5):\\n{f}')"
   ]
  },
  {
   "cell_type": "markdown",
   "metadata": {
    "id": "vRk44n7JZuI0"
   },
   "source": [
    "## 8.2 Reading numpy arrays from files (Follow)\n",
    "\n",
    "**Learning Objectives**\n",
    "1. Understand how to load numpy array from a file.\n",
    "2. Understand the advantages of loading files into numpy arrays.\n"
   ]
  },
  {
   "cell_type": "code",
   "execution_count": 349,
   "metadata": {
    "id": "ncxFsiiXgp0F"
   },
   "outputs": [
    {
     "name": "stdout",
     "output_type": "stream",
     "text": [
      "[['00:47:31' '04:16:02' '02:42:43' '07:51:13']\n",
      " ['00:47:38' '04:18:11' '02:49:45' '07:59:41']\n",
      " ['00:52:17' '04:15:04' '02:49:56' '08:02:04']\n",
      " ...\n",
      " ['0:0:0' '0:0:0' '0:0:0' '0:0:0']\n",
      " ['0:0:0' '0:0:0' '0:0:0' '0:0:0']\n",
      " ['0:0:0' '0:0:0' '0:0:0' '0:0:0']]\n",
      "manual mode: 2851.0\n",
      "using lamda to convert: 2851.0\n"
     ]
    }
   ],
   "source": [
    "# add comments to the code\n",
    "# https://numpy.org/doc/stable/reference/generated/numpy.genfromtxt.html\n",
    "# https://realpython.com/python-lambda/\n",
    "\n",
    "import numpy as np\n",
    "\n",
    "ironman_data = np.genfromtxt('2019 Ironman World Championship Results.csv', \n",
    "                             delimiter = ',', dtype = 'str', skip_header=1)\n",
    "\n",
    "#np.set_printoptions(threshold=np.inf)\n",
    "#np.set_printoptions(threshold=10)\n",
    "#np.set_printoptions()\n",
    "#print(ironman_data)  #returns entire object\n",
    "#print(ironman_data[:, [1]])  #returns all elements of column 1\n",
    "                   # : get all columns ... 6,7,8,9\n",
    "string_times = ironman_data[:, [6, 7, 8, 9]]   \n",
    "string_times=np.where(string_times=='', '0:0:0', string_times)\n",
    "print(string_times)\n",
    "#print(string_times[1][0])  #print element of array at row, column (1,0)\n",
    "\n",
    "#hrs, mins, secs = string_times[:,[0,1,2,3]].split(\":\")\n",
    "\n",
    "hrs, mins, secs = string_times[1][0].split(\":\")\n",
    "time_secs = float(hrs)*3600 + float(mins)*60 + float(secs)\n",
    "print(f'manual mode: {time_secs}')  \n",
    "\n",
    "cast_f = lambda x : float(x)\n",
    "conv_hrs = lambda x : cast_f(x)*3600\n",
    "conv_mins = lambda x : cast_f(x)*60\n",
    "conv = lambda x, y, z : conv_hrs(x) + conv_mins(y) + cast_f(z)\n",
    "print(f'using lamda to convert: {conv(hrs, mins, secs)}')\n"
   ]
  },
  {
   "cell_type": "markdown",
   "metadata": {
    "id": "E1ShCUFrgVWz"
   },
   "source": [
    "### As the above code executes, think about the following questions:\n",
    "\n",
    "1. What do all the arguments in genfromtext do?  reads csv file into np \n",
    "2. Explain what the line \"print(ironman_data[:, [1]])\" prints.  print array, all data, in column 1\n",
    "3. Explain how lambda functions work.  \n",
    "4. Why would you use a lambda function? to utilize small progra  doesnt use allocated memory, just used when needed."
   ]
  },
  {
   "cell_type": "markdown",
   "metadata": {
    "id": "8SQPHn0PevjN"
   },
   "source": [
    "## 8.2 Reading numpy arrays from files (Group)\n",
    "\n",
    "**Write a program that will do the following:**\n",
    "1. Read in the ironman dataset and input it into a numpy array.\n",
    "2. Grab only the numeric fields in the dataset. \n",
    "3. Caution: I did not grab all the numeric fields, above.\n",
    "4. Convert all the numeric fields to integers or floats as needed.\n",
    "5. Store all these values into a new numpy array.\n",
    "6. Try using lambda functions to convert data."
   ]
  },
  {
   "cell_type": "code",
   "execution_count": 454,
   "metadata": {},
   "outputs": [
    {
     "name": "stdout",
     "output_type": "stream",
     "text": [
      "(2434, 6)\n",
      "(2434, 6)\n"
     ]
    }
   ],
   "source": [
    "##==== class group work test code Version3\n",
    "import numpy as np\n",
    "\n",
    "new_array = []\n",
    "new_array2 = [] \n",
    "new_array3 = [] \n",
    "\n",
    "def time_sec(x):\n",
    "    def __init__(self):\n",
    "        self.x = x\n",
    "    hrs, mins, secs = x.split(\":\")\n",
    "    return float(hrs)*3600 + float(mins)*60 + float(secs)\n",
    "\n",
    "ironman_data = np.genfromtxt('2019 Ironman World Championship Results.csv', \n",
    "                             delimiter = ',', dtype = 'str', skip_header=1)\n",
    "\n",
    "numeric_only = ironman_data[:,[6,7,8,9,13,14]]\n",
    "numeric_only = np.where(numeric_only=='', '0:0:0', numeric_only)\n",
    "numeric_only = np.where(numeric_only=='DNS', '0:0:0', numeric_only)\n",
    "numeric_only = np.where(numeric_only=='DNF', '0:0:0', numeric_only)\n",
    "numeric_only = np.where(numeric_only=='DQ', '0:0:0', numeric_only)\n",
    "numeric_only = np.array(numeric_only)\n",
    "numeric_only2 = np.array(numeric_only)\n",
    "numeric_only3 = np.array(numeric_only)\n",
    "\n",
    "\n",
    "\n",
    "#print(numeric_only)\n",
    "\n",
    "for elements in numeric_only:\n",
    "    #e10,e11,e12,e13,e14 = elements[10], elements[11], elements[12], elements[13], elements[14]\n",
    "    e10,e11,e12,e13,e14,e15 = time_sec(elements[0]), time_sec(elements[1]), time_sec(elements[2]), time_sec(elements[3]), time_sec(elements[4]), time_sec(elements[5])\n",
    "    new_array.append([e10,e11,e12,e13,e14,e15])\n",
    "\n",
    "print(np.shape(new_array))\n",
    "#print(new_array)\n",
    "\n",
    "## fix the usage of lambda function == FIXED!!!\n",
    "for elements in numeric_only2:\n",
    "    e10,e11,e12,e13,e14,e15 = elements[0], elements[1], elements[2], elements[3], elements[4], elements[5]\n",
    "    calc_array = [e10,e11,e12,e13,e14,e15]\n",
    "    result_array = list(map(lambda x:time_sec(x),calc_array))\n",
    "    new_array2.append(result_array)\n",
    "\n",
    "print(np.shape(new_array2))\n",
    "#fixed it !!  ensure size is same ... \n",
    "\n",
    "#confirmed\n",
    "#print(new_array2)\n"
   ]
  },
  {
   "cell_type": "code",
   "execution_count": 372,
   "metadata": {
    "collapsed": true,
    "id": "uRxPganHguLL"
   },
   "outputs": [
    {
     "name": "stdout",
     "output_type": "stream",
     "text": [
      "[['1' '1' '1']\n",
      " ['2' '2' '2']\n",
      " ['3' '3' '3']\n",
      " ...\n",
      " ['66' '610' '2264']\n",
      " ['50' '1655' '2265']\n",
      " ['274' '1656' '2266']]\n",
      "(2258, 3)\n",
      "['274' '1656' '2266']\n"
     ]
    }
   ],
   "source": [
    "##Code Version 1\n",
    "#======get general array going... no conversions\n",
    "import numpy as np\n",
    "count =0\n",
    "ironman_champs = []\n",
    "IC = []\n",
    "\n",
    "arr = np.genfromtxt('2019 Ironman World Championship Results.csv', \n",
    "                             delimiter = ',', dtype = 'str', skip_header=1)\n",
    "\n",
    "count = 0\n",
    "for elements in arr:\n",
    "    # get elements ignore rows with values of our choosing\n",
    "    if (elements[10] != \"DNF\") and (elements[10] != \"DNS\") and (elements[10] != \"DQ\"):\n",
    "        e10, e11, e12 = elements[10], elements[11], elements[12]\n",
    "        if count == 0:\n",
    "            t1, t2, t3 = e10, e11, e12\n",
    "            count+=1\n",
    "            \n",
    "        elif count ==1:\n",
    "            #use temp values to construct an array from scratch\n",
    "            iron_champs = np.array([t1,t2,t3,e10,e11,e12])\n",
    "            #resize 1d array to 2d\n",
    "            iron_champs.resize(2,3)\n",
    "            #print(iron_champs)\n",
    "            count +=1\n",
    "            \n",
    "        elif count > 1: \n",
    "            #fill array with more data\n",
    "            iron_champs = np.append(iron_champs,[[e10, e11, e12]],axis=0)\n",
    "            count+=1\n",
    "       \n",
    "    \n",
    "print(iron_champs)\n",
    "#np.copyto(arr2,iron_champs,'no',True)\n",
    "arr1 = iron_champs\n",
    "print(np.shape(arr1))\n",
    "\n",
    "#print('===================test for errors=====================')\n",
    "#print('===============review data samples=====================')\n",
    "#print(iron_champs[2257,1])\n",
    "#print(iron_champs[52,0].dtype, iron_champs[52,1].dtype, iron_champs[52,2].dtype)\n",
    "#print(iron_champs[52].dtype)\n",
    "#print(list(map(lambda c: c.dtype, iron_champs)))\n",
    "\n",
    "print(iron_champs[-1])"
   ]
  },
  {
   "cell_type": "code",
   "execution_count": 90,
   "metadata": {
    "id": "jAtioezeguSY"
   },
   "outputs": [
    {
     "data": {
      "text/plain": [
       "'\\nimport numpy as np \\n\\n# Array storing temperature in celsius\\ncelsiusTemp = [12,45,6,78,5,26,67]\\nprint(\"temperature in Celsius : \",celsiusTemp)\\n\\n# Converting data to Fahrenheit using lambda function \\nfahrenTemp = list(map(lambda c:9/5*c+32,celsiusTemp))\\nprint(\"Temperature in Fahrenheit : \",fahrenTemp)\\n\\nfahrenTemp3 = list(map(lambda c:0 if c<12 else 1,celsiusTemp))\\nfahrenTemp3\\n'"
      ]
     },
     "execution_count": 90,
     "metadata": {},
     "output_type": "execute_result"
    }
   ],
   "source": [
    "\"\"\"  added for exercise in lamba functions\n",
    "import numpy as np \n",
    "\n",
    "# Array storing temperature in celsius\n",
    "celsiusTemp = [12,45,6,78,5,26,67]\n",
    "print(\"temperature in Celsius : \",celsiusTemp)\n",
    "\n",
    "# Converting data to Fahrenheit using lambda function \n",
    "fahrenTemp = list(map(lambda c:9/5*c+32,celsiusTemp))\n",
    "print(\"Temperature in Fahrenheit : \",fahrenTemp)\n",
    "\n",
    "fahrenTemp3 = list(map(lambda c:0 if c<12 else 1,celsiusTemp))\n",
    "fahrenTemp3\n",
    "\"\"\""
   ]
  },
  {
   "cell_type": "markdown",
   "metadata": {
    "id": "xJ2vv0I6ZuVU"
   },
   "source": [
    "## 8.3 Manipulating numpy arrays (Follow)\n",
    "\n",
    "**Learning Objectives**\n",
    "1. Understand how to manipulate numpy arrays.\n",
    "2. Understand the importance of manipulating numpy arrays."
   ]
  },
  {
   "cell_type": "code",
   "execution_count": 429,
   "metadata": {
    "id": "gfnbXDVRg1DA"
   },
   "outputs": [
    {
     "name": "stdout",
     "output_type": "stream",
     "text": [
      "[[[10 10]\n",
      "  [10 10]\n",
      "  [10 10]\n",
      "  [10 10]\n",
      "  [10 10]]\n",
      "\n",
      " [[10 10]\n",
      "  [10 10]\n",
      "  [10 10]\n",
      "  [10 10]\n",
      "  [10 10]]\n",
      "\n",
      " [[10 10]\n",
      "  [10 10]\n",
      "  [10 10]\n",
      "  [10 10]\n",
      "  [10 10]]] \n",
      "\n",
      "[54 59 41 50 57 47 54 48 49 37]\n",
      "[9 2 5 7 8 3 0 6 4 1]\n",
      "(array([1, 3, 4, 5]), array([0, 2, 3, 4]))\n"
     ]
    }
   ],
   "source": [
    "import numpy as np\n",
    "\n",
    "multi_dim_nums = np.array([[1, 2, 3], [4, 5, 6]])\n",
    "multi_dim_nums2 = np.array([[1, 2, 3], [4, 5, 6]])\n",
    "multi_dim_nums3 = np.array([[1, 2, 3], [7, 8, 9]])\n",
    "\n",
    "#print(multi_dim_nums == multi_dim_nums2, '\\n')\n",
    "#print(multi_dim_nums == multi_dim_nums3, '\\n')\n",
    "\n",
    "threeD_array = np.full((3, 5, 2), 10)  #3x5x2\n",
    "print(threeD_array, '\\n')\n",
    "for t in range(5):\n",
    "    threeD_array[:, t, :] = 1  #change each value to 1\n",
    "#print(threeD_array, '\\n')\n",
    "\n",
    "ages = np.random.randint(low=30, high=60, size=10)\n",
    "print(ages)\n",
    "print(np.argsort(ages))  #list the order of the data listed in ages\n",
    "\n",
    "toy_array = np.array([[1, 1, 3], [4, 5, 5]])\n",
    "print(np.unique(toy_array, return_index = True))\n",
    "#print(toy_array.max(axis=0))"
   ]
  },
  {
   "cell_type": "markdown",
   "metadata": {
    "id": "niuXoPekgWTm"
   },
   "source": [
    "### As the above code executes, think about the following questions:\n",
    "\n",
    "1. Look at the different arrays created in lines 3-5.  Try creating a 4D or 5D array.\n",
    "import numpy as np\n",
    "arr = np.array([1, 2, 3, 4], ndmin=5)  #ndmin=4 or 5 (for 4-D of 5-D)\n",
    "print(arr)\n",
    "print('number of dimensions :', arr.ndim)\n",
    "\n",
    "2. Explain what line 13 is actually doing in your own words.  change all values, in columns and rows to 1\n",
    "3. Explain what argsort() is actually doing. listing the order of the data listed numerically, from the list of ages\n",
    "4. Explain what the axis flag does on line 22.  prints the maximun number of the column 0, or first column of data in the array."
   ]
  },
  {
   "cell_type": "markdown",
   "metadata": {
    "id": "W_mCg2gAewO_"
   },
   "source": [
    "## 8.3 Manipulating numpy arrays (Group)\n",
    "\n",
    "**Write a program that will do the following:**\n",
    "1. Play around with numpy arrays.\n",
    "2. Try and show off some interesting tips and tricks.\n",
    "3. Be prepared to present what you have found."
   ]
  },
  {
   "cell_type": "code",
   "execution_count": 109,
   "metadata": {
    "id": "kETeW5yxg2YH"
   },
   "outputs": [
    {
     "data": {
      "image/png": "[encoded data removed]",
      "text/plain": [
       "<Figure size 432x288 with 1 Axes>"
      ]
     },
     "metadata": {
      "needs_background": "light"
     },
     "output_type": "display_data"
    },
    {
     "data": {
      "image/png": "[encoded data removed]",
      "text/plain": [
       "<Figure size 432x288 with 1 Axes>"
      ]
     },
     "metadata": {
      "needs_background": "light"
     },
     "output_type": "display_data"
    },
    {
     "data": {
      "image/png": "[encoded data removed]",
      "text/plain": [
       "<Figure size 432x288 with 1 Axes>"
      ]
     },
     "metadata": {
      "needs_background": "light"
     },
     "output_type": "display_data"
    },
    {
     "data": {
      "image/png": "[encoded data removed]",
      "text/plain": [
       "<Figure size 432x288 with 1 Axes>"
      ]
     },
     "metadata": {
      "needs_background": "light"
     },
     "output_type": "display_data"
    },
    {
     "name": "stdout",
     "output_type": "stream",
     "text": [
      "Array1: \n",
      "[[ 10  10 100]\n",
      " [100  50 100]\n",
      " [ 50  50 100]]\n",
      "Array2: \n",
      "[[100 100 100]\n",
      " [ 10  50  50]\n",
      " [ 10 100  50]]\n",
      "Array3: \n",
      "[[100  50  50]\n",
      " [100  50 100]\n",
      " [100  10  10]]\n",
      "Array4: \n",
      "[[ 50 100  10]\n",
      " [ 50  50  10]\n",
      " [100 100 100]]\n"
     ]
    }
   ],
   "source": [
    "import matplotlib.pyplot as plt, numpy as np\n",
    "from mpl_toolkits.mplot3d import Axes3D\n",
    "\n",
    "#coordinates: (x, y, z)\n",
    "arr1= np.array([[10,10,100], [100,50,100], [50,50,100]])\n",
    "new_val = plt.figure()\n",
    "result = new_val.add_subplot(122, projection='3d')\n",
    "result.plot(arr1[:,0],arr1[:,1],arr1[:,2])\n",
    "#plt.show()\n",
    "\n",
    "arr2 = np.rot90(arr1,1)\n",
    "new_val2 = plt.figure()\n",
    "result2 = new_val2.add_subplot(122, projection='3d')\n",
    "result2.plot(arr2[:,0],arr2[:,1],arr2[:,2])\n",
    "#plt.show()\n",
    "\n",
    "arr3 = np.rot90(arr1,2)\n",
    "new_val3 = plt.figure()\n",
    "result3 = new_val3.add_subplot(122, projection='3d')\n",
    "result3.plot(arr3[:,0],arr3[:,1],arr3[:,2])\n",
    "plt.show()\n",
    "\n",
    "arr4 = np.rot90(arr1,3)\n",
    "new_val4 = plt.figure()\n",
    "result4 = new_val4.add_subplot(122, projection='3d')\n",
    "result4.plot(arr4[:,0],arr3[:,1],arr3[:,2])\n",
    "plt.show()\n",
    "\n",
    "print(f'Array1: \\n{arr1}')\n",
    "print(f'Array2: \\n{arr2}')\n",
    "print(f'Array3: \\n{arr3}')\n",
    "print(f'Array4: \\n{arr4}')"
   ]
  },
  {
   "cell_type": "code",
   "execution_count": null,
   "metadata": {
    "id": "NL4MxOspg2cA"
   },
   "outputs": [],
   "source": []
  },
  {
   "cell_type": "markdown",
   "metadata": {
    "id": "3C-VtI6qZued"
   },
   "source": [
    "## 8.4 Numpy calculations (Follow)\n",
    "\n",
    "**Learning Objectives**\n",
    "1. Understand how to perform calculations with numpy arrays.\n",
    "2. Understand how to use the built in functions in numpy to perform calculations.\n"
   ]
  },
  {
   "cell_type": "code",
   "execution_count": 189,
   "metadata": {
    "id": "gkQE-ffYg3NT"
   },
   "outputs": [],
   "source": [
    "import numpy as np\n",
    "\n",
    "numbers = np.arange(1, 6)\n",
    "#print(numbers, '\\n')\n",
    "\n",
    "numbers2 = np.arange(3, 8)\n",
    "#print(numbers2, '\\n')\n",
    "\n",
    "#print(numbers*2, '\\n')\n",
    "#print(numbers**2, '\\n')\n",
    "\n",
    "numbers += 10\n",
    "#print(numbers, '\\n')\n",
    "\n",
    "#print(numbers * numbers2, '\\n')\n",
    "\n",
    "#print(numbers > numbers2, '\\n')\n",
    "\n",
    "#print(numbers.sum(), '\\n')\n",
    "#print(numbers.mean(), '\\n')\n",
    "#print(numbers.std(), '\\n')\n",
    "\n",
    "\n",
    "new_numbers = np.array([1, 2, 3, 4])\n",
    "np.add.at(new_numbers, [0, 1, 2, 2], 1)\n",
    "#print(new_numbers)\n"
   ]
  },
  {
   "cell_type": "markdown",
   "metadata": {
    "id": "PaSlo5A3gXUv"
   },
   "source": [
    "### As the above code executes, think about the following questions:\n",
    "\n",
    "1. Why would you want to use numbers*2? Why not just iterate through the numbers and multiply?  its completed for speed of results, not for data manipulation of array\n",
    "2. What does numbers += 10 do?  adds ten to the numbers\n",
    "3. What does the > operator do on line 17?  prints results of which numbers are greater than numbers2 as boolean values (true/ false)\n",
    "4. What is mean and standard deviation?  mean is just an average, while std =  a measure of the spread of a distribution\n",
    "5. Explain what the np.add.at function does.  calls the def function and adds the values x, y"
   ]
  },
  {
   "cell_type": "markdown",
   "metadata": {
    "id": "pq9c_Mg6ew6L"
   },
   "source": [
    "## 8.4 Numpy calculations (Group)\n",
    "\n",
    "**Create a program that will do the following:**\n",
    "1. Load the ironman world championship data.\n",
    "2. Clean the data.  Change all the DNF/DNS/DQ to zero.  \n",
    "3. Fill missing data with zeros.\n",
    "4. Pull down the numeric data only.\n",
    "5. Load the numeric data into a numpy array.\n",
    "6. Find the mean, median, and standard deviation of each data field/column.\n",
    "7. Print this information to the console.\n",
    "8. As an added challenge, try plotting the data with time along the x axis and number of athletes along the y axis."
   ]
  },
  {
   "cell_type": "code",
   "execution_count": 245,
   "metadata": {
    "id": "Ipm6bmktg9hY",
    "scrolled": true
   },
   "outputs": [
    {
     "name": "stdout",
     "output_type": "stream",
     "text": [
      " Mean of:\n",
      "[  75.47082991  635.86565325 1048.93056697]\n",
      "\n",
      " Median of:\n",
      "[  50.   521.5 1041.5]\n",
      "\n",
      " Std:\n",
      "[ 72.34124496 493.10614988 694.23621695]\n",
      "\n"
     ]
    },
    {
     "data": {
      "image/png": "[encoded data removed]",
      "text/plain": [
       "<Figure size 432x288 with 1 Axes>"
      ]
     },
     "metadata": {
      "needs_background": "light"
     },
     "output_type": "display_data"
    }
   ],
   "source": [
    "###Version 1  ### this was corrected in following code\n",
    "\n",
    "import matplotlib.pyplot as plt, numpy as np\n",
    "from mpl_toolkits.mplot3d import Axes3D\n",
    "\n",
    "count =0\n",
    "ironman_champs = []\n",
    "\n",
    "arr = np.genfromtxt('2019 Ironman World Championship Results.csv', \n",
    "                             delimiter = ',', dtype = 'str', skip_header=1)\n",
    "count = 0\n",
    "for elements in arr:\n",
    "    \n",
    "    #e10,e11,e12,e13,e14 = elements[10], elements[11], elements[12], elements[13], elements[14]\n",
    "    e10,e11,e12 = elements[10], elements[11], elements[12]\n",
    "    if count == 0:\n",
    "            #t1,t2,t3,t4,t5 = e10,e11,e12,e13,e14\n",
    "            t1,t2,t3 = e10,e11,e12\n",
    "            count+=1\n",
    "            \n",
    "    elif count ==1:\n",
    "           # print(t1, t2, t3, e10, e11, e12)\n",
    "            iron_champs = np.array([t1,t2,t3,e10,e11,e12])\n",
    "            #iron_champs = np.array([t1,t2,t3,t4,t5,e10,e11,e12,e13,e14])\n",
    "            iron_champs.resize(2,3)\n",
    "            #print(iron_champs)\n",
    "            count +=1\n",
    "            \n",
    "    elif count > 1: \n",
    "            iron_champs = np.append(iron_champs,[[e10,e11,e12]],axis=0)\n",
    "            #iron_champs = np.append(iron_champs,[[e10,e11,e12,e13,e14]],axis=0)\n",
    "            count+=1\n",
    "       \n",
    "    \n",
    "#print(iron_champs)\n",
    "\n",
    "#==============fill in nan variables and clean up data\n",
    "iron_champs = np.nan_to_num(iron_champs)\n",
    "#print(iron_champs)\n",
    "\n",
    "result = np.where(iron_champs=='DNS', 0, iron_champs)\n",
    "result = np.where(result=='DQ', 0, result)\n",
    "result = np.where(result=='DNF', 0, result)\n",
    "result = np.where(result=='', 0, result)  #fillin the blanks\n",
    "\n",
    "#convert the data to int as data is in string\n",
    "result = result.astype(int)\n",
    "#print(result[510:520])\n",
    "\n",
    "#meanof0 = np.mean(result[:,0], axis=0) #prints first column only\n",
    "meanof0 = np.mean(result, axis=0)  #calc mean of all columns \n",
    "#==result.mean(axis=0)  same as above\n",
    "print(f' Mean of:\\n{meanof0}\\n')\n",
    "medianof0 = np.median(result, axis=0)  #calc mean of all columns \n",
    "print(f' Median of:\\n{medianof0}\\n')\n",
    "stdof0 = np.std(result, axis=0)    #calc for all columns\n",
    "##result.std(axis=0)  same as above\n",
    "print(f' Std:\\n{stdof0}\\n')\n",
    "\n",
    "\n",
    "#=== plot some stuff\n",
    "#coordinates: (x, y, z)\n",
    "arr1= result\n",
    "new_val = plt.figure()\n",
    "result2 = new_val.add_subplot(122, projection='3d')\n",
    "result2.plot(arr1[:,0],arr1[:,1],arr1[:,2])\n",
    "plt.show()\n",
    "#time along x axis\n",
    "#number of athletes along the y axis\n"
   ]
  },
  {
   "cell_type": "code",
   "execution_count": 15,
   "metadata": {
    "scrolled": true
   },
   "outputs": [
    {
     "name": "stdout",
     "output_type": "stream",
     "text": [
      "Swim: \t\tBike:\t\tRun:\t\tOverall:\t\tT1:\t\tT2:\n",
      "=============================================\n",
      " Mean of:\n",
      "[ 4212.92604766 19789.25554643 14326.505341   38153.97617091\n",
      "   287.96754314   335.90345111]\n",
      "\n",
      " Median of:\n",
      "[ 4162.5 19940.5 14171.  38873.5   253.    304. ]\n",
      "\n",
      " Std:\n",
      "[ 1125.21549049  5319.6082817   5198.96916235 12487.85429333\n",
      "   164.77752043   190.211475  ]\n",
      "\n"
     ]
    },
    {
     "data": {
      "image/png": "[encoded data removed]",
      "text/plain": [
       "<Figure size 432x288 with 1 Axes>"
      ]
     },
     "metadata": {
      "needs_background": "light"
     },
     "output_type": "display_data"
    }
   ],
   "source": [
    "##==== code Version4\n",
    "import numpy as np\n",
    "import matplotlib.pyplot as plt\n",
    "\n",
    "new_array = []\n",
    "new_array2 = [] \n",
    "\n",
    "def time_sec(x):\n",
    "    def __init__(self):\n",
    "        self.x = x\n",
    "    hrs, mins, secs = x.split(\":\")\n",
    "    return float(hrs)*3600 + float(mins)*60 + float(secs)\n",
    "\n",
    "ironman_data = np.genfromtxt('2019 Ironman World Championship Results.csv', \n",
    "                             delimiter = ',', dtype = 'str', skip_header=1)\n",
    "\n",
    "#getting data into the array\n",
    "numeric_only = ironman_data[:,[6,7,8,9,13,14]]\n",
    "#doing clean up... instruction 2-4\n",
    "numeric_only = np.where(numeric_only=='', '0:0:0', numeric_only)\n",
    "numeric_only = np.where(numeric_only=='DNS', '0:0:0', numeric_only)\n",
    "numeric_only = np.where(numeric_only=='DNF', '0:0:0', numeric_only)\n",
    "numeric_only = np.where(numeric_only=='DQ', '0:0:0', numeric_only)\n",
    "\n",
    "#instruction 5\n",
    "numeric_only = np.array(numeric_only)\n",
    "numeric_only2 = np.array(numeric_only)\n",
    "\n",
    "#print(numeric_only)\n",
    "\n",
    "#cleaning up arrays, and changing time to hrs,min,sec\n",
    "for elements in numeric_only:\n",
    "    #e10,e11,e12,e13,e14 = elements[10], elements[11], elements[12], elements[13], elements[14]\n",
    "    e10,e11,e12,e13,e14,e15 = time_sec(elements[0]), time_sec(elements[1]), time_sec(elements[2]), time_sec(elements[3]), time_sec(elements[4]), time_sec(elements[5])\n",
    "    new_array.append([e10,e11,e12,e13,e14,e15])\n",
    "\n",
    "#print(np.shape(new_array))\n",
    "#print(new_array)\n",
    "\n",
    "## fix the usage of lambda function == FIXED!!!\n",
    "for elements in numeric_only2:\n",
    "    e10,e11,e12,e13,e14,e15 = elements[0], elements[1], elements[2], elements[3], elements[4], elements[5]\n",
    "    calc_array = [e10,e11,e12,e13,e14,e15]\n",
    "    result_array = list(map(lambda x:time_sec(x),calc_array))\n",
    "    new_array2.append(result_array)\n",
    "\n",
    "#print(np.shape(new_array2))\n",
    "#fixed it !!  ensure size is same ... \n",
    "\n",
    "#confirmed\n",
    "#print(new_array2[:5])\n",
    "## use np.vectorize to process data with function time_sec\n",
    "## this eliminates lines 32-45\n",
    "vfunc = np.vectorize(time_sec)\n",
    "numeric_data3 = vfunc(numeric_only2)  #same as time_sec( )\n",
    "## success!!!\n",
    "## print(f'Numeric_data\\n {numeric_data3}')\n",
    "\n",
    "#meanof0 = np.mean(result[:,0], axis=0) #prints first column only\n",
    "meanof0 = np.mean(new_array2, axis=0)  #calc mean of all columns \n",
    "\n",
    "#==result.mean(axis=0)  same as above\n",
    "print(\"Swim: \\t\\tBike:\\t\\tRun:\\t\\tOverall:\\t\\tT1:\\t\\tT2:\")\n",
    "print(\"=\"*45)\n",
    "print(f' Mean of:\\n{meanof0}\\n')\n",
    "\n",
    "medianof0 = np.median(new_array2, axis=0)  #calc median of all columns \n",
    "print(f' Median of:\\n{medianof0}\\n')\n",
    "\n",
    "stdof0 = np.std(new_array2, axis=0)    #calc std dev for all columns\n",
    "##result.std(axis=0)  same as above\n",
    "print(f' Std:\\n{stdof0}\\n')\n",
    "\n",
    "#print x and y labels\n",
    "plt.xlabel('Time Intervals')\n",
    "\n",
    "#plt.plot(new_array2[:,[0]])\n",
    "#plt.plot(new_array2[:,[1]])\n",
    "#plt.plot(new_array2[:,[2]])\n",
    "#plt.plot(new_array2[:,[3]])\n",
    "\n",
    "plt.plot(meanof0, label=\"Mean\")\n",
    "plt.plot(medianof0, label='Median')\n",
    "plt.plot(stdof0, label='Standard Deviation')\n",
    "plt.legend()\n",
    "plt.show()\n"
   ]
  },
  {
   "cell_type": "code",
   "execution_count": null,
   "metadata": {
    "id": "tq_P7XJbg9m3"
   },
   "outputs": [],
   "source": [
    "\n"
   ]
  },
  {
   "cell_type": "markdown",
   "metadata": {
    "id": "8UwNItEEZumw"
   },
   "source": [
    "## 8.5 Numpy arrays versus list speed (Follow)\n",
    "\n",
    "**Learning Objectives**\n",
    "1. Understand why numpy calculations are so much quicker than list applications.\n",
    "2. understand how to convert list applications to numpy applications.  "
   ]
  },
  {
   "cell_type": "code",
   "execution_count": 246,
   "metadata": {
    "id": "rJK5hahUg-sA"
   },
   "outputs": [
    {
     "name": "stdout",
     "output_type": "stream",
     "text": [
      "5.11 s ± 20.3 ms per loop (mean ± std. dev. of 7 runs, 1 loop each)\n",
      "134 ms ± 68.6 ms per loop (mean ± std. dev. of 7 runs, 1 loop each)\n"
     ]
    }
   ],
   "source": [
    "import random\n",
    "\n",
    "%timeit rolls_list = [random.randrange(1, 7) for i in range(0, 6_000_000)]\n",
    "\n",
    "%timeit rolls_array = np.random.randint(1, 7, 6_000_000)\n"
   ]
  },
  {
   "cell_type": "markdown",
   "metadata": {
    "id": "GkskHuEYgYjp"
   },
   "source": [
    "### As the above code executes, think about the following questions:\n",
    "\n",
    "1. What does the timeit magic word do?  calculates time of execution for each loop that occurs  \n",
    "2. How significant is the time savings for the numpy array?  graciously fast."
   ]
  },
  {
   "cell_type": "markdown",
   "metadata": {
    "id": "EekWWAJ1exkn"
   },
   "source": [
    "## 8.5 Numpy arrays versus list speed (Group)\n",
    "\n",
    "**Write a program that will do the following:**\n",
    "1. Take the ironman dataset from above and gather at least one of the times from the dataset.\n",
    "2. Gather the times in list form. You may use numpy to gather the items, but perform the mean calculation using lists.\n",
    "3. Compute the mean of the list.  \n",
    "4. Use either %timeit or %%time to find the time of execution.\n",
    "5. Compare this time to the time it takes to compute the mean using numpy.mean() above. \n",
    "6. Feel free to reuse code from above."
   ]
  },
  {
   "cell_type": "code",
   "execution_count": null,
   "metadata": {
    "id": "XxeBVRanhADN"
   },
   "outputs": [],
   "source": []
  },
  {
   "cell_type": "code",
   "execution_count": null,
   "metadata": {},
   "outputs": [],
   "source": []
  }
 ],
 "metadata": {
  "colab": {
   "authorship_tag": "ABX9TyPwfQAdJ/bOTEHH3UULH2zI",
   "collapsed_sections": [],
   "name": "WSK_Week 8 Solutions.ipynb",
   "provenance": []
  },
  "kernelspec": {
   "display_name": "Python 3 (ipykernel)",
   "language": "python",
   "name": "python3"
  },
  "language_info": {
   "codemirror_mode": {
    "name": "ipython",
    "version": 3
   },
   "file_extension": ".py",
   "mimetype": "text/x-python",
   "name": "python",
   "nbconvert_exporter": "python",
   "pygments_lexer": "ipython3",
   "version": "3.9.7"
  }
 },
 "nbformat": 4,
 "nbformat_minor": 1
}
