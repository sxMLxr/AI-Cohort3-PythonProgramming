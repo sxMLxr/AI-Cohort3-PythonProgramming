{
 "cells": [
  {
   "cell_type": "markdown",
   "id": "mdVuQT1mpQFy",
   "metadata": {
    "id": "mdVuQT1mpQFy"
   },
   "source": [
    "# Workshop 5 [Student]\n",
    "\n",
    "This notebook will cover the following topics:\n",
    "\n",
    "1. polymorphism\n",
    "2. Object composition\n",
    "3. list of objects\n",
    "4. stacks and queues"
   ]
  },
  {
   "cell_type": "markdown",
   "id": "njm6M9m0q_u7",
   "metadata": {
    "id": "njm6M9m0q_u7"
   },
   "source": [
    "## 5.1 Polymorphism (Follow):  \n",
    "\n",
    "**Learning Objectives:**\n",
    "\n",
    "    1. Understand how functions can have the same name but do different things\n",
    "    2. Understand how functions are called in inherited classes\n",
    "    3. Understand function overloading"
   ]
  },
  {
   "cell_type": "code",
   "execution_count": null,
   "id": "376b166d",
   "metadata": {
    "id": "376b166d"
   },
   "outputs": [],
   "source": [
    "#add comments to code\n",
    "\n",
    "class Mammal:\n",
    "    def __init__(self, species):\n",
    "        self.__species = species\n",
    "    \n",
    "    def show_species(self):\n",
    "        print('I am a', self.__species)\n",
    "    \n",
    "    def make_sound(self):\n",
    "        print('Grrrrr')\n",
    "\n",
    "\n",
    "class Dog(Mammal):\n",
    "    def __init__(self):\n",
    "        Mammal.__init__(self, 'Dog')\n",
    "        #super().__init__('Dog')\n",
    "        \n",
    "    def show_species(self):\n",
    "        print('I am take my human for walks')\n",
    "    \n",
    "    def make_sound(self):\n",
    "        print('Woof! Woof!')\n",
    "        #super().make_sound()  calls parent function.  cafeful using this.\n",
    "\n",
    "class Cat(Mammal):\n",
    "    def __init__(self):\n",
    "        Mammal.__init__(self, 'Cat')\n",
    "        #super().__init__('Cat')\n",
    "    #no def make_sound so revert to Parent_class\n",
    "    \n",
    "    def show_species(self):\n",
    "        print('I am the master of my human animal')\n"
   ]
  },
  {
   "cell_type": "code",
   "execution_count": null,
   "id": "bn-0BalZpowQ",
   "metadata": {
    "colab": {
     "base_uri": "https://localhost:8080/"
    },
    "id": "bn-0BalZpowQ",
    "outputId": "95a46b74-00cc-4dd8-82da-9c925f16d722"
   },
   "outputs": [],
   "source": [
    "def main():\n",
    "\n",
    "    mammal = Mammal('regular animal')\n",
    "    dog = Dog()\n",
    "    cat = Cat()\n",
    "\n",
    "    print('Here are some animals and')\n",
    "    print('the sounds they make.')\n",
    "    print('--------------------------')\n",
    "    show_mammal_info(mammal)\n",
    "    print()\n",
    "    show_mammal_info(dog)\n",
    "    print()\n",
    "    show_mammal_info(cat)\n",
    "\n",
    "\n",
    "def show_mammal_info(creature):\n",
    "    creature.show_species()\n",
    "    creature.make_sound()\n",
    "\n",
    "if __name__ == \"__main__\":\n",
    "     main()\n"
   ]
  },
  {
   "cell_type": "markdown",
   "id": "rjZZfD35sEuc",
   "metadata": {
    "id": "rjZZfD35sEuc"
   },
   "source": [
    "### While the above program executes, answer the following questions:\n",
    "\n",
    "1. Which make sound function gets executed when? the local class gets called, if there is no function - then parent class function gets called.\n",
    "2. What does the mammal.__init() function do in the dog and cat class?  Assignes parent class for inherit attributes. \n",
    "3. Write a function named show_species in the cat or dog class and have it do something different than the parent function.  "
   ]
  },
  {
   "cell_type": "markdown",
   "id": "Cl71XkItrBEj",
   "metadata": {
    "id": "Cl71XkItrBEj"
   },
   "source": [
    "## 5.1 Polymorphism (Group):  \n",
    "\n",
    "**Write a program that will do the following:**\n",
    "\n",
    "    1. Create a class person\n",
    "    2. Create a class customer\n",
    "    3. Person class has attributes name, address, and phone number\n",
    "    4. Customer class should have attributes customer number, purchase amount\n",
    "    5. All classes should have get and set methods for all attributes.\n",
    "    6. Use the super init method inside the customer class\n",
    "    7. Create a get info function for both classes that return everything in the object.\n",
    "    8. All attributes should be private."
   ]
  },
  {
   "cell_type": "code",
   "execution_count": null,
   "id": "3dec9c0e",
   "metadata": {
    "id": "3dec9c0e"
   },
   "outputs": [],
   "source": [
    "class person:\n",
    "    def __init__(self, name, addr, phnnum):\n",
    "        self.__name = name\n",
    "        self.__addr = addr\n",
    "        self.__phnnum = phnnum\n",
    "    \n",
    "    def get_name(self):\n",
    "        return self.__name\n",
    "        \n",
    "    def get_addr(self):\n",
    "        return self.__addr\n",
    "        \n",
    "    def get_phnnum(self):\n",
    "        return self.__phnnum\n",
    "    \n",
    "    def set_name(self, name):\n",
    "        self.__name = name\n",
    "        \n",
    "    def set_addr(self, addr):\n",
    "        self.__addr = addr\n",
    "        \n",
    "    def set_phnnum(self, phnnum):\n",
    "        self.__phnnum = phnnum\n",
    "        \n",
    "    \n",
    "    \n",
    "class customer(person):\n",
    "    def __init__(self, name, addr, phnnum, cust_num, purmnt):\n",
    "        super().__init__(name, addr, phnnum)\n",
    "        self.__cust_num = cust_num\n",
    "        self.__purmnt = purmnt\n",
    "\n",
    "    def get_cust_num(self):\n",
    "        return self.__cust_num\n",
    "        \n",
    "    def get_purmnt(self):\n",
    "        return self.__purmnt\n",
    "    \n",
    "    def set_cust_num(self, cust_num):\n",
    "        self.__cust_num = cust_num\n",
    "        \n",
    "    def set_purmnt(self, purmnt):\n",
    "        self.__purmnt = purmnt"
   ]
  },
  {
   "cell_type": "code",
   "execution_count": null,
   "id": "7gmulm3MprjY",
   "metadata": {
    "colab": {
     "base_uri": "https://localhost:8080/"
    },
    "id": "7gmulm3MprjY",
    "outputId": "33be9df5-176f-4f1e-86b2-5f302c97d7fa"
   },
   "outputs": [],
   "source": [
    "def main():\n",
    "    customer0 = customer(\"john\",\"1456 east st.\",\"1019758462\",\"123456\",\"1000\")\n",
    "    customer1 = customer(\"jake\", \"123 lane st\", \"4561237894\", \"456123\", \"1000.00\")\n",
    "    customer2 = customer(\"jane\", \"456 forest st\", \"1237894564\", \"789321\", \"100.00\")\n",
    "    print(\"customer info:\\n\")    \n",
    "    print_info(customer0)\n",
    "    print_info(customer1)\n",
    "    print_info(customer2)\n",
    "\n",
    "\n",
    "def print_info(customerinfo):\n",
    "    print(f'\\nname: {customerinfo.get_name()}\\naddr: {customerinfo.get_addr()}\\nphnnum: {customerinfo.get_phnnum()}')\n",
    "    print(f'customer#: {customerinfo.get_cust_num()}\\npaymentinfo: {customerinfo.get_purmnt()}\\ncustomerinfo: {customerinfo.get_cust_num()} ')\n",
    "    \n",
    "\n",
    "if __name__ == \"__main__\":\n",
    "     main()"
   ]
  },
  {
   "cell_type": "markdown",
   "id": "iLlWETsapgvY",
   "metadata": {
    "id": "iLlWETsapgvY"
   },
   "source": [
    "## 5.2 Object Composition (Follow):  \n",
    "\n",
    "**Learning Objectives:**\n",
    "\n",
    "    1. Understand how objects can reference other objects\n",
    "    2. Understand that objects can call functions inside other objects "
   ]
  },
  {
   "cell_type": "code",
   "execution_count": null,
   "id": "SjA7vcSRp1E5",
   "metadata": {
    "id": "SjA7vcSRp1E5"
   },
   "outputs": [],
   "source": [
    "#add comments to the code\n",
    "\n",
    "class Person:\n",
    "  def __init__(self, name, age, weight):\n",
    "    self.__name = name\n",
    "    self.__age = age\n",
    "    self.__weight = weight\n",
    "\n",
    "  def return_all(self):\n",
    "    string = f'Name: {self.__name}, Age: {self.__age}, Weight: {self.__weight}'\n",
    "    return string\n",
    "\n",
    "class F1_Driver:\n",
    "  def __init__(self, name, age, weight, team, wins):\n",
    "    self.__person = Person(name, age, weight) #makes more sense to keep this format\n",
    "    self.__team = team\n",
    "    self.__wins = wins\n",
    "\n",
    "  def get_team(self):\n",
    "    return self.__team\n",
    "\n",
    "  def get_wins(self):\n",
    "    return self.__wins\n",
    "\n",
    "  def return_all(self):\n",
    "        print(self.__person.return_all())\n",
    "        print(f'Team: {self.__team}, Wins: {self.__wins}')\n",
    "  \n",
    "  def add_win(self):\n",
    "        self.__wins += 1\n",
    "        return self.__wins\n"
   ]
  },
  {
   "cell_type": "code",
   "execution_count": null,
   "id": "AwD-Hjs8p115",
   "metadata": {
    "colab": {
     "base_uri": "https://localhost:8080/"
    },
    "id": "AwD-Hjs8p115",
    "outputId": "1da44dca-2afe-4b9e-ad7f-58659b731390"
   },
   "outputs": [],
   "source": [
    "if __name__ == \"__main__\":\n",
    "\n",
    "\n",
    "  name1 = \"Lewis Hamilton\"\n",
    "  name2 = \"Max Verstappen\"\n",
    "\n",
    "  age1 = 37\n",
    "  age2 = 24\n",
    "\n",
    "  weight1 = 146\n",
    "  weight2 = 144\n",
    "\n",
    "  team1 = \"Mercedes\"\n",
    "  team2 = \"Red Bull\"\n",
    "  \n",
    "  wins1 = 103\n",
    "  wins2 = 20\n",
    "\n",
    "  GOAT = F1_Driver(name1, age1, weight1, team1, wins1)\n",
    "  Youngster = F1_Driver(name2, age2, weight2, team2, wins2)\n",
    "\n",
    "  print(GOAT.get_team())\n",
    "  print(f'New Win calculated!! Total is now: {GOAT.add_win()}')\n",
    "  GOAT.return_all()\n",
    "  #print(GOAT.__person.return_all())  \n",
    "    "
   ]
  },
  {
   "cell_type": "markdown",
   "id": "AMl2yXaksT_t",
   "metadata": {
    "id": "AMl2yXaksT_t"
   },
   "source": [
    "### While the above program executes, answer the following questions:\n",
    "\n",
    "1. write functions in the appropriate places to return name, age, and weight.  Why did you have to put them there?  I put the function to return name age weight in the parent class, just seemed like a logical place to put it.\n",
    "2. Write a function to increment the number of wins for the driver.  Completed\n",
    "3. Write another function to return all known values for one object.  How did you accomplish this?  Via print statements and two function calls."
   ]
  },
  {
   "cell_type": "markdown",
   "id": "tWuOZ03Zp2Ls",
   "metadata": {
    "id": "tWuOZ03Zp2Ls"
   },
   "source": [
    "## 5.2 Object Composition (Group):  \n",
    "\n",
    "**Write a program that will do the following:**\n",
    "\n",
    "    1. Create a salary class.\n",
    "    2. The salary class should have attributes monthly income and bonus.\n",
    "    3. Create an employee class.\n",
    "    4. The salary class should have attributes employee ID, Object Salary, and job title\n",
    "    5. Create get and set methods for all variables.\n",
    "    6. Create a couple of objects and print the contents to the screen.\n",
    "    \n",
    "    "
   ]
  },
  {
   "cell_type": "code",
   "execution_count": null,
   "id": "QXqJ9WCyqBR1",
   "metadata": {
    "id": "QXqJ9WCyqBR1"
   },
   "outputs": [],
   "source": [
    "\n",
    "class salary:\n",
    "    def __init__(self, monthlyincome, bonus):\n",
    "        self.monthlyincome = monthlyincome\n",
    "        self.bonus = bonus\n",
    "        \n",
    "    def get_monthlyincome(self):\n",
    "        return self.monthlyincome\n",
    "    \n",
    "    def get_bonus(self):\n",
    "        return self.bonus\n",
    "        \n",
    "    def set_monthlyincome(self, monthlyincome):\n",
    "        self.monthlyincome = monthlyincome\n",
    "\n",
    "    def set_bonus(self, bonus):\n",
    "        self.bonus = bonus\n",
    "\n",
    "class employee:\n",
    "    def __init__(self, monthlyincome, bonus, employeeid, jobtitle):\n",
    "        self.salary = salary(monthlyincome, bonus) #object composition\n",
    "        self.employeeid = employeeid\n",
    "        self.jobtitle = jobtitle\n",
    "        \n",
    "    def set_employeeid(self, employeeid):\n",
    "        self.employeeid = employeeid\n",
    "    \n",
    "    def set_jobtitle(self, jobtitle): \n",
    "        self.jobtitle = jobtitle\n",
    "\n",
    "    def get_employeeid(self):\n",
    "        return self.employeeid\n",
    "        \n",
    "    def get_jobtitle(self): \n",
    "        return self.jobtitle\n",
    "        "
   ]
  },
  {
   "cell_type": "code",
   "execution_count": null,
   "id": "UUfsmbTKqDLJ",
   "metadata": {
    "colab": {
     "base_uri": "https://localhost:8080/"
    },
    "id": "UUfsmbTKqDLJ",
    "outputId": "ec5973ed-74c2-47d0-d276-a011171fe77b"
   },
   "outputs": [],
   "source": [
    "def main():\n",
    "\n",
    "    employee1 = employee(5000,4000, \"127654\", \"manager\")\n",
    "    employee2 = employee(4500, 250, \"987654\", \"supervisor\")\n",
    "    \n",
    "    print_info(employee1)\n",
    "    print_info(employee2)\n",
    "    \n",
    "def print_info(employeeinfo):\n",
    "    print(f'{employeeinfo.get_employeeid()}\\n{employeeinfo.get_jobtitle()}')\n",
    "    print(f'{employeeinfo.salary.get_bonus()}\\n')\n",
    "    \n",
    "    \n",
    "if __name__ == \"__main__\":\n",
    "        main()"
   ]
  },
  {
   "cell_type": "markdown",
   "id": "6majl1Bbq30B",
   "metadata": {
    "id": "6majl1Bbq30B"
   },
   "source": [
    "## 5.3 Lists of Objects (Follow):  \n",
    "\n",
    "**Learning Objectives:**\n",
    "\n",
    "    1. Understand how objects can be placed in lists.\n",
    "    2. Understand the usefulness of lists of objects.\n",
    "    "
   ]
  },
  {
   "cell_type": "code",
   "execution_count": null,
   "id": "e3uvsrjVrA0U",
   "metadata": {
    "id": "e3uvsrjVrA0U"
   },
   "outputs": [],
   "source": [
    "# add comments to the code\n",
    "\n",
    "class Contact():\n",
    "    def __init__(self, name, age):\n",
    "        self.__name = name\n",
    "        self.__age = age\n",
    "        \n",
    "    def get_name(self):\n",
    "        return self.__name\n",
    "    \n",
    "    def get_age(self):\n",
    "        return self.__age\n",
    "\n",
    "    "
   ]
  },
  {
   "cell_type": "code",
   "execution_count": null,
   "id": "faSFA6tqrBlo",
   "metadata": {
    "colab": {
     "base_uri": "https://localhost:8080/"
    },
    "id": "faSFA6tqrBlo",
    "outputId": "204ac9c5-a7f4-4b86-99bf-5ad859740e68",
    "scrolled": true
   },
   "outputs": [],
   "source": [
    "if __name__ == \"__main__\":\n",
    "  \n",
    "  contact_list = []\n",
    "\n",
    "  for i in range(9):\n",
    "    contact = Contact(\"I am contact \" + str(i) + \" of 9\", i)\n",
    "    contact_list.append(contact)\n",
    "    \n",
    "  for i in range(9):\n",
    "    print(contact_list[i].get_name(), contact_list[i].get_age())\n"
   ]
  },
  {
   "cell_type": "markdown",
   "id": "ZZSkEbxqsWXU",
   "metadata": {
    "id": "ZZSkEbxqsWXU"
   },
   "source": [
    "### While the above program executes, answer the following questions:\n",
    "\n",
    "1. What is actually in the list?  it has a list of two values: a string and age\"\n",
    "2. What does the line: contact = Contact(\"I am contact \" + str(i) + \" of 9\", i) do?  Writes a string \"I am contact X of 9, X\"  where x is the iterator.\n"
   ]
  },
  {
   "cell_type": "markdown",
   "id": "J9awaUcCrCYI",
   "metadata": {
    "id": "J9awaUcCrCYI"
   },
   "source": [
    "## 5.3 Lists of Objects (Group):  \n",
    "\n",
    "**Write a program that will do the following:**\n",
    "\n",
    "    1. Create class employee\n",
    "    2. Class employee should have attributes employee id, job title, monthly income, and name.\n",
    "    3. The employee class should have getter functions for all attributes.\n",
    "    4. Create a list with 10 employee objects.\n",
    "    5. Print the contents of list only printing the employee id.\n",
    "    6. For an added challenge, make employee ID random.  \n",
    "    7. You can also try printing the list of objects in different formats.\n"
   ]
  },
  {
   "cell_type": "code",
   "execution_count": 1,
   "id": "BXGtdH4PrLcx",
   "metadata": {
    "id": "BXGtdH4PrLcx"
   },
   "outputs": [
    {
     "name": "stdout",
     "output_type": "stream",
     "text": [
      "\n",
      "Employee Name: Jack\n",
      "Employee ID: EmployeeID_9337\n",
      "Job Title: Datacenter Technician\n",
      "Monthly Income: 4500\n",
      "\n",
      "Employee Name: John\n",
      "Employee ID: EmployeeID_5882\n",
      "Job Title: Datacenter Technician\n",
      "Monthly Income: 4500\n",
      "\n",
      "Employee Name: Moses\n",
      "Employee ID: EmployeeID_6721\n",
      "Job Title: Datacenter Technician\n",
      "Monthly Income: 4500\n",
      "\n",
      "Employee Name: April\n",
      "Employee ID: EmployeeID_7445\n",
      "Job Title: Datacenter Technician\n",
      "Monthly Income: 4500\n",
      "\n",
      "Employee Name: May\n",
      "Employee ID: EmployeeID_9609\n",
      "Job Title: Datacenter Technician\n",
      "Monthly Income: 4500\n",
      "\n",
      "Employee Name: Jen\n",
      "Employee ID: EmployeeID_600\n",
      "Job Title: Datacenter Technician\n",
      "Monthly Income: 4500\n",
      "\n",
      "Employee Name: June\n",
      "Employee ID: EmployeeID_3215\n",
      "Job Title: Datacenter Technician\n",
      "Monthly Income: 4500\n",
      "\n",
      "Employee Name: Sam\n",
      "Employee ID: EmployeeID_5216\n",
      "Job Title: Datacenter Technician\n",
      "Monthly Income: 4500\n",
      "\n",
      "Employee Name: Charles\n",
      "Employee ID: EmployeeID_9183\n",
      "Job Title: Datacenter Technician\n",
      "Monthly Income: 4500\n",
      "\n",
      "Employee Name: Greg\n",
      "Employee ID: EmployeeID_7655\n",
      "Job Title: Datacenter Technician\n",
      "Monthly Income: 4500\n",
      "\n",
      "Employee ID: EmployeeID_9337\n",
      "Job Title: Datacenter Technician\n",
      "Monthly Income: 4500\n",
      "\n",
      "Employee ID: EmployeeID_5882\n",
      "Job Title: Datacenter Technician\n",
      "Monthly Income: 4500\n",
      "\n",
      "Employee ID: EmployeeID_6721\n",
      "Job Title: Datacenter Technician\n",
      "Monthly Income: 4500\n",
      "\n",
      "Employee ID: EmployeeID_7445\n",
      "Job Title: Datacenter Technician\n",
      "Monthly Income: 4500\n",
      "\n",
      "Employee ID: EmployeeID_9609\n",
      "Job Title: Datacenter Technician\n",
      "Monthly Income: 4500\n",
      "\n",
      "Employee ID: EmployeeID_600\n",
      "Job Title: Datacenter Technician\n",
      "Monthly Income: 4500\n",
      "\n",
      "Employee ID: EmployeeID_3215\n",
      "Job Title: Datacenter Technician\n",
      "Monthly Income: 4500\n",
      "\n",
      "Employee ID: EmployeeID_5216\n",
      "Job Title: Datacenter Technician\n",
      "Monthly Income: 4500\n",
      "\n",
      "Employee ID: EmployeeID_9183\n",
      "Job Title: Datacenter Technician\n",
      "Monthly Income: 4500\n",
      "\n",
      "Employee ID: EmployeeID_7655\n",
      "Job Title: Datacenter Technician\n",
      "Monthly Income: 4500\n",
      "\n",
      "Employee ID: EmployeeID_9337\n",
      "Job Title: Datacenter Technician\n",
      "\n",
      "Employee ID: EmployeeID_5882\n",
      "Job Title: Datacenter Technician\n",
      "\n",
      "Employee ID: EmployeeID_6721\n",
      "Job Title: Datacenter Technician\n",
      "\n",
      "Employee ID: EmployeeID_7445\n",
      "Job Title: Datacenter Technician\n",
      "\n",
      "Employee ID: EmployeeID_9609\n",
      "Job Title: Datacenter Technician\n",
      "\n",
      "Employee ID: EmployeeID_600\n",
      "Job Title: Datacenter Technician\n",
      "\n",
      "Employee ID: EmployeeID_3215\n",
      "Job Title: Datacenter Technician\n",
      "\n",
      "Employee ID: EmployeeID_5216\n",
      "Job Title: Datacenter Technician\n",
      "\n",
      "Employee ID: EmployeeID_9183\n",
      "Job Title: Datacenter Technician\n",
      "\n",
      "Employee ID: EmployeeID_7655\n",
      "Job Title: Datacenter Technician\n"
     ]
    }
   ],
   "source": [
    "import random as rand\n",
    "\n",
    "class employee:\n",
    "    def __init__(self, employeeid, jobtitle, monthlyincome, name):\n",
    "        self.__employeeid = employeeid\n",
    "        self.__jobtitle = jobtitle\n",
    "        self.__monthlyincome = monthlyincome\n",
    "        self.__name = name\n",
    "    \n",
    "    def get_employeeid(self):\n",
    "        return self.__employeeid\n",
    "    \n",
    "    def get_jobtitle(self): \n",
    "        return self.__jobtitle\n",
    "\n",
    "    def get_monthlyincome(self):\n",
    "        return self.__monthlyincome\n",
    "        \n",
    "    def get_name(self): \n",
    "        return self.__name\n",
    "\n",
    "    def print_info(self):\n",
    "        #print(f'Employee Name: {emp_name.get_name()}\\n{emp_name.get_employeeid()}\\nJob Title: {emp_name.get_jobtitle()}\\nMonthlyIncome: {emp_name.get_monthlyincome()}\\n')\n",
    "        return '\\nEmployee Name: ' + self.get_name() + \\\n",
    "               '\\nEmployee ID: ' + str(self.get_employeeid()) + \\\n",
    "               '\\nJob Title: ' + str(self.get_jobtitle()) + \\\n",
    "               '\\nMonthly Income: ' + str(self.get_monthlyincome())\n",
    "\n",
    "    def print_info2(self):\n",
    "        #print(f'Employee Name: {emp_name.get_name()}\\n{emp_name.get_employeeid()}\\nJob Title: {emp_name.get_jobtitle()}\\nMonthlyIncome: {emp_name.get_monthlyincome()}\\n')\n",
    "        return '\\nEmployee ID: ' + str(self.get_employeeid()) + \\\n",
    "               '\\nJob Title: ' + str(self.get_jobtitle()) + \\\n",
    "               '\\nMonthly Income: ' + str(self.get_monthlyincome())\n",
    "\n",
    "    def print_info3(self):\n",
    "        #print(f'Employee Name: {emp_name.get_name()}\\n{emp_name.get_employeeid()}\\nJob Title: {emp_name.get_jobtitle()}\\nMonthlyIncome: {emp_name.get_monthlyincome()}\\n')\n",
    "        return '\\nEmployee ID: ' + str(self.get_employeeid()) + \\\n",
    "               '\\nJob Title: ' + str(self.get_jobtitle())\n",
    "    \n",
    "    \n",
    "def main():\n",
    "    employeeID = []\n",
    "    employees = [\"Jack\", \"John\", \"Moses\", \"April\", \"May\", \"Jen\", \"June\", \"Sam\", \"Charles\", \"Greg\"]\n",
    "    \n",
    "    for x in range(10):\n",
    "        randm = int(rand.random() * 10000)\n",
    "        employeerand = (f'EmployeeID_{randm}')\n",
    "        employeerand = employee(employeerand, \"Datacenter Technician\", 4500, employees[x])\n",
    "        employeeID.append(employeerand)\n",
    "    \n",
    "    for i in range(10):\n",
    "        print(employeeID[i].print_info())\n",
    "        \n",
    "    for i in range(10):\n",
    "        print(employeeID[i].print_info2())\n",
    "        \n",
    "    for i in range(10):\n",
    "        print(employeeID[i].print_info3())\n",
    "    \n",
    "\n",
    "if __name__ == \"__main__\":\n",
    "            main()\n"
   ]
  },
  {
   "cell_type": "code",
   "execution_count": null,
   "id": "5e2Wy-BLrMQC",
   "metadata": {
    "colab": {
     "base_uri": "https://localhost:8080/"
    },
    "id": "5e2Wy-BLrMQC",
    "outputId": "dba0f8d1-80d5-468a-a908-7ec483283001"
   },
   "outputs": [],
   "source": [
    "\n"
   ]
  },
  {
   "cell_type": "markdown",
   "id": "Z21hzYZNrMo3",
   "metadata": {
    "id": "Z21hzYZNrMo3"
   },
   "source": [
    "## 5.4 Stacks and Queues (Follow):  \n",
    "\n",
    "**Learning Objectives:**\n",
    "\n",
    "    1. Understand how stacks are implemented.\n",
    "    2. Understand how queques are implemented.\n",
    "    3. Understand the importance of stacks and queues in programming."
   ]
  },
  {
   "cell_type": "code",
   "execution_count": null,
   "id": "G5x9t35RrV-S",
   "metadata": {
    "colab": {
     "base_uri": "https://localhost:8080/"
    },
    "id": "G5x9t35RrV-S",
    "outputId": "3d706715-4d93-4f65-ee58-4b2a51da2b60"
   },
   "outputs": [],
   "source": [
    "#add comments to the code\n",
    " \n",
    "stack = []\n",
    " \n",
    "stack.append('a')\n",
    "stack.append('b')\n",
    "stack.append('c')\n",
    " \n",
    "print('Initial stack')\n",
    "print(stack)\n",
    " \n",
    "print('\\nElements popped from stack:')\n",
    "print(stack.pop())\n",
    "print(stack.pop())\n",
    "print(stack.pop())\n",
    " \n",
    "print('\\nStack after elements are popped:')\n",
    "print(stack)\n",
    " \n"
   ]
  },
  {
   "cell_type": "code",
   "execution_count": 9,
   "id": "hN3blzfOra_J",
   "metadata": {
    "colab": {
     "base_uri": "https://localhost:8080/"
    },
    "id": "hN3blzfOra_J",
    "outputId": "fc41ac8b-a76c-415e-8591-e53eebe6c06c"
   },
   "outputs": [
    {
     "name": "stdout",
     "output_type": "stream",
     "text": [
      "Initial queue\n",
      "['a', 'b', 'c']\n",
      "\n",
      "Elements dequeued from queue\n",
      "a\n",
      "\n",
      "Queue after removing elements\n",
      "['b', 'c']\n"
     ]
    }
   ],
   "source": [
    "#add comments to the code\n",
    "\n",
    "queue = []\n",
    " \n",
    "queue.append('a')\n",
    "queue.append('b')\n",
    "queue.append('c')\n",
    " \n",
    "print(\"Initial queue\")\n",
    "print(queue)\n",
    " \n",
    "print(\"\\nElements dequeued from queue\")\n",
    "print(queue.pop(0))\n",
    "print(queue)\n",
    "print(queue.pop(0))\n",
    "print(queue)\n",
    "print(queue.pop(0))  ''' . pop(index) to remove item in the indexed list'''\n",
    "\n",
    "print(\"\\nQueue after removing elements\")\n",
    "print(queue)\n",
    " "
   ]
  },
  {
   "cell_type": "markdown",
   "id": "tmprS5USsZB_",
   "metadata": {
    "id": "tmprS5USsZB_"
   },
   "source": [
    "### While the above program executes, answer the following questions:\n",
    "\n",
    "1. Put print statements between each pop and explain the results. First item is removed... print shows results of remaining items.\n",
    "2. Where is an example you have seen a stack or queue used in real-life?  Grocery List.\n",
    "3. What is the order that the items are put into the queue/stack and taken out?  queues FIFO, stacks LIFO"
   ]
  },
  {
   "cell_type": "markdown",
   "id": "WoDukkV3rbRw",
   "metadata": {
    "id": "WoDukkV3rbRw"
   },
   "source": [
    "## 5.4 Stacks and Queues (Group):  \n",
    "\n",
    "**Write a program that will do the following:**\n",
    "\n",
    "    1. Create an employee class.\n",
    "    2. The employee class should have attributes name and employee ID\n",
    "    3. Create at least three employee objects.\n",
    "    4. Push the objects into a queue and stack.\n",
    "    5. Remove the employees from the stack and queue until both are empty.\n",
    "    6. Print the orders of both employee objects. "
   ]
  },
  {
   "cell_type": "code",
   "execution_count": 46,
   "id": "utKkoMXkreOu",
   "metadata": {
    "id": "utKkoMXkreOu"
   },
   "outputs": [
    {
     "name": "stdout",
     "output_type": "stream",
     "text": [
      "Initial queue\n",
      "jack id_135745\n",
      "jill id_745654\n",
      "john id_456745\n",
      "\n",
      "Elements dequeued from queue\n",
      "jack id_135745\n",
      "jill id_745654\n",
      "john id_456745\n",
      "\n",
      "Queue after removing elements\n",
      "[]\n"
     ]
    }
   ],
   "source": [
    "class employee:\n",
    "    def __init__(self, name, empID):\n",
    "        self.__name = name\n",
    "        self.__empID = empID\n",
    "    \n",
    "    def get_name(self):\n",
    "        print(f'{self.__name} {self.__empID}')\n",
    "    \n",
    "def main():    \n",
    "    queue = []\n",
    "    \n",
    "    id_1 = employee(\"jack\", \"id_135745\")\n",
    "    id_2 = employee(\"jill\", \"id_745654\")\n",
    "    id_3 = employee(\"john\", \"id_456745\")\n",
    "\n",
    "    queue.append(id_1)\n",
    "    queue.append(id_2)\n",
    "    queue.append(id_3)\n",
    "\n",
    "    print(\"Initial queue\")\n",
    "    queue[0].get_name()\n",
    "    queue[1].get_name()\n",
    "    queue[2].get_name()\n",
    "\n",
    "    print(\"\\nElements dequeued from queue\")\n",
    "    x=0\n",
    "    while x < 3:\n",
    "        queue[0].get_name()\n",
    "        queue.pop(0)\n",
    "        x+=1\n",
    "\n",
    "    print(\"\\nQueue after removing elements\")\n",
    "    print(queue)\n",
    "\n",
    "if __name__ == \"__main__\":\n",
    "    main()\n",
    "    "
   ]
  },
  {
   "cell_type": "code",
   "execution_count": 48,
   "id": "sD5qnkuYrfRP",
   "metadata": {
    "colab": {
     "base_uri": "https://localhost:8080/"
    },
    "id": "sD5qnkuYrfRP",
    "outputId": "219ed508-a740-4177-bf97-40a13b04c578"
   },
   "outputs": [
    {
     "name": "stdout",
     "output_type": "stream",
     "text": [
      "Initial stack\n",
      "jack id_135745\n",
      "jill id_745654\n",
      "john id_456745\n",
      "\n",
      "Elements popped from stack:\n",
      "length of stack is: 3, id_0\n",
      "length of stack is: 3, id_1\n",
      "length of stack is: 3, id_2\n",
      "length of stack is: 2, id_0\n",
      "length of stack is: 2, id_1\n",
      "length of stack is: 1, id_0\n",
      "\n",
      "Stack after elements are popped:\n",
      "[]\n"
     ]
    }
   ],
   "source": [
    "class employee:\n",
    "    def __init__(self, name, empID):\n",
    "        self.__name = name\n",
    "        self.__empID = empID\n",
    "    \n",
    "    def get_name(self):\n",
    "        print(f'{self.__name} {self.__empID}')\n",
    "    \n",
    "def main():    \n",
    "    stack = []\n",
    "    \n",
    "    id_1 = employee(\"jack\", \"id_135745\")\n",
    "    id_2 = employee(\"jill\", \"id_745654\")\n",
    "    id_3 = employee(\"john\", \"id_456745\")\n",
    "\n",
    "    stack.append(id_1)\n",
    "    stack.append(id_2)\n",
    "    stack.append(id_3)\n",
    "\n",
    "    print('Initial stack')\n",
    "    stack[0].get_name()\n",
    "    stack[1].get_name()\n",
    "    stack[2].get_name()\n",
    "\n",
    "    print('\\nElements popped from stack:')\n",
    "    x=2\n",
    "    while x >= 0:\n",
    "        for y in range(len(stack)):\n",
    "            z = f'id_{y}'\n",
    "            print(f'length of stack is: {len(stack)}, {z}')\n",
    "        stack.pop()\n",
    "        x-=1\n",
    "    \n",
    "    print('\\nStack after elements are popped:')\n",
    "    print(stack)\n",
    "\n",
    "if __name__ == \"__main__\":\n",
    "    main()"
   ]
  },
  {
   "cell_type": "markdown",
   "id": "bti2P433Fib2",
   "metadata": {
    "id": "bti2P433Fib2"
   },
   "source": [
    "## 5.5 Mini Project (Group):  \n",
    "\n",
    "**Write a program that will do the following:**\n",
    "\n",
    "    1. Try to use the material you have been learning to create a program that will be usefule to your life/work.\n",
    "    2. Try to use classes and objects.\n",
    "    3. Try to use these objects to store and process information."
   ]
  },
  {
   "cell_type": "code",
   "execution_count": 118,
   "id": "kGIk56AbDovt",
   "metadata": {
    "id": "kGIk56AbDovt"
   },
   "outputs": [
    {
     "name": "stdout",
     "output_type": "stream",
     "text": [
      "This is a simple hex program....\n",
      "What number to convert?\n",
      "Type a number of value from 0-9 A-FA\n",
      "Type a number of value from 0-9 A-FB\n",
      "Type a number of value from 0-9 A-F0\n",
      "Type a number of value from 0-9 A-F1\n",
      "Type a number of value from 0-9 A-FF\n",
      "A is: 1010 in hex\n",
      "B is: 1011 in hex\n",
      "0 is: 0000 in hex\n",
      "1 is: 0001 in hex\n",
      "F is: 1111 in hex\n",
      "\n",
      "\n",
      "A\n",
      "B\n",
      "0\n",
      "1\n",
      "F\n"
     ]
    }
   ],
   "source": [
    "class hex_it:\n",
    "    def __init__(self, string):\n",
    "        self.__string = string\n",
    "    \n",
    "    def get_item(self):\n",
    "        return self.__string\n",
    "\n",
    "    def convert_to_hex_int(self):\n",
    "        if int(self.__string) == 0:\n",
    "            return \"0000\"\n",
    "        elif int(self.__string) == 1:\n",
    "            return \"0001\"\n",
    "        elif int(self.__string) == 2:\n",
    "            return \"0010\"\n",
    "        elif int(self.__string) == 3:\n",
    "            return \"0011\"\n",
    "        elif int(self.__string) == 4:\n",
    "            return \"0100\"\n",
    "        elif int(self.__string) == 5:\n",
    "            return \"0101\"\n",
    "        elif int(self.__string) == 6:\n",
    "            return \"0110\"    \n",
    "        elif int(self.__string) == 7:\n",
    "            return \"0111\"    \n",
    "        elif int(self.__string) == 8:\n",
    "            return \"1000\"    \n",
    "        else: #assume 9\n",
    "        #int(self.__string) == 9:\n",
    "            return \"1001\"\n",
    "        \n",
    "    def convert_to_hex(self):\n",
    "        #return self.__string\n",
    "        if self.__string == \"A\":\n",
    "            return \"1010\"    \n",
    "        elif self.__string == \"B\":\n",
    "            return \"1011\"    \n",
    "        elif self.__string == \"C\":\n",
    "            return \"1100\"\n",
    "        elif self.__string == \"D\":\n",
    "            return \"1101\"    \n",
    "        elif self.__string == \"E\":\n",
    "            return \"1110\"    \n",
    "        elif self.__string == \"F\":\n",
    "            return \"1111\"\n",
    "        else: \n",
    "            return hex_it.convert_to_hex_int(self)\n",
    "    \n",
    "    \n",
    "def main():\n",
    "    storedvalues = []\n",
    "    \n",
    "    print(\"This is a simple hex program....\\nWhat number to convert?\")\n",
    "\n",
    "    for x in range(5):\n",
    "        valuetoconvert = (input(f'Type a number of value from 0-9 A-F:  '))\n",
    "        #print(type(valuetoconvert))\n",
    "        valuetoconvert = hex_it(valuetoconvert)\n",
    "        storedvalues.append(valuetoconvert)\n",
    "\n",
    "    for x in range(5):\n",
    "        print(f'{storedvalues[x].get_item()} is: {storedvalues[x].convert_to_hex()} in hex')\n",
    "    \n",
    "    print('Stored values: \\n')\n",
    "    for x in range(len(storedvalues)):\n",
    "        print(storedvalues[x].get_item())\n",
    "    \n",
    "if __name__ == \"__main__\":\n",
    "    main()"
   ]
  },
  {
   "cell_type": "code",
   "execution_count": null,
   "id": "d8dd8951",
   "metadata": {},
   "outputs": [],
   "source": []
  }
 ],
 "metadata": {
  "colab": {
   "collapsed_sections": [],
   "name": "WSK Week 5 Solutions.ipynb",
   "provenance": []
  },
  "kernelspec": {
   "display_name": "Python 3 (ipykernel)",
   "language": "python",
   "name": "python3"
  },
  "language_info": {
   "codemirror_mode": {
    "name": "ipython",
    "version": 3
   },
   "file_extension": ".py",
   "mimetype": "text/x-python",
   "name": "python",
   "nbconvert_exporter": "python",
   "pygments_lexer": "ipython3",
   "version": "3.9.7"
  }
 },
 "nbformat": 4,
 "nbformat_minor": 5
}
