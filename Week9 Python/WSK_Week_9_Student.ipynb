{
 "cells": [
  {
   "cell_type": "markdown",
   "metadata": {
    "id": "381kUR5scNTM"
   },
   "source": [
    "# Workshop Week 9 [Student]\n",
    "\n",
    "This notebook will cover the follwoing topics:\n",
    "\n",
    "1. Numpy shallow and deep copies\n",
    "2. Panda series\n",
    "3. Dataframes contruction and creation \n",
    "4. Pandas file reading and statistics basics\n",
    "5. Pandas project\n"
   ]
  },
  {
   "cell_type": "markdown",
   "metadata": {
    "id": "m5UcYeB0cNfg"
   },
   "source": [
    "## 9.1 Numpy shallow and deep copies (Follow)\n",
    "\n",
    "**Learning Objectives:**\n",
    "1. Understand the difference between shallow and deep copies.\n",
    "2. Understand when it is appropriate to use shallow and deep copies."
   ]
  },
  {
   "cell_type": "code",
   "execution_count": null,
   "metadata": {
    "colab": {
     "base_uri": "https://localhost:8080/"
    },
    "id": "q4Dr-ZdCFZhB",
    "outputId": "a9eb8f99-516a-4872-a8da-738a6cc697d8"
   },
   "outputs": [],
   "source": [
    "# add comments to the code\n",
    "\n",
    "import numpy as np\n",
    "\n",
    "numbers = np.arange(1, 6)\n",
    "numbers2 = numbers.view() #referenced copy of the original array, changes made to this will refect on original\n",
    "\n",
    "print(id(numbers))\n",
    "print(id(numbers2), '\\n')\n",
    "\n",
    "numbers *= 10\n",
    "\n",
    "print(numbers, '\\n')\n",
    "print(numbers2, '\\n')\n",
    "\n",
    "\n",
    "numbers2 += 10\n",
    "\n",
    "print(numbers, '\\n')\n",
    "print(numbers2, '\\n')\n",
    "\n",
    "\n",
    "numbers3 = np.arange(1, 6)\n",
    "numbers4 = numbers3.copy() # new array, independent of view, or referenced array, \n",
    "                           # changes will occur only to this array\n",
    "\n",
    "print(numbers3, '\\n')\n",
    "print(numbers4, '\\n')\n",
    "\n",
    "numbers3 *= 5\n",
    "\n",
    "print(numbers3, '\\n'\n",
    "print(numbers4, '\\n')\n",
    "\n"
   ]
  },
  {
   "cell_type": "markdown",
   "metadata": {
    "id": "_HDY3Q8qDlFD"
   },
   "source": [
    "### As the above code executes, think about the following questions:\n",
    "\n",
    "1. What is the difference between a shallow and deep copy? Shallow copy is referenced copy, while deep is a copy of the array and has no reference.\n",
    "2. What would be a situation where a shallow copy would be prefered?  quick computations and comparison math or logic.\n",
    "3. What would be a situation where a deep copy would be preferred?  when outputing a static result, that can be saved for later utilization or written to disk."
   ]
  },
  {
   "cell_type": "markdown",
   "metadata": {
    "id": "Z1I2_sbIESlp"
   },
   "source": [
    "## 9.1 Numpy shallow and deep copies (Group)\n",
    "\n",
    "**Write a program that will do the following:**\n",
    "1. Create a tree of numpy arrays.\n",
    "2. The tree should have at least 5 numpy arrays.\n",
    "3. The tree should be a binary tree.\n",
    "4. Each node of the tree should be generated from the parent. \n",
    "5. The child should be 2 times the values for the parent.\n",
    "6. For example: if parent node = ([1, 2, 3]), the child should be = ([2, 4, 6])\n",
    "7. Gather the arrays in a list and traverse them in the method of your choosing.\n",
    "8. Print the results to the screen.\n",
    "9. Try to use deep and/or shallow copies to accomplish this task.\n",
    "10. Try to do this in an iterative fashion.\n"
   ]
  },
  {
   "cell_type": "code",
   "execution_count": null,
   "metadata": {
    "colab": {
     "base_uri": "https://localhost:8080/"
    },
    "id": "N18Nxw72FavU",
    "outputId": "b659a505-e6a3-4cd0-97f0-8c1195a4607a"
   },
   "outputs": [],
   "source": [
    "\n",
    "\n",
    "import copy\n",
    "import numpy as np\n",
    "\n",
    "\n",
    "class Node:\n",
    "    def __init__(self, data):\n",
    "        self.left = None\n",
    "        self.right = None\n",
    "        self.data = data\n",
    "        \n",
    "    def PrintTree(self): \n",
    "        #left \n",
    "        if self.left:\n",
    "            self.left.PrintTree()\n",
    "        print( self.data ,end=\" \"),  #corrected formatting added space to print single line\n",
    "        #right\n",
    "        if self.right:\n",
    "            self.right.PrintTree()\n",
    "    \n",
    "        \n",
    "    def addnode(self, data):\n",
    "        if self.data:\n",
    "            if data < self.data:  #Left\n",
    "                if self.left is None:\n",
    "                    self.left = Node(data)\n",
    "                    #find first node, root\n",
    "                else:\n",
    "                    self.left.addnode(data)\n",
    "            elif data > self.data:  #right\n",
    "                if self.right is None:\n",
    "                    self.right = Node(data)\n",
    "                    #find first node, root\n",
    "                else:\n",
    "                    self.right.addnode(data)\n",
    "        else:\n",
    "            self.data = data\n",
    "            \n",
    "rootnum = 30\n",
    "twoXtree = []\n",
    "root = Node(rootnum)\n",
    "\n",
    "#add nodes with requirement child should be two times value of parent\n",
    "#next numeral should be root *n\n",
    "RootNumber = root.PrintTree()\n",
    "\n",
    "#build our list of 2x\n",
    "for i in range(13):\n",
    "    twoXtree.append(i*rootnum)\n",
    "    print(i * rootnum, end=\" \")\n",
    "    \n",
    "    \n",
    "for x in range(4,2,-1):\n",
    "    root.addnode(twoXtree[x])\n",
    "    \n",
    "root.PrintTree()\n",
    "  "
   ]
  },
  {
   "cell_type": "markdown",
   "metadata": {
    "id": "_yJwEoH9cNiY"
   },
   "source": [
    "## 9.2 Panda Series (Follow)\n",
    "\n",
    "**Learning Objectives:**\n",
    "1. Understand how to manipulate and create panda series.\n",
    "2. Understand how panda series are different from numpy arrays."
   ]
  },
  {
   "cell_type": "code",
   "execution_count": null,
   "metadata": {
    "colab": {
     "base_uri": "https://localhost:8080/"
    },
    "id": "LDOQKxmiFbvc",
    "outputId": "bfbb0702-c9e1-4282-f4fc-9c685ae507c6"
   },
   "outputs": [],
   "source": [
    "# add comments to the code\n",
    "\n",
    "import pandas as pd\n",
    "\n",
    "grades = pd.Series([87, 100, 94])  #pandas declaration of an array as a series\n",
    "print(grades)\n",
    "print(grades[0])\n",
    "\n",
    "#print(grades.count(), '\\n')\n",
    "#print(grades.mean(), '\\n')\n",
    "#print(grades.min(), '\\n')\n",
    "#print(grades.max(), '\\n')\n",
    "#print(grades.describe(), '\\n')\n",
    "#print(grades.describe()[0], '\\n')\n",
    "#print(grades.describe()['std'], '\\n')\n",
    "print(grades.describe()[:2], ' ')\n",
    "\n",
    "grades = pd.Series([87, 100, 94], index = ['Wally', 'Eva', 'Sam'])\n",
    "print(grades, '\\n')\n",
    "grades = pd.Series({'Wally': 87, 'Eva': 100, 'Sam': 94})\n",
    "print(grades['Eva'], '\\n')\n",
    "print(grades.Wally, '\\n')"
   ]
  },
  {
   "cell_type": "markdown",
   "metadata": {
    "id": "xFQYnFpcDqw7"
   },
   "source": [
    "### As the above code executes, think about the following questions:\n",
    "\n",
    "1. How is a pandas series different/same as a numpy array?  follows same formatting.\n",
    "2. What do the .count(), .mean(), ... functions do?  count counts the total elements, mean performs an average of columns.\n",
    "3. What is meant by pandas supports custom indexing?  pandas can be used to create an index that can be alpha-numeric"
   ]
  },
  {
   "cell_type": "markdown",
   "metadata": {
    "id": "4t_NLAurETTp"
   },
   "source": [
    "## 9.2 Panda Series (Group)\n",
    "\n",
    "**Write a program that will do the following:**\n",
    "1. Create a NUMPY array of random integers.  \n",
    "2. The array should have at least 10 elements.\n",
    "3. Convert the array to a panda series.\n",
    "4. Produce descriptive statistics for the series.\n",
    "5. As an added challenge, try to make the numpy array always return the same values."
   ]
  },
  {
   "cell_type": "code",
   "execution_count": null,
   "metadata": {
    "colab": {
     "base_uri": "https://localhost:8080/"
    },
    "id": "TZ8o6UdLFczR",
    "outputId": "387c5657-9e1c-4488-d126-645650443742"
   },
   "outputs": [],
   "source": [
    "import numpy as np\n",
    "import pandas as pd\n",
    "\n",
    "np.random.seed(12)  #keeps randomization to return same values\n",
    "array1 = np.random.randint(1,100,10)\n",
    "#print(array1)\n",
    "array2 = pd.Series(array1)\n",
    "print(array2)\n",
    "\n",
    "array2.describe()"
   ]
  },
  {
   "cell_type": "code",
   "execution_count": null,
   "metadata": {},
   "outputs": [],
   "source": [
    "import numpy as np\n",
    "import pandas as pd\n",
    "\n",
    "randnums= np.random.randint(1,101,10)\n",
    "\n",
    "print(randnums)\n",
    "\n",
    "df = pd.Series(randnums)\n",
    "df.head()\n",
    "df = pd.DataFrame(df)\n",
    "print(df)"
   ]
  },
  {
   "cell_type": "markdown",
   "metadata": {
    "id": "KNh1o6DgcNsT"
   },
   "source": [
    "## 9.3 Dataframes construction and creation (Follow)\n",
    "\n",
    "**Learning Objectives:**\n",
    "1. Understand how dataframes are created.\n",
    "2. Understand how dataframes are used.\n",
    "3. Understand how to manipulate dataframes."
   ]
  },
  {
   "cell_type": "code",
   "execution_count": null,
   "metadata": {
    "colab": {
     "base_uri": "https://localhost:8080/"
    },
    "id": "Zvtq6olLFdt3",
    "outputId": "af9b89ad-2936-4139-d471-aeea372038bf"
   },
   "outputs": [],
   "source": [
    "import pandas as pd\n",
    "\n",
    "grades_dict = {'Wally': [87, 96, 70, 90], 'Eva': [100, 87, 90, 92], \n",
    "               'Sam': [94, 77, 90, 89], 'Katie': [100, 81, 82, 85],\n",
    "               'Bob': [83, 65, 85, 78]}\n",
    "\n",
    "grades = pd.DataFrame(grades_dict)\n",
    "print(grades, '\\n')\n",
    "grades.index = ['Test1', 'Test2', 'Test3', 'Test4']\n",
    "print(grades, '\\n')\n",
    "print(grades['Eva'], '\\n')\n",
    "\n",
    "print('='*10, \"loc\", '='*10)\n",
    "print(grades.loc['Test1'], '\\n')\n",
    "print('='*10,\"iloc\",'='*10)\n",
    "print(grades.iloc[1], '\\n')\n",
    "print(grades.iloc[1:3], '\\n')\n",
    "\n",
    "\n",
    "print(grades.loc['Test1': 'Test3'])"
   ]
  },
  {
   "cell_type": "code",
   "execution_count": null,
   "metadata": {
    "id": "8x7gF2rGDrz4"
   },
   "outputs": [],
   "source": [
    "### As the above code executes, think about the following questions:\n",
    "\n",
    "1. What is a dataframe and how is it different/same from a series or numpy array?\n",
    "    \n",
    "2. What does the loc function do? elemental reference\n",
    "3. What does the iloc function do? index reference\n"
   ]
  },
  {
   "cell_type": "markdown",
   "metadata": {
    "id": "AhAsxr7eE9zY"
   },
   "source": [
    "## 9.3 Dataframes construction and creation (Group)\n",
    "\n",
    "**Write a program that will do the following:**\n",
    "1. Create a dataframe with employees, job title, salary, and years worked.\n",
    "2. There should be at least 5 entries.\n",
    "3. Add indexes to the rows so when you print the dataframe it will display properly.\n",
    "4. Try writing commands using iloc and loc to extract different rows and columns from the dataframe.\n",
    "5. You may be asked to share things you did.\n"
   ]
  },
  {
   "cell_type": "code",
   "execution_count": null,
   "metadata": {
    "colab": {
     "base_uri": "https://localhost:8080/"
    },
    "id": "1D97tqYfFfeD",
    "outputId": "dea7dfb5-dfdf-4bec-df2f-fc4792cf2c16"
   },
   "outputs": [],
   "source": [
    "import pandas as pd\n",
    "\n",
    "employees_dict = {'Wally': ['Shipping', 96000, 20], 'Eva': ['HR', 85000, 30], \n",
    "               'Sam': ['Mailroom', 77000, 10], 'Katie': ['HRAssistant', 81000, 22],\n",
    "               'Bob': ['ITSup', 65000, 15]}\n",
    "\n",
    "employees = pd.DataFrame(employees_dict)\n",
    "#print(employees, '\\n')\n",
    "employees.index = ['Job Title', 'Salary', 'Yrs ']\n",
    "\n",
    "print(employees,'\\n')\n",
    "print(employees.loc['Salary'],'\\n')\n",
    "print(employees.iloc[2],'\\n')\n"
   ]
  },
  {
   "cell_type": "markdown",
   "metadata": {
    "id": "i8c32pvQcNvG"
   },
   "source": [
    "## 9.4 Pandas file reading and statistics basics (Follow)\n",
    "\n",
    "**Learning Objectives:**\n",
    "1. Understand what statistics can be easily found using pandas.\n",
    "2. Understand how those statistics can be used."
   ]
  },
  {
   "cell_type": "code",
   "execution_count": null,
   "metadata": {
    "id": "iv3LUim-Fghe"
   },
   "outputs": [],
   "source": [
    "# Add comments to the code\n",
    "\n",
    "import pandas as pd\n",
    "\n",
    "df = pd.read_csv('Raisin_Dataset.csv')\n",
    "\n",
    "#print(df)\n",
    "#print(df['Area']) \n",
    "\n",
    "#df2 = df['Area']  #selects area column\n",
    "\n",
    "#df.drop('Area', inplace=True, axis=1)  #drops area column\n",
    "\n",
    "#print(df)\n",
    "\n",
    "print(df['MinorAxisLength'].mean())\n",
    "\n",
    "#print(df[df['Class'] == 'Besni'])  #df doesnt get changed only the output of \"class\" with values Besni get outputted\n",
    "#print(df)\n",
    "\n",
    "#print(\"prints df with 'AREA' removed from data \\n{}\".format(df))\n",
    "#print(\"prints df2 as singular column of data \\n{}\".format(df2))"
   ]
  },
  {
   "cell_type": "markdown",
   "metadata": {
    "id": "AzjeRXfsDs6V"
   },
   "source": [
    "### As the above code executes, think about the following questions:\n",
    "\n",
    "1. What does df['Area'] do?   extracts only the column data 'Area'\n",
    "2. What does the inplace=True do in line 13?  drops the column from the df data set\n",
    "3. What does line 18 do?   #df doesnt get changed only the output of \"class\" value"
   ]
  },
  {
   "cell_type": "markdown",
   "metadata": {
    "id": "_jZq-YD_FIhB"
   },
   "source": [
    "## 9.4 Pandas file reading and statistics basics (Group)\n",
    "\n",
    "**Write a porgram that will do the following:**\n",
    "1. Take the raisins dateset and break it into 2 datasets by class label.\n",
    "2. One dataset should be the Kecimen class and the second should be the Besni class.\n",
    "3. Find the mean of each column in the two new datasets.\n",
    "4. Find the standard deviation for each column of the dataset.\n",
    "5. Which column best predicts the class label?\n"
   ]
  },
  {
   "cell_type": "code",
   "execution_count": null,
   "metadata": {
    "id": "1S6fIJ-qFhf3"
   },
   "outputs": [],
   "source": [
    "import pandas as pd  \n",
    "##most efficient code\n",
    "\n",
    "df = pd.read_csv('Raisin_Dataset.csv')\n",
    "\n",
    "df2 = df.groupby(by=\"Class\", dropna=False).mean()\n",
    "df3 = df.groupby(by=\"Class\", dropna=False).std()\n",
    "\n",
    "print(\"Mean of Class:\\n {}\".format(df2))\n",
    "print(\"\\nSTD of Class:\\n {}\".format(df3))\n"
   ]
  },
  {
   "cell_type": "code",
   "execution_count": null,
   "metadata": {},
   "outputs": [],
   "source": [
    "###version 2 code doing it the long way:\n",
    "##because i need practice\n",
    "import pandas as pd\n",
    "df = pd.read_csv('Raisin_Dataset.csv')\n",
    "\n",
    "df4b = df[df['Class'] == 'Besni']\n",
    "df4k = df[df['Class'] == 'Kecimen']\n",
    "\n",
    "df4b.drop('Class', inplace=True, axis=1)  #drops class column cause we know what it is\n",
    "df4k.drop('Class', inplace=True, axis=1)  #drops class column cause we know what it is\n",
    "\n",
    "print(f' =====Besni:   =====MEAN:  \\n {df4b.mean()}')\n",
    "print(f' =====Kecimen:   =====MEAN:  \\n {df4k.mean()}')\n",
    "print(f' =====Besni:   =====STD:  \\n {df4b.std()}')\n",
    "print(f' =====Kecimen   =====STD:  :\\n {df4k.std()}')"
   ]
  },
  {
   "cell_type": "markdown",
   "metadata": {
    "id": "IZlevFMKDbt1"
   },
   "source": [
    "## 9.5 Pandas project (Group)\n",
    "\n",
    "**Write a program that will do the following:**\n",
    "1. Read in the team summaries datset included.  \n",
    "2. Do some basic statistical analysis.  \n",
    "3. Try to create an argument to determine the best NBA team of all time.  \n",
    "4. You may also use a different dataset and do a different analysis. \n",
    "5. Use the pandas library in your project."
   ]
  },
  {
   "cell_type": "code",
   "execution_count": 59,
   "metadata": {
    "id": "LiTjIBaTFiQK"
   },
   "outputs": [
    {
     "name": "stdout",
     "output_type": "stream",
     "text": [
      "      season                   team  playoffs  d_rtg  n_rtg   pace   f_tr  \\\n",
      "102     2019  Golden State Warriors      True  109.5    6.4  100.9  0.227   \n",
      "395     2010           Phoenix Suns      True  110.2    5.1   95.3  0.312   \n",
      "1023    1988         Boston Celtics      True  109.4    6.0   97.9  0.333   \n",
      "\n",
      "      x3p_ar  ts_percent  e_fg_percent  tov_percent  orb_percent  \\\n",
      "102    0.384       0.596         0.565         12.6         22.5   \n",
      "395    0.261       0.585         0.546         13.6         27.6   \n",
      "1023   0.102       0.588         0.541         14.1         29.8   \n",
      "\n",
      "      opp_e_fg_percent  opp_tov_percent  opp_drb_percent  opp_ft_fga  \n",
      "102              0.508             11.7             77.1       0.205  \n",
      "395              0.491             11.6             70.8       0.224  \n",
      "1023             0.489             12.5             68.5       0.237  \n"
     ]
    }
   ],
   "source": [
    "# Below is the website for the NBA dataset\n",
    "# https://www.kaggle.com/sumitrodatta/nba-aba-baa-stats\n",
    "\n",
    "import pandas as pd\n",
    "import numpy as np\n",
    "\n",
    "dfb = pd.read_csv('Team Summaries.csv')\n",
    "\n",
    "dfb.drop('age', inplace=True, axis=1)  #drops area column\n",
    "dfb.drop('w', inplace=True, axis=1)  #drops area column\n",
    "dfb.drop('l', inplace=True, axis=1)  #drops area column\n",
    "dfb.drop('pw', inplace=True, axis=1)  #drops area column\n",
    "dfb.drop('pl', inplace=True, axis=1)  #drops area column\n",
    "dfb.drop('mov', inplace=True, axis=1)  #drops area column\n",
    "dfb.drop('sos', inplace=True, axis=1)  #drops area column\n",
    "dfb.drop('srs', inplace=True, axis=1)  #drops area column\n",
    "dfb.drop('o_rtg', inplace=True, axis=1)  #drops area column\n",
    "dfb.drop('ft_fga', inplace=True, axis=1)  #drops area column\n",
    "dfb.drop('arena', inplace=True, axis=1)  #drops area column\n",
    "dfb.drop('attend', inplace=True, axis=1)  #drops area column\n",
    "dfb.drop('attend_g', inplace=True, axis=1)  #drops area column\n",
    "dfb.drop('lg', inplace=True, axis=1)  #drops area column\n",
    "dfb.drop('abbreviation', inplace=True, axis=1)  #drops area column\n",
    "\n",
    "#print(dfb)\n",
    "\n",
    "#Look for high defense and net_rating of fg, average of .3 freethrows\n",
    "# see what we have with \n",
    "\"\"\"\n",
    "print(dfb[\n",
    "    (dfb[\"playoffs\"]==True) &\n",
    "    (dfb[\"d_rtg\"]>107) &\n",
    "    (dfb[\"n_rtg\"]>5) &\n",
    "    (dfb[\"ts_percent\"]>0.4)   \n",
    "].count())\n",
    "#narrows search down to 15 teams\n",
    "\"\"\"\n",
    "print(dfb[\n",
    "    (dfb[\"playoffs\"]==True) &\n",
    "    (dfb[\"d_rtg\"]>109) &\n",
    "    (dfb[\"n_rtg\"]>5) &\n",
    "    (dfb[\"ts_percent\"]>0.5)   \n",
    "])\n",
    "#low turnover rates and overall fg percentage... top three teams \n",
    "#narrowed to goldenstatewarriors, phx suns, and boston celtics\n",
    "\n",
    "#best team base on defense, and fg percentages with low turn over\n",
    "#Goldenstate warriors  "
   ]
  },
  {
   "cell_type": "code",
   "execution_count": null,
   "metadata": {
    "id": "As80q-93FiTN"
   },
   "outputs": [],
   "source": []
  },
  {
   "cell_type": "code",
   "execution_count": null,
   "metadata": {},
   "outputs": [],
   "source": []
  }
 ],
 "metadata": {
  "colab": {
   "collapsed_sections": [],
   "name": "WSK_Week 9 Solutions.ipynb",
   "provenance": []
  },
  "kernelspec": {
   "display_name": "Python 3 (ipykernel)",
   "language": "python",
   "name": "python3"
  },
  "language_info": {
   "codemirror_mode": {
    "name": "ipython",
    "version": 3
   },
   "file_extension": ".py",
   "mimetype": "text/x-python",
   "name": "python",
   "nbconvert_exporter": "python",
   "pygments_lexer": "ipython3",
   "version": "3.9.7"
  }
 },
 "nbformat": 4,
 "nbformat_minor": 1
}
