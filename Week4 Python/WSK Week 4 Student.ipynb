{
 "cells": [
  {
   "cell_type": "markdown",
   "id": "c3e413d5",
   "metadata": {
    "id": "c3e413d5"
   },
   "source": [
    "# Workshop 4 [Students]\n",
    "\n",
    "This notebook will cover the following topics:\n",
    "\n",
    "1. Composition\n",
    "2. Encapsulation\n",
    "3. Inheritance\n",
    "4. Mini Project"
   ]
  },
  {
   "cell_type": "markdown",
   "id": "41e9aaec",
   "metadata": {
    "id": "41e9aaec"
   },
   "source": [
    "## 4.1 Composition (Follow):  \n",
    "\n",
    "**Learning Objectives:**\n",
    "\n",
    "    1. Understand what things can be placed inside objects\n",
    "    2. Understand how to implement an object\n",
    "    3. Understand what a program can do with those things inside objects\n",
    "    4. Understand what constructors are"
   ]
  },
  {
   "cell_type": "code",
   "execution_count": null,
   "id": "4da24d64",
   "metadata": {
    "id": "4da24d64"
   },
   "outputs": [],
   "source": [
    "#Add comments to the code\n",
    "\n",
    "class Pet:\n",
    "    def __init__(self, name, animal_type, age):\n",
    "        self.name = name;\n",
    "        self.animal_type = animal_type\n",
    "        self.age = age\n",
    "        "
   ]
  },
  {
   "cell_type": "code",
   "execution_count": null,
   "id": "af3e33de",
   "metadata": {
    "id": "af3e33de",
    "outputId": "6d0b848e-ac3d-4cc7-e0d6-d4c349d24ed2"
   },
   "outputs": [],
   "source": [
    "def main():\n",
    "    \n",
    "    age = 5\n",
    "    name = \"Spot\"\n",
    "    animal_type = \"Goldfish\"\n",
    "    \n",
    "    mypet = Pet(name, animal_type, age)\n",
    "\n",
    "    print_object(mypet)\n",
    "    \n",
    "    \n",
    "def print_object(object_name):\n",
    "    print(object_name.name)\n",
    "    print(object_name.age)\n",
    "    print(object_name.animal_type)\n",
    "    \n",
    "    \n",
    "main()"
   ]
  },
  {
   "cell_type": "markdown",
   "id": "8de49e9a",
   "metadata": {
    "id": "8de49e9a"
   },
   "source": [
    "### As the above code executes, think about the following questions:\n",
    "\n",
    "1. What does the __init__ function do?  defines a protected function/ class\n",
    "2. What does the __ in front of a vairable do?  it defines a \"protected \"word/ attribute name\"\n",
    "3. What is a class? defines object attributes and behaviors \n",
    "4. How could you use a class in programming?  "
   ]
  },
  {
   "cell_type": "markdown",
   "id": "c53381e8",
   "metadata": {
    "id": "c53381e8"
   },
   "source": [
    "## 4.1 Composition (Group):  \n",
    "\n",
    "**Write a program that will do the following:**\n",
    "\n",
    "    1. Implement a class car.\n",
    "    2. The class car will have the following attributes: year, make, and model.\n",
    "    3. The user can input the information or it may be hard coded.\n",
    "    4. The program will create an object of type car and store this information.\n",
    "    5. Print the information stored in the object."
   ]
  },
  {
   "cell_type": "code",
   "execution_count": null,
   "id": "012e22e3",
   "metadata": {
    "id": "012e22e3",
    "outputId": "f6dc1283-624f-4402-f806-7e4e1cbaae43"
   },
   "outputs": [],
   "source": [
    "class Car:\n",
    "    def __init__(self, year, make, model):\n",
    "        self.year = year\n",
    "        self.make = make\n",
    "        self.model = model\n",
    "    \n",
    "    def get_year(self):\n",
    "        return self.year\n",
    "    \n",
    "    def get_make(self):\n",
    "        return self.make\n",
    "\n",
    "    def get_model(self):\n",
    "        return self.model\n",
    "        \n",
    "def main():\n",
    "    \n",
    "    my_car = Car(\"1975\", \"chevy\", \"nova\")\n",
    "    print(my_car.get_year())\n",
    "    print(my_car.get_make())\n",
    "    print(my_car.get_model())\n",
    "\n",
    "    \n",
    "main()"
   ]
  },
  {
   "cell_type": "markdown",
   "id": "df0073c0",
   "metadata": {
    "id": "df0073c0"
   },
   "source": [
    "## 4.2 Encapsulation (Follow):  \n",
    "\n",
    "**Learning Objectives:**\n",
    "\n",
    "    1. Understand how functions behave inside classes\n",
    "    2. Understand how to call functions on classes\n",
    "    3. Understand how to manipulate date using function inside classes\n",
    "    4. Understand what can and cannot be called inside functions "
   ]
  },
  {
   "cell_type": "code",
   "execution_count": null,
   "id": "e32ec1ff",
   "metadata": {
    "id": "e32ec1ff"
   },
   "outputs": [],
   "source": [
    "\n",
    "class BankAccount:\n",
    "\n",
    "    def __init__(self, bal):\n",
    "        self.__balance = bal \n",
    "\n",
    "    def deposit(self, amount):\n",
    "        self.__balance += amount\n",
    "\n",
    "    def withdraw(self, amount):\n",
    "        if self.__balance >= amount:\n",
    "        #if get_balance() >= amount:\n",
    "            self.__balance -= amount\n",
    "        else:\n",
    "            print('Error: Insufficient funds')\n",
    "\n",
    "    def get_balance(self):\n",
    "        return self.__balance\n",
    "    "
   ]
  },
  {
   "cell_type": "code",
   "execution_count": null,
   "id": "aa637898",
   "metadata": {
    "id": "aa637898",
    "outputId": "08a1c213-80c0-434e-d150-9358d6f193cb"
   },
   "outputs": [],
   "source": [
    "if __name__ == '__main__':\n",
    "\n",
    "    start_bal = float(input('Enter your starting balance: '))\n",
    "\n",
    "    savings = BankAccount(start_bal)\n",
    "\n",
    "    pay = float(input('How much were you paid this week? '))\n",
    "    print('I will deposit that into your account.')\n",
    "    savings.deposit(pay)\n",
    "\n",
    "    balance = savings.get_balance()\n",
    "    print(balance)\n",
    "\n",
    "    cash = float(input('How much would you like to withdraw? '))\n",
    "    print('I will withdraw that from your account.')\n",
    "    savings.withdraw(cash)\n",
    "\n",
    "    print(savings.get_balance())"
   ]
  },
  {
   "cell_type": "markdown",
   "id": "137bac34",
   "metadata": {
    "id": "137bac34"
   },
   "source": [
    "### As the above code executes, think about the following questions:\n",
    "\n",
    "1. What are the \"__\" for in python?  declares a private variable\n",
    "2. Can you directly return the balance from the account?  Explain.  \n",
    "3. What does the \"if __ name __ == '__ main __':\" line do?  Initiates main block of code\n",
    "4. How do you call functions inside classes?  use the notation object.function() to call the function."
   ]
  },
  {
   "cell_type": "markdown",
   "id": "0f1d2448",
   "metadata": {
    "id": "0f1d2448"
   },
   "source": [
    "## 4.2 Encapsulation (Group):  \n",
    "\n",
    "**Write a program that will do the following:**\n",
    "\n",
    "    1. Create class information.\n",
    "    2. The information class will keep track of is name, address, age, and phone number.\n",
    "    3. The class should be able to change and print all the above attributes.\n",
    "    4. You should take input from the console to create at least three objects that are all different.\n",
    "    5. You may also hard code these objects.\n",
    "    6. Lastly, your program should print the contents of these objects to the screen.\n",
    "    7. Hint: To create three different objects, declare as done above, but name them differently."
   ]
  },
  {
   "cell_type": "code",
   "execution_count": null,
   "id": "370bb894",
   "metadata": {
    "id": "370bb894"
   },
   "outputs": [],
   "source": [
    "#Instruction 1\n",
    "class information:\n",
    "    def __init__(self, name):\n",
    "        #to declare objects use self.object = object\n",
    "        self.name = name\n",
    "        '''\n",
    "        self.address = address\n",
    "        self.age = age\n",
    "        self.phnnumber = phnnumber\n",
    "        '''\n",
    "    def setphnnumber(self,phnnumber):     \n",
    "        self.__phnnumber = phnnumber\n",
    "\n",
    "    def setaddress(self, address):      \n",
    "        self.__address = address\n",
    "\n",
    "    def setage(self, age):            \n",
    "        self.__age = age\n",
    "\n",
    "    #Instruction 3    \n",
    "    def print_object(object_name):\n",
    "        print(object_name.name)\n",
    "        print(object_name.__address)\n",
    "        print(object_name.__age)\n",
    "        print(object_name.__phnnumber)    \n",
    "\n",
    "    \n",
    "def main():\n",
    "    \n",
    "    #Instruction 5\n",
    "    name = \"billy\"\n",
    "    address = \"123456 lane rd, texas\"\n",
    "    age = 35\n",
    "    phnnumber = \"1112223434\"\n",
    "    \n",
    "    ''' billy '''\n",
    "    billy458 = information(name)\n",
    "    billy458.setaddress(address)\n",
    "    billy458.setage(age)\n",
    "    billy458.setphnnumber(phnnumber)\n",
    "    #Instruction 4\n",
    "    ''' moses '''\n",
    "    moses458 = information(\"moses\")\n",
    "    address2 = input(\"give me an address: \")\n",
    "    moses458.setaddress(address2)\n",
    "    moses458.setphnnumber(\"none\")\n",
    "    moses458.setage(25)\n",
    "    \n",
    "    #joseph458 = information(joseph458.getinput(), \"none\", joseph458.getage(), 4114114111)\n",
    "\n",
    "    #Instruction 6\n",
    "    billy458.print_object()\n",
    "    moses458.print_object()\n",
    "    #print_object(joseph458)\n",
    "\n",
    "\n",
    "main()\n"
   ]
  },
  {
   "cell_type": "code",
   "execution_count": null,
   "id": "6bb3392b",
   "metadata": {
    "id": "6bb3392b",
    "outputId": "50d4a25f-080c-4231-e316-a0fcdf68e227"
   },
   "outputs": [],
   "source": [
    "\n"
   ]
  },
  {
   "cell_type": "markdown",
   "id": "b9f5681d",
   "metadata": {
    "id": "b9f5681d"
   },
   "source": [
    "## 4.3 Inheritence (Follow):  \n",
    "\n",
    "**Learning Objectives:**\n",
    "\n",
    "    1. Understand how inheritance works\n",
    "    2. Understand how to declare inheritance\n",
    "    3. Understand what is inherited by a class"
   ]
  },
  {
   "cell_type": "code",
   "execution_count": 31,
   "id": "a386b86c",
   "metadata": {
    "id": "a386b86c"
   },
   "outputs": [],
   "source": [
    "# Add comments to the code \n",
    "\n",
    "class Automobile:\n",
    "    \n",
    "    def __init__(self, make, model, mileage, price):\n",
    "        self.__make = make\n",
    "        self.__model = model\n",
    "        self.__mileage = mileage\n",
    "        self.__price = price\n",
    "\n",
    "    \n",
    "    def set_make(self, make):\n",
    "        self.__make = make\n",
    "\n",
    "    def set_model(self, model):\n",
    "        self.__model = model\n",
    "\n",
    "    def set_mileage(self, mileage):\n",
    "        self.__mileage = mileage\n",
    "\n",
    "    def set_price(self, price):\n",
    "        self.__price = price\n",
    "\n",
    "    \n",
    "    def get_make(self):\n",
    "        return self.__make\n",
    "\n",
    "    def get_model(self):\n",
    "        return self.__model\n",
    "\n",
    "    def get_mileage(self):\n",
    "        return self.__mileage\n",
    "\n",
    "    def get_price(self):\n",
    "        return self.__price\n",
    "\n",
    "    def print_object(self):\n",
    "        print(\"Make: \", self.get_make())\n",
    "        print(\"Model: \",self.get_model())\n",
    "        print(\"Milage: \", self.get_mileage())\n",
    "        print(\"Price: \", self.get_price())    "
   ]
  },
  {
   "cell_type": "code",
   "execution_count": 32,
   "id": "7q6wI8HygYO8",
   "metadata": {
    "id": "7q6wI8HygYO8"
   },
   "outputs": [],
   "source": [
    "class Car(Automobile):\n",
    "    \n",
    "    def __init__(self, make, model, mileage, price, doors):\n",
    "\n",
    "        Automobile.__init__(self, make, model, mileage, price)\n",
    "        self.__doors = doors\n",
    "\n",
    "    \n",
    "    def set_doors(self, doors):\n",
    "        self.__doors = doors\n",
    "\n",
    "    def get_doors(self):\n",
    "        return self.__doors\n",
    "    \n",
    "    def print_object(self):\n",
    "        Automobile.print_object(self)\n",
    "        print(\"# Doors: \", self.__doors, \"\\n\")"
   ]
  },
  {
   "cell_type": "code",
   "execution_count": 33,
   "id": "uCYc3kZ3giy7",
   "metadata": {
    "id": "uCYc3kZ3giy7"
   },
   "outputs": [],
   "source": [
    "class Truck(Automobile):\n",
    "    \n",
    "    def __init__(self, make, model, mileage, price, drive_type):\n",
    "        Automobile.__init__(self, make, model, mileage, price)\n",
    "        \n",
    "        self.__drive_type = drive_type\n",
    "\n",
    "    \n",
    "    def set_drive_type(self, drive_type):\n",
    "        self.__drive_type = drive_type\n",
    "\n",
    "    def get_drive_type(self):\n",
    "        return self.__drive_type\n",
    "    \n",
    "    def print_object(self):\n",
    "        Automobile.print_object(self)\n",
    "        print(\"Drive Type: \", self.__drive_type, \"\\n\")"
   ]
  },
  {
   "cell_type": "code",
   "execution_count": 37,
   "id": "XePI46Evgqbv",
   "metadata": {
    "id": "XePI46Evgqbv"
   },
   "outputs": [],
   "source": [
    "class SUV(Automobile):\n",
    "    \n",
    "    def __init__(self, make, model, mileage, price, pass_cap):\n",
    "        Automobile.__init__(self, make, model, mileage, price)\n",
    "        \n",
    "        self.__pass_cap = pass_cap\n",
    "\n",
    "    \n",
    "    def set_pass_cap(self, pass_cap):\n",
    "        self.__pass_cap = pass_cap\n",
    "\n",
    "    def get_pass_cap(self):\n",
    "        return self.__pass_cap\n",
    "    \n",
    "    def print_object(self):\n",
    "        Automobile.print_object(self)\n",
    "        print(\"Pass_cap: \", self.get_pass_cap(), \"\\n\")\n",
    "        #return 'Make: ' + self.__make + \\\n",
    "        #       '\\nModel: ' + str(self.__mileage) + \\\n",
    "        #       '\\nMileage: ' + str(self.__mileage) + \\\n",
    "        #       '\\nPrice: ' + str(self.__price)"
   ]
  },
  {
   "cell_type": "code",
   "execution_count": 38,
   "id": "2cc062ca",
   "metadata": {
    "id": "2cc062ca",
    "scrolled": true
   },
   "outputs": [
    {
     "name": "stdout",
     "output_type": "stream",
     "text": [
      "Make:  Audi\n",
      "Model:  2007\n",
      "Milage:  12500\n",
      "Price:  21500.0\n",
      "# Doors:  4 \n",
      "\n",
      "Make:  Yukon\n",
      "Model:  2012\n",
      "Milage:  15500\n",
      "Price:  21500.0\n",
      "Pass_cap:  6 \n",
      "\n",
      "Make:  chevy\n",
      "Model:  1989\n",
      "Milage:  10000\n",
      "Price:  4000.0\n",
      "Drive Type:  5 speed manual \n",
      "\n"
     ]
    }
   ],
   "source": [
    "used_car = Car('Audi', 2007, 12500, 21500.00, 4)\n",
    "used_car.print_object()\n",
    "\n",
    "used_yukon = SUV('Yukon', 2012, 15500, 21500.00, 6)\n",
    "used_yukon.print_object()\n",
    "\n",
    "used_truck = Truck(\"chevy\", 1989, 10000, 4000.00, \"5 speed manual\")\n",
    "used_truck.print_object()"
   ]
  },
  {
   "cell_type": "markdown",
   "id": "dQaOC50_hhvk",
   "metadata": {
    "id": "dQaOC50_hhvk"
   },
   "source": [
    "\n",
    "### As the above code executes, think about the following questions:\n",
    "\n",
    "1. Create objects for the truck and SUV classes for the above code.\n",
    "2. Print the information for each created object.\n",
    "3. What does putting Automobile in parenthesis do? "
   ]
  },
  {
   "cell_type": "markdown",
   "id": "ff0066ba",
   "metadata": {
    "id": "ff0066ba"
   },
   "source": [
    "## 4.3 Inheritence (Group):  \n",
    "\n",
    "**Write a program that will do the following:**\n",
    "\n",
    "    1. Create a savings account base class.\n",
    "    2. Create a class CD which inherits class savings.\n",
    "    3. The savings class should contain account number, interest rate, and balance.\n",
    "    4. CD class should contain maturity date along with all inherited attributes.\n",
    "    5. Both classes should have functions to access and change all attributes.\n",
    "    6. Write some code to access and change the attributes."
   ]
  },
  {
   "cell_type": "code",
   "execution_count": null,
   "id": "ab1742b9",
   "metadata": {
    "executionInfo": {
     "elapsed": 4,
     "status": "ok",
     "timestamp": 1643218896122,
     "user": {
      "displayName": "Travis Martin",
      "photoUrl": "https://lh3.googleusercontent.com/a/default-user=s64",
      "userId": "17005528951968776844"
     },
     "user_tz": 360
    },
    "id": "ab1742b9"
   },
   "outputs": [],
   "source": [
    "class savings: \n",
    "    def __init__(self, acctnumber, interestrt, balance):\n",
    "        self.__acctnumber = acctnumber\n",
    "        self.__interestrt = interestrt\n",
    "        self.__balance = balance\n",
    "    \n",
    "    def set_acctnumber(self, acctnum):\n",
    "        self.__acctnumber = acctnum\n",
    "    \n",
    "    def get_acctnumber(self):\n",
    "        return self.__acctnumber\n",
    "    \n",
    "    def set_interestrt(self, intrate):\n",
    "        self.__interestrt = intrate\n",
    "        \n",
    "    def get_interestrt(self):\n",
    "        return self.__interestrt\n",
    "        \n",
    "    def set_balance(self, balnc):    \n",
    "        self.__balance = balnc\n",
    "    \n",
    "    def get_balance(self):\n",
    "        return self.__balance\n",
    "    \n",
    "    def print_object(object_name):\n",
    "        print(f'Acct #:    {object_name.__acctnumber}')\n",
    "        print(f'Int rate:  {object_name.__interestrt}')\n",
    "        print(f'Balance    {object_name.__balance}')  \n",
    "        print(f' ')  \n",
    "        \n",
    "        \n",
    "class cd(savings):\n",
    "    def __init__(self, acctnumber, interestrt, balance, matredate):\n",
    "        savings.__init__(self, acctnumber, interestrt, balance)\n",
    "        self.__maturedate = matredate\n",
    "    \n",
    "    def set_matdate(self, mdate):\n",
    "        self.__maturedate = mdate\n",
    "        \n",
    "    def get_matdate(self):\n",
    "        return self.__maturedate\n",
    "    \n",
    "    \n",
    "def main():\n",
    "    primaryacct = [] \n",
    "    \n",
    "    Acct_456123 = savings(456123, .15, 1023) \n",
    "    Acct_123456 = savings(123456, .10, 100)\n",
    "    Acct_654987 = savings(654987, .11, 100)\n",
    "    \n",
    "    primaryacct = [Acct_456123, Acct_123456, Acct_654987]\n",
    "    \n",
    "    print(\"Account Number:  \", Acct_456123.get_acctnumber())\n",
    "    print(\"   interest rt:  \", Acct_456123.get_interestrt())\n",
    "    print(\"   balance    :  \", Acct_456123.get_balance())\n",
    "  \n",
    "    print(\"Account Number:  \", Acct_123456.get_acctnumber())\n",
    "    print(\"   interest rt:  \", Acct_123456.get_interestrt())\n",
    "    print(\"   balance    :  \", Acct_123456.get_balance())\n",
    "    \n",
    "    print(\"Account Number:  \", Acct_654987.get_acctnumber())\n",
    "    print(\"   interest rt:  \", Acct_654987.get_interestrt())\n",
    "    print(\"   balance    :  \", Acct_654987.get_balance())\n",
    "    print(\" \")\n",
    "\n",
    "    primaryacct[0].set_interestrt(.20)\n",
    "    primaryacct[1].set_interestrt(.21)\n",
    "    primaryacct[2].set_interestrt(.15)\n",
    "    \n",
    "    primaryacct[0].set_balance(10000)\n",
    "    primaryacct[1].set_balance(10000)\n",
    "    primaryacct[2].set_balance(10000)\n",
    "    \n",
    "    primaryacct[0].print_object()\n",
    "    primaryacct[1].print_object()\n",
    "    primaryacct[2].print_object()\n",
    "    \n",
    "    # populate cd with parent info and set maturity date\n",
    "    primaryacct[0] = cd(primaryacct[0].get_acctnumber(), primaryacct[0].get_interestrt(), primaryacct[0].get_balance(), \"10-2-2022\")\n",
    "    primaryacct[1] = cd(primaryacct[1].get_acctnumber(), primaryacct[1].get_interestrt(), primaryacct[1].get_balance(), \"11-2-2022\")\n",
    "    primaryacct[2] = cd(primaryacct[2].get_acctnumber(), primaryacct[2].get_interestrt(), primaryacct[2].get_balance(), \"12-2-2022\")\n",
    "    \n",
    "    # get maturity date of CD\n",
    "    print(primaryacct[0].get_matdate())\n",
    "    print(primaryacct[1].get_matdate())\n",
    "    print(primaryacct[2].get_matdate())\n",
    "    \n",
    "main()"
   ]
  },
  {
   "cell_type": "code",
   "execution_count": null,
   "id": "bWN9I3ndeLh7",
   "metadata": {
    "executionInfo": {
     "elapsed": 406,
     "status": "ok",
     "timestamp": 1643218901215,
     "user": {
      "displayName": "Travis Martin",
      "photoUrl": "https://lh3.googleusercontent.com/a/default-user=s64",
      "userId": "17005528951968776844"
     },
     "user_tz": 360
    },
    "id": "bWN9I3ndeLh7"
   },
   "outputs": [],
   "source": []
  },
  {
   "cell_type": "markdown",
   "id": "Lv4WoegwSfcq",
   "metadata": {
    "id": "Lv4WoegwSfcq"
   },
   "source": [
    "## Week 4 Mini Project\n",
    "\n",
    "The project should be created to be useful in your life.  Here are some guidelines for the project.\n",
    "\n",
    "1. Create a class employee.\n",
    "2. Class employee should contain useful attributes.\n",
    "3. Create 2-3 other classes that inherit employee class.\n",
    "4. Each of the child classes should have specific attributes.\n",
    "5. Each class should have 2-3 attributes.\n",
    "6. Make sure to write functions that can both change and print attributes."
   ]
  },
  {
   "cell_type": "code",
   "execution_count": 39,
   "id": "4evC8OBxTUsd",
   "metadata": {
    "executionInfo": {
     "elapsed": 155,
     "status": "ok",
     "timestamp": 1643222178342,
     "user": {
      "displayName": "Travis Martin",
      "photoUrl": "https://lh3.googleusercontent.com/a/default-user=s64",
      "userId": "17005528951968776844"
     },
     "user_tz": 360
    },
    "id": "4evC8OBxTUsd"
   },
   "outputs": [
    {
     "name": "stdout",
     "output_type": "stream",
     "text": [
      "==employee list==\n",
      "f1-name l1-name biology 101\n",
      "f2-name l2-name math 102\n",
      "f3-name l3-name language 103\n",
      "\n",
      "==add some payscale info==\n",
      "==add some dept info==\n",
      "==add some private employee info==\n",
      "\n",
      "Employees Fname, Lname: SOC : years\n",
      "f1-name l1-name 1234 5 yrs\n",
      "f2-name l2-name 7896 4 yrs\n",
      "f2-name l3-name 4561 5 yrs\n",
      "\n",
      "Employee last name change\n",
      "l1-l2name, f1-name\n",
      "l2-l1name, f2-name\n",
      "l3-name Jr., f3-name\n"
     ]
    }
   ],
   "source": [
    "\n",
    "class employee:\n",
    "    def __init__(self, fname, lname, dept, bldg):\n",
    "        self.Efname = fname\n",
    "        self.Elname = lname\n",
    "        self.Edept = dept\n",
    "        self.Ebldg = bldg\n",
    "        \n",
    "    def set_dept(self, dept):\n",
    "            self.Edept = dept\n",
    "         \n",
    "    def set_bldg(self, bldg):\n",
    "            self.Ebldg = bldg\n",
    "    \n",
    "    def set_lname(self, lname):\n",
    "            self.Elname = lname\n",
    "        \n",
    "    def get_fname(self):\n",
    "            return self.Efname\n",
    "\n",
    "    def get_lname(self):\n",
    "            return self.Elname\n",
    "\n",
    "    def get_dept(self):\n",
    "            return self.Edept\n",
    "        \n",
    "    def get_bldg(self):\n",
    "            return self.Ebldg\n",
    "\n",
    "    \n",
    "class payscale(employee):\n",
    "    def __init__(self, fname, lname, dept, bldg, Payscale, Pbonus, Pcontrib):\n",
    "        employee.__init__(self, fname, lname, dept, bldg)\n",
    "        self.Payscale = Payscale\n",
    "        self.Pbonus = Pbonus\n",
    "        self.Pcontrib = Pcontrib\n",
    "        \n",
    "    def set_Payscale(self, Payscale):\n",
    "            self.Payscale = Payscale\n",
    "        \n",
    "    def set_Pbonus(self, Pbonus):\n",
    "            self.Pbonus = Pbonus\n",
    "        \n",
    "    def set_Pcontrib(self, Pcontrib):\n",
    "            self.Pcontrib = Pcontrib\n",
    "        \n",
    "class deptattrib(employee):\n",
    "    def __init__(self, fname, lname, dept, bldg, Doffice, Dphn, Droom):\n",
    "        employee.__init__(self, fname, lname, dept, bldg)\n",
    "        self.Doffice = Doffice\n",
    "        self.Dphn = Dphn\n",
    "        self.Droom = Droom\n",
    "    \n",
    "    def set_Doffice(self, Doffice):\n",
    "            self.Doffice = Doffice\n",
    "    \n",
    "    def set_Dphn(self, Dphn):\n",
    "            self.Dphn = Dphn\n",
    "    \n",
    "    def set_Droom(self, Droom):\n",
    "            self.Droom = Droom\n",
    "        \n",
    "class privateinfo(employee):\n",
    "    def __init__(self, fname, lname, dept, bldg, socEMP, bdayEMP, yearsEMP):\n",
    "        employee.__init__(self, fname, lname, dept, bldg)\n",
    "        self.socEMP = socEMP\n",
    "        self.bdayEMP = bdayEMP\n",
    "        self.yearsEMP = yearsEMP\n",
    "    \n",
    "    def set_socEMP(self, socEMP):\n",
    "            self.socEMP = socEMP\n",
    "    \n",
    "    def set_bdayEMP(self, bdayEMP):\n",
    "            self.bdayEMP = bdayEMP\n",
    "    \n",
    "    def set_yearsEMP(self, yearsEMP):\n",
    "            self.yearsEMP = yearsEMP\n",
    "        \n",
    "    def get_socEMP(self):\n",
    "            return self.socEMP\n",
    "\n",
    "    def get_bdayEMP(self):\n",
    "            return self.bdayEMP\n",
    "            \n",
    "    def get_yearsEMP(self):\n",
    "            return self.yearsEMP\n",
    "\n",
    "def main():\n",
    "    staff = []\n",
    "    \n",
    "    lastn1 = \"l1-name\" \n",
    "    firstn1 = \"f1-name\"\n",
    "    dept1 = \"biology\"\n",
    "    bldg1 = 101\n",
    "    employee1 = employee(firstn1, lastn1, dept1, bldg1)\n",
    "    \n",
    "    lastn2 = \"l2-name\"\n",
    "    firstn2 = \"f2-name\"\n",
    "    dept2 = \"math\"\n",
    "    bldg2 = 102\n",
    "    employee2 = employee(firstn2, lastn2, dept2, bldg2)\n",
    "   \n",
    "    lastn3 = \"l3-name\"\n",
    "    firstn3 = \"f3-name\"\n",
    "    dept3 = \"language\"\n",
    "    bldg3 = 103\n",
    "    employee3 = employee(firstn3, lastn3, dept3, bldg3)\n",
    "    staff = [employee1,employee2,employee3]\n",
    "    \n",
    "    print(\"==employee list==\")\n",
    "    for i in range(len(staff)):\n",
    "        print(staff[i].Efname, staff[i].Elname, staff[i].Edept, staff[i].Ebldg )\n",
    "    \n",
    "    print(\"\\n==add some payscale info==\")\n",
    "    employee1P = payscale(firstn1, lastn1, dept1, bldg1, \"Mgmt\", \"annually\", \"5%\")\n",
    "    employee2P = payscale(firstn2, lastn2, dept2, bldg2, \"Sup\", \"annually\", \"5%\")\n",
    "    employee3P = payscale(firstn3, lastn3, dept3, bldg3, \"employee\", \"annually\", \"5%\")\n",
    "    \n",
    "    print(\"==add some dept info==\")\n",
    "    employee1D = deptattrib(firstn1, lastn1, dept1, bldg1, \"2nd floor\", \"x1203\", \"rm: 205\")\n",
    "    employee2D = deptattrib(firstn2, lastn2, dept2, bldg2, \"1st floor\", \"x1204\", \"rm: 105\")\n",
    "    employee3D = deptattrib(firstn3, lastn3, dept3, bldg3, \"2nd floor\", \"x1205\", \"rm: 204\")\n",
    "    \n",
    "    print(\"==add some private employee info==\\n\")\n",
    "    employee1I = privateinfo(firstn1, lastn1, dept1, bldg1, \"1234\", \"12121975\",\"5 yrs\")\n",
    "    employee2I = privateinfo(firstn2, lastn2, dept2, bldg2, \"7896\", \"01121992\",\"4 yrs\")\n",
    "    employee3I = privateinfo(firstn3, lastn3, dept3, bldg3, \"4561\", \"02021978\",\"5 yrs\")\n",
    "    \n",
    "    print(f\"Employees Fname, Lname: SOC : years\")\n",
    "    print(employee1.get_fname(), employee1.get_lname(), employee1I.get_socEMP(), employee1I.get_yearsEMP())\n",
    "    print(employee2.get_fname(), employee2I.get_lname(), employee2I.get_socEMP(), employee2I.get_yearsEMP())\n",
    "    print(employee2.get_fname(), employee3I.get_lname(), employee3I.get_socEMP(), employee3I.get_yearsEMP())\n",
    "        \n",
    "    print(f\"\\nEmployee last name change\")\n",
    "    employee1.set_lname(\"l1-l2name\")\n",
    "    employee2.set_lname(\"l2-l1name\")\n",
    "    employee3.set_lname(\"l3-name Jr.\")\n",
    "          \n",
    "    print(f'{employee1.get_lname()}, {employee1.get_fname()}')\n",
    "    print(f'{employee2.get_lname()}, {employee2.get_fname()}')\n",
    "    print(f'{employee3.get_lname()}, {employee3.get_fname()}')\n",
    "    \n",
    "    \n",
    "main()"
   ]
  },
  {
   "cell_type": "code",
   "execution_count": null,
   "id": "cd7d5c72",
   "metadata": {},
   "outputs": [],
   "source": []
  }
 ],
 "metadata": {
  "colab": {
   "collapsed_sections": [],
   "name": "WSK Week 4 Solutions.ipynb",
   "provenance": []
  },
  "kernelspec": {
   "display_name": "Python 3 (ipykernel)",
   "language": "python",
   "name": "python3"
  },
  "language_info": {
   "codemirror_mode": {
    "name": "ipython",
    "version": 3
   },
   "file_extension": ".py",
   "mimetype": "text/x-python",
   "name": "python",
   "nbconvert_exporter": "python",
   "pygments_lexer": "ipython3",
   "version": "3.9.7"
  }
 },
 "nbformat": 4,
 "nbformat_minor": 5
}
