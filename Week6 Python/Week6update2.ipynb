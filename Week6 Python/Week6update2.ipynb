{
 "cells": [
  {
   "cell_type": "markdown",
   "metadata": {
    "id": "Eq8c0_j8x9kS"
   },
   "source": [
    "# Workshop 6 Student\n",
    "\n",
    "This notebook will cover the following topics:\n",
    "\n",
    "1. Objects in recursion\n",
    "2. Graphs and Trees using network X\n",
    "3. Binary trees and binary search\n",
    "4. Breadth First Search\n",
    "5. Depth First Search\n"
   ]
  },
  {
   "cell_type": "markdown",
   "metadata": {
    "id": "ZjVMGdk9UXWD"
   },
   "source": [
    "## 6.1  Objects in Recursion (Follow):  \n",
    "\n",
    "**Learning Objectives:**\n",
    "\n",
    "    1. Understand how objects are passed in recursion.\n",
    "    2. understand how objects are referenced in recursion."
   ]
  },
  {
   "cell_type": "code",
   "execution_count": null,
   "metadata": {
    "executionInfo": {
     "elapsed": 8,
     "status": "ok",
     "timestamp": 1644424822076,
     "user": {
      "displayName": "Travis Martin",
      "photoUrl": "https://lh3.googleusercontent.com/a/default-user=s64",
      "userId": "17005528951968776844"
     },
     "user_tz": 360
    },
    "id": "22SU0DfmUTkm"
   },
   "outputs": [],
   "source": [
    "class counter_item:\n",
    "    def __init__(self):\n",
    "        self.__counter = 0\n",
    "\n",
    "    def get_counter(self):\n",
    "        return self.__counter\n",
    "\n",
    "    def inc_counter(self):\n",
    "        self.__counter += 1\n",
    "        #print(self.__counter)#\n",
    "        \n",
    "\n",
    "    def dec_counter(self):\n",
    "        self.__counter -= 1\n",
    "        #print(self.__counter)#\n",
    "\n",
    "\n",
    "def recursive_funct(object, depth):\n",
    "    object.inc_counter()\n",
    "    depth -= 1\n",
    "  \n",
    "    if depth == 0:\n",
    "        return\n",
    "    else:\n",
    "        print(object.get_counter())\n",
    "        recursive_funct(object, depth)\n",
    "    \n",
    "    print(object.get_counter())\n"
   ]
  },
  {
   "cell_type": "code",
   "execution_count": null,
   "metadata": {
    "colab": {
     "base_uri": "https://localhost:8080/"
    },
    "executionInfo": {
     "elapsed": 5,
     "status": "ok",
     "timestamp": 1644424825071,
     "user": {
      "displayName": "Travis Martin",
      "photoUrl": "https://lh3.googleusercontent.com/a/default-user=s64",
      "userId": "17005528951968776844"
     },
     "user_tz": 360
    },
    "id": "fdezvbPq2HLY",
    "outputId": "9922eba8-fc79-44ac-ae47-e68fc8edf6a1"
   },
   "outputs": [],
   "source": [
    "def main():\n",
    "    the_counter = counter_item()\n",
    "    depth = 5\n",
    "\n",
    "    recursive_funct(the_counter, depth)\n",
    "\n",
    "main()"
   ]
  },
  {
   "cell_type": "markdown",
   "metadata": {
    "id": "WtyJdRvo2IqH"
   },
   "source": [
    "### As the above code executes, think about the following questions:\n",
    "\n",
    "1. What is the value of self.__counter in each iteration?  012345555\n",
    "2. Play around with the inc and dec functions to make sure you understand how everything is working."
   ]
  },
  {
   "cell_type": "markdown",
   "metadata": {
    "id": "UvJOlTis3hQN"
   },
   "source": [
    "## 6.1  Objects in Recursion (Group):  \n",
    "\n",
    "**Write a program that will do the following:**\n",
    "\n",
    "    1. Implement factorial with objects and recursion.\n",
    "    2. Create at least one class and use that to store the calculated value for factorial.\n",
    "    3. You may make the final calculation private or public."
   ]
  },
  {
   "cell_type": "code",
   "execution_count": null,
   "metadata": {
    "executionInfo": {
     "elapsed": 206,
     "status": "ok",
     "timestamp": 1644439853508,
     "user": {
      "displayName": "Travis Martin",
      "photoUrl": "https://lh3.googleusercontent.com/a/default-user=s64",
      "userId": "17005528951968776844"
     },
     "user_tz": 360
    },
    "id": "WZku_jp033g8"
   },
   "outputs": [],
   "source": [
    "class factorial:\n",
    "    def __init__(self, fnum):\n",
    "        self.__end = fnum\n",
    "        self.__begin = 1\n",
    "        self.__fnum = 1\n",
    "        \n",
    "    global fn\n",
    " \n",
    "    def get_factorial(self):\n",
    "        return self.__fnum\n",
    "\n",
    "    def calc_factorial(self):\n",
    "        if self.__begin <= self.__end:\n",
    "            self.__fnum = self.__fnum * self.__begin\n",
    "            fn.append(self.__fnum)\n",
    "            self.__begin +=1\n",
    "            return self.calc_factorial()\n",
    "    \n",
    "    def recursion_factorial(self, n):\n",
    "        if n ==1:\n",
    "            return n\n",
    "        if n < 1:\n",
    "            return (\"NA\")\n",
    "        else:\n",
    "            return n * self.recursion_factorial(n-1)\n",
    "        \n",
    "        print(self.recursion_factorial(int(num)))\n",
    "        \n",
    "        \n",
    "if __name__ == \"__main__\":\n",
    "    fn = []\n",
    "    n = int(input('Enter a number: '))\n",
    "    '''fact = factorial(n)\n",
    "    fact.calc_factorial()\n",
    "    print(fact.get_factorial())\n",
    "    '''\n",
    "    #optimized code\n",
    "    fact1 = factorial(n)\n",
    "    print(f'optimized: {fact1.recursion_factorial(n)}')\n",
    "    \n",
    "    #verify math is correct and list contains all entries\n",
    "    i = 0\n",
    "    for x in fn:\n",
    "        print(i, x)\n",
    "        i += 1"
   ]
  },
  {
   "cell_type": "code",
   "execution_count": null,
   "metadata": {
    "colab": {
     "base_uri": "https://localhost:8080/"
    },
    "executionInfo": {
     "elapsed": 208,
     "status": "ok",
     "timestamp": 1644439945793,
     "user": {
      "displayName": "Travis Martin",
      "photoUrl": "https://lh3.googleusercontent.com/a/default-user=s64",
      "userId": "17005528951968776844"
     },
     "user_tz": 360
    },
    "id": "G6HgkWaX33pI",
    "outputId": "ced67788-41f2-4cbc-d371-54894ec97fa9"
   },
   "outputs": [],
   "source": [
    "\n"
   ]
  },
  {
   "cell_type": "markdown",
   "metadata": {
    "id": "UC2lwbo1xobK"
   },
   "source": [
    "## 6.2 Graphs and Trees using network X (Follow):  \n",
    "\n",
    "**Learning Objectives:**\n",
    "\n",
    "    1. Understand the structure of graphs and trees.\n",
    "    2. Understand how to create graphs and trees.\n",
    "    3. Understand the network X library in python.\n"
   ]
  },
  {
   "cell_type": "code",
   "execution_count": null,
   "metadata": {
    "colab": {
     "base_uri": "https://localhost:8080/",
     "height": 865
    },
    "executionInfo": {
     "elapsed": 857,
     "status": "ok",
     "timestamp": 1644363545529,
     "user": {
      "displayName": "Travis Martin",
      "photoUrl": "https://lh3.googleusercontent.com/a/default-user=s64",
      "userId": "17005528951968776844"
     },
     "user_tz": 360
    },
    "id": "qPxFHzCB2mkg",
    "outputId": "80c162d9-94e5-4dcc-d007-cb4e8cda334c",
    "scrolled": true
   },
   "outputs": [],
   "source": [
    "# add comments to the code\n",
    "# https://networkx.org/documentation/stable/reference/introduction.html#\n",
    "\n",
    "\n",
    "import networkx as nx  # to add this library type: \"conda install networkx\"\n",
    "import matplotlib.pyplot as plt # to add this library type: \"conda install matplotlib\"\n",
    "\n",
    "G = nx.Graph()\n",
    "G.add_node(1)  #add from a sing\n",
    "G.add_nodes_from([2, 3])  #add from a list\n",
    "G.add_nodes_from([(4, {\"color\": \"red\"}), (5, {\"color\": \"green\"}),])\n",
    "\n",
    "G.add_edge(1, 2)\n",
    "G.add_edge(1, 3)\n",
    "G.add_edge(3, 4)\n",
    "G.add_edge(3, 5)\n",
    "\n",
    "nx.draw(G, node_color = 'r', edge_color = 'g', with_labels = True)\n",
    "plt.show()\n",
    "\n",
    "print(\"The number of nodes in the first graph = \", G.number_of_nodes())\n",
    "print(\"The number of edges in the first graph = \", G.number_of_edges())\n",
    "\n",
    "\n",
    "Graph = nx.Graph()\n",
    "edge_list = [(1, 2), (2, 3), (1, 4), (4, 2)]\n",
    "Graph.add_edges_from(edge_list)\n",
    "\n",
    "subax1 = plt.subplot(121)\n",
    "nx.draw(Graph)   \n",
    "plt.show()\n",
    "\n",
    "\n",
    "Other_Graph = nx.Graph()\n",
    "Other_Graph.add_edge(\"a\", \"b\", weight=0.6)\n",
    "Other_Graph.add_edge(\"a\", \"c\", weight=0.2)\n",
    "Other_Graph.add_edge(\"c\", \"d\", weight=0.1)\n",
    "Other_Graph.add_edge(\"c\", \"e\", weight=0.7)\n",
    "Other_Graph.add_edge(\"c\", \"f\", weight=0.9)\n",
    "Other_Graph.add_edge(\"a\", \"d\", weight=0.3)\n",
    "\n",
    "elarge = [(u, v) for (u, v, d) in Other_Graph.edges(data=True) if d[\"weight\"] > 0.5]\n",
    "esmall = [(u, v) for (u, v, d) in Other_Graph.edges(data=True) if d[\"weight\"] <= 0.5]\n",
    "\n",
    "pos = nx.spring_layout(Other_Graph, seed=7)\n",
    "nx.draw_networkx_nodes(Other_Graph, pos, node_size=700)\n",
    "nx.draw_networkx_edges(Other_Graph, pos, edgelist=elarge, width=6, label = 'weight')\n",
    "nx.draw_networkx_edges(Other_Graph, pos, edgelist=esmall, width=6, alpha=0.5, edge_color=\"b\", style=\"dashed\", label = 'weights')\n",
    "\n",
    "nx.draw_networkx_labels(Other_Graph, pos, font_size=20, font_family=\"sans-serif\")\n",
    "nx.draw_networkx_edge_labels(Other_Graph, pos)\n",
    "\n",
    "nx.draw(Other_Graph,pos,\n",
    "        width=list(weights),\n",
    "        edge_color=colors,\n",
    "        arrows=True,\n",
    "        style=\"dashed\",\n",
    "        with_labels=True, \n",
    "        node_color='white')\n",
    "\n",
    "ax = plt.gca()\n",
    "ax.margins(0.08)\n",
    "plt.axis(\"off\")\n",
    "plt.tight_layout()\n",
    "plt.show()\n",
    "\n"
   ]
  },
  {
   "cell_type": "markdown",
   "metadata": {
    "id": "9khcD7a_2Yly"
   },
   "source": [
    "### As the above code executes, think about the following questions:\n",
    "\n",
    "1. Try playing around with different options in the draw functions and see how things work.\n",
    "2. What does the plt.show() function do?  shows the display of your graphic.\n",
    "3. What does the seed = 7 parameter do? \n",
    "4. What do the options in the last few lines do?  Are they necessary?"
   ]
  },
  {
   "cell_type": "markdown",
   "metadata": {
    "id": "-ZnTI8ig35CH"
   },
   "source": [
    "## 6.2 Graphs and Trees using network X (Group):  \n",
    "\n",
    "**Write a program that will do the following:**\n",
    "\n",
    "    1. Use the documentation to explore different ways to make graphs using network x.\n",
    "    2. Try creating different graphs including directional graphs and multigraphs.\n",
    "    3. Try changing colors and sizes for nodes.\n",
    "    4. Try experimenting with the layout options.\n",
    "    5. Be prepared to present some of the things you have learned exploring network x.\n"
   ]
  },
  {
   "cell_type": "code",
   "execution_count": null,
   "metadata": {
    "id": "PwU43sg34C0X"
   },
   "outputs": [],
   "source": [
    "\n",
    "import networkx as nx  # to add this library type: \"conda install networkx\"\n",
    "import matplotlib.pyplot as plt # to add this library type: \"conda install matplotlib\"\n",
    "\n",
    "#G = nx.Graph()\n",
    "#pos = nx.spring_layout(G, seed=7)\n",
    "#G.add_node(1)  #add from a single instance\n",
    "#G.add_nodes_from([2, 3])  #add from a list\n",
    "#G.add_nodes_from([(4, {\"color\": \"red\"}), (5, {\"color\": \"green\"}),])  #try to modify this\n",
    "'''\n",
    "G.add_edge(1, 2, weight=3, capacity=15, length=300.7)\n",
    "G.add_edge(1, 3, weight=7, capacity=15, length=32.7)\n",
    "G.add_edge(3, 4, weight=3, capacity=15, length=342.7)\n",
    "G.add_edge(3, 5, weight=30)\n",
    "G.add_edge(5, 6, weight=5)\n",
    "G.add_edge(5, 7, weight=3)\n",
    "G.add_edge(7, 8, weight=3)\n",
    "G.add_edge(8, 6, weight=3)\n",
    "'''\n",
    "G = nx.Graph()  # or DiGraph, MultiGraph, MultiDiGraph, etc\n",
    "e = (1, 2)\n",
    "#G.add_edge(1, 2)  # explicit two-node form\n",
    "G.add_edge(*e)  # single edge as tuple of two nodes\n",
    "#G.add_edges_from([(1, 2)])  # add edges from iterable container\n",
    "#G.add_edge(1, 2, weight=3)\n",
    "G.add_edge(1, 3, weight=7, capacity=15, length=342.7)\n",
    "\n",
    "nx.draw(G, arrows=True, node_color='g', edge_color=colors, style=\"dashed\")\n",
    "plt.show()"
   ]
  },
  {
   "cell_type": "code",
   "execution_count": null,
   "metadata": {
    "id": "E1P5WUhz4C8x"
   },
   "outputs": [],
   "source": []
  },
  {
   "cell_type": "markdown",
   "metadata": {
    "id": "dB8rY4UGxorv"
   },
   "source": [
    "## 6.3 Binary trees and binary search (Follow):  \n",
    "\n",
    "**Learning Objectives:**\n",
    "\n",
    "    1. Understand binary trees.\n",
    "    2. Understand binary search.\n",
    "    3. Understand the necessity for binary trees."
   ]
  },
  {
   "cell_type": "code",
   "execution_count": null,
   "metadata": {
    "colab": {
     "base_uri": "https://localhost:8080/",
     "height": 923
    },
    "executionInfo": {
     "elapsed": 4863,
     "status": "ok",
     "timestamp": 1644362479476,
     "user": {
      "displayName": "Travis Martin",
      "photoUrl": "https://lh3.googleusercontent.com/a/default-user=s64",
      "userId": "17005528951968776844"
     },
     "user_tz": 360
    },
    "id": "wsaZQ1In2oNH",
    "outputId": "e54698d8-307b-4b3e-bc19-4a7676d27f7e"
   },
   "outputs": [],
   "source": [
    "# add comment to the code\n",
    "\n",
    "# you will need to run the following command in the conda powershell before running\n",
    "# conda install --channel conda-forge pygraphviz -y\n",
    "\n",
    "import matplotlib.pyplot as plt  #if you are getting errors, remember to install missing packages\n",
    "import networkx as nx\n",
    "import pydot\n",
    "from networkx.drawing.nx_pydot import graphviz_layout\n",
    "\n",
    "\n",
    "T = nx.balanced_tree(2, 5)\n",
    "\n",
    "# https://networkx.org/documentation/stable/reference/generated/networkx.drawing.nx_agraph.graphviz_layout.html\n",
    "pos = graphviz_layout(T, prog=\"twopi\")\n",
    "nx.draw(T, pos)\n",
    "plt.show()\n",
    "\n",
    "pos = graphviz_layout(T, prog=\"dot\")\n",
    "nx.draw(T, pos)\n",
    "plt.show()\n",
    "\n",
    "pos = graphviz_layout(T, prog=\"circo\")\n",
    "nx.draw(T, pos)\n",
    "plt.show()"
   ]
  },
  {
   "cell_type": "code",
   "execution_count": null,
   "metadata": {
    "colab": {
     "base_uri": "https://localhost:8080/"
    },
    "executionInfo": {
     "elapsed": 131,
     "status": "ok",
     "timestamp": 1644365733421,
     "user": {
      "displayName": "Travis Martin",
      "photoUrl": "https://lh3.googleusercontent.com/a/default-user=s64",
      "userId": "17005528951968776844"
     },
     "user_tz": 360
    },
    "id": "hUF9wMn-2oB3",
    "outputId": "27925a40-da37-44cd-f249-dd10f26ac8bb",
    "tags": []
   },
   "outputs": [],
   "source": [
    "# add comments to the code\n",
    "\n",
    "def binarySearch(arr, l, r, x):  #l = 0, r = 4, x =10\n",
    "  \n",
    "    if r >= l:  # True  4 > 0\n",
    "  \n",
    "        mid = l + (r - l) // 2   \n",
    "        # iteration 1: 0+(4-0) // 2 = 2 \n",
    "        # iteration 2: 3+(4-3) // 2 = 3\n",
    "        if arr[mid] == x:  #1: false   2: True \n",
    "            return mid\n",
    "  \n",
    "        elif arr[mid] > x:  #false\n",
    "            return binarySearch(arr, l, mid-1, x)\n",
    "  \n",
    "        else:  # assume is less than, cycle though again\n",
    "            return binarySearch(arr, mid + 1, r, x)\n",
    "              # iteration 2: arr, l=3, r = 4, x=10\n",
    "    else:\n",
    "        return -1\n",
    "  \n",
    "  \n",
    "\n",
    "arr = [2, 3, 4, 10, 40]\n",
    "x = 10\n",
    "  \n",
    "result = binarySearch(arr, 0, len(arr)-1, x)  #len = 4 x = 10\n",
    "  \n",
    "if result != -1:\n",
    "    print(\"Element is present at index % d\" % result)\n",
    "else:\n",
    "    print(\"Element is not present in array\")"
   ]
  },
  {
   "cell_type": "markdown",
   "metadata": {
    "id": "vSGMIrUA2aLn"
   },
   "source": [
    "### As the above code executes, think about the following questions:\n",
    "\n",
    "1. Play around with the binary trees generated and try to understand the parameters passed into the functions.\n",
    "2. Look at binary search.  What is the big assumption the algorithm makes before starting search?  that the numbers are ordered from smallest to highest.\n",
    "3. Why is binary search more efficient than linear search?  It takes the middle value and determines which direction to check based upon greater and less than values."
   ]
  },
  {
   "cell_type": "markdown",
   "metadata": {
    "id": "hc4i01wE4EtH"
   },
   "source": [
    "## 6.3 Binary trees and binary search (Group):  \n",
    "\n",
    "**Write a program that will do the following:**\n",
    "\n",
    "    1. Try to come up with an application where you would use a binary tree or binary search.\n",
    "    2. The application can be from work or life.\n",
    "    3. You may code the example if you feel it is necessary or you may just write some notes below.\n",
    "    4. You may be asked to share your project."
   ]
  },
  {
   "cell_type": "code",
   "execution_count": 3,
   "metadata": {
    "id": "gXx9Zjy24Oli"
   },
   "outputs": [],
   "source": [
    "#Binary tree for competition of sports, and perhaps using binary search for sales reports or \n",
    "#network failure detection of solarwinds log files"
   ]
  },
  {
   "cell_type": "code",
   "execution_count": null,
   "metadata": {
    "id": "CND3RTwa4Ot-"
   },
   "outputs": [],
   "source": []
  },
  {
   "cell_type": "markdown",
   "metadata": {
    "id": "wG7G8XN-UXZ-"
   },
   "source": [
    "## 6.4 Breadth first search (Follow):  \n",
    "\n",
    "**Learning Objectives:**\n",
    "\n",
    "    1. Understand how breadth first search works\n",
    "    2. Understand why breadth first search is implemented.\n",
    "    3. Understand the necessity for breadth first search.\n"
   ]
  },
  {
   "cell_type": "code",
   "execution_count": null,
   "metadata": {
    "id": "Kb8Ju26U2yzX",
    "tags": []
   },
   "outputs": [],
   "source": [
    "# add comments to the code\n",
    "\n",
    "from collections import defaultdict\n",
    "\n",
    "class Graph:\n",
    " \n",
    "    def __init__(self):\n",
    "        self.graph = defaultdict(list)\n",
    " \n",
    "    def addEdge(self,u,v):\n",
    "        self.graph[u].append(v)\n",
    " \n",
    "    def BFS(self, s):\n",
    "        visited_queue = []\n",
    "        BFS_queue = []\n",
    " \n",
    "        BFS_queue.append(s)\n",
    "        visited_queue.append(s)\n",
    "        #add single entry\n",
    "        \n",
    "        while BFS_queue: #true\n",
    "            s = BFS_queue.pop(0)  #remove first entry\n",
    "            #print(BFS_queue)\n",
    "            print (s, end = \" \")\n",
    " \n",
    "            for i in self.graph[s]:\n",
    "                #print(f'{i, self.graph[s]}')\n",
    "                if i not in visited_queue:\n",
    "                    BFS_queue.append(i) #append one entry\n",
    "                    visited_queue.append(i)\n",
    " \n",
    "      #  print(f'\\n self.graph: {self.graph}')"
   ]
  },
  {
   "cell_type": "code",
   "execution_count": null,
   "metadata": {
    "colab": {
     "base_uri": "https://localhost:8080/"
    },
    "executionInfo": {
     "elapsed": 123,
     "status": "ok",
     "timestamp": 1644340187450,
     "user": {
      "displayName": "Travis Martin",
      "photoUrl": "https://lh3.googleusercontent.com/a/default-user=s64",
      "userId": "17005528951968776844"
     },
     "user_tz": 360
    },
    "id": "Lp5PYZmm2y96",
    "outputId": "c32088dc-e7ab-4b88-d678-631fc0e33332"
   },
   "outputs": [],
   "source": [
    "g = Graph()\n",
    "g.addEdge(0, 1)\n",
    "g.addEdge(0, 2)\n",
    "g.addEdge(1, 2)\n",
    "g.addEdge(2, 0)\n",
    "g.addEdge(2, 3)\n",
    "g.addEdge(3, 4)\n",
    "\n",
    "start_node = 2\n",
    "\n",
    "print (f\"Breadth First Tree Traversal (starting from node {start_node})\")\n",
    "g.BFS(start_node)\n",
    "\n"
   ]
  },
  {
   "cell_type": "markdown",
   "metadata": {
    "id": "KQu-RUPY2bYw"
   },
   "source": [
    "### As the above code executes, think about the following questions:\n",
    "\n",
    "1. Try starting the search from a couple of different start nodes and trace the traversal.\n",
    "2. What is the function of the visited queue?\n",
    "3. What is the function of the BFS_queue?\n",
    "4. Why do we use a queue for breadth first search?"
   ]
  },
  {
   "cell_type": "markdown",
   "metadata": {
    "id": "FcUuaakx4tol",
    "jp-MarkdownHeadingCollapsed": true,
    "tags": []
   },
   "source": [
    "## 6.4 Breadth first search (Group):  \n",
    "\n",
    "**Write a program that will do the following:**\n",
    "\n",
    "    1. Implement breadth first search.\n",
    "    2. Implement a class Node.\n",
    "    3. Node class should have attributes value, and parent.\n",
    "    4. Graph class should **not** inherit the node class.\n",
    "    5. Create a graph object and use the add edge function to create a graph of nodes.  \n",
    "    6. Create at least 5 or 6 nodes.\n",
    "    7. Perform BFS and print the results of BFS.\n",
    "    8. As an added challenge, create a function to keep track of the parents of each node.\n",
    "    9. If you create the function, try printing these parents.\n"
   ]
  },
  {
   "cell_type": "code",
   "execution_count": 84,
   "metadata": {
    "id": "XnyXrE2P6Q_V",
    "tags": []
   },
   "outputs": [],
   "source": [
    "from collections import defaultdict\n",
    "import networkx as nx\n",
    "\n",
    "class Graph:\n",
    "    def __init__(self):\n",
    "        self.graph = defaultdict(list)\n",
    "    \n",
    "    def addEdge(self,u,v):\n",
    "        self.graph[u].append(v)\n",
    "        #Node().build_parent_list(u,v)\n",
    "        \n",
    "    def print_self(self):\n",
    "        print(f'self: {self.graph}')\n",
    "    \n",
    "    def BFS(self, s):  #breadth first search\n",
    "        #self.print_self()\n",
    "        visited_queue = []\n",
    "        BFS_queue = []\n",
    "        self.parent = {}\n",
    " \n",
    "        BFS_queue.append(s)\n",
    "        visited_queue.append(s)\n",
    "        #add single entry\n",
    "        \n",
    "        while BFS_queue: #true\n",
    "            s = BFS_queue.pop(0)  #remove first entry\n",
    "            print (s, end = \" \")\n",
    "            \n",
    "            for i in self.graph[s]:\n",
    "                #print(f'{i, self.graph[s]}')\n",
    "                if i not in visited_queue:\n",
    "                    BFS_queue.append(i) #append one entry to list\n",
    "                    visited_queue.append(i)\n",
    "                    self.parent[i] = s\n",
    "        \n",
    "        #test to call function from this class = success\n",
    "        #Node().print_parents()\n",
    "    def print_parent(self):\n",
    "        return self.parent\n",
    "        \n",
    "class Node:\n",
    "    def __init__(self):\n",
    "        self.node = defaultdict(list)\n",
    "        # test with list [] # create a list as parents dont need to be listed edges\n",
    "        \n",
    "    def build_parent_list(self,value, parent): #not fully operational..but \n",
    "        #self.value = value\n",
    "        #self.parent = parent\n",
    "        self.node[parent] = value\n",
    "        #print(value, parent)\n",
    "        #print(f'selfnode: {self.node}')\n",
    "        return\n",
    "        \n",
    "    def print_parent(self):\n",
    "        print(f'\\nParent Nodes are: {self.node}')\n",
    "        "
   ]
  },
  {
   "cell_type": "code",
   "execution_count": 78,
   "metadata": {
    "colab": {
     "base_uri": "https://localhost:8080/"
    },
    "executionInfo": {
     "elapsed": 102,
     "status": "ok",
     "timestamp": 1644341195504,
     "user": {
      "displayName": "Travis Martin",
      "photoUrl": "https://lh3.googleusercontent.com/a/default-user=s64",
      "userId": "17005528951968776844"
     },
     "user_tz": 360
    },
    "id": "uLTrPp6S6RIu",
    "outputId": "de01e5a7-9c3e-4d57-8327-de8c940bbea8",
    "tags": []
   },
   "outputs": [
    {
     "name": "stdout",
     "output_type": "stream",
     "text": [
      "Breadth First Tree Traversal (starting from node 2)\n",
      "2 0 1 5 3 4 \n",
      "Parent Nodes: {0: 2, 1: 2, 5: 2, 3: 2, 4: 3}\n"
     ]
    }
   ],
   "source": [
    "                     \n",
    "g = Graph()\n",
    "e = Node()\n",
    "\n",
    "g.addEdge(0, 1)\n",
    "g.addEdge(0, 2)\n",
    "g.addEdge(1, 2)\n",
    "g.addEdge(2, 0)\n",
    "g.addEdge(2, 1)\n",
    "g.addEdge(2, 5)\n",
    "g.addEdge(2, 3)\n",
    "g.addEdge(3, 4)\n",
    "\n",
    "\n",
    "start_node = 2\n",
    "\n",
    "print (f\"Breadth First Tree Traversal (starting from node {start_node})\")\n",
    "g.BFS(start_node)\n",
    "\n",
    "'''\n",
    "print()\n",
    "for i in range(len(g.graph)+1):\n",
    "    if len(g.graph[i]) > 1: #if length =1 is edge if > 1 then parent\n",
    "        e.build_parent_list(i, \"ParentNodes\")\n",
    "        print(f'Parent Nodes: {i}')\n",
    "#parent nodes with node count direct attached as NODE: Number of NODES\n",
    "e.print_parents() #requires alittle clean up to post only information needed\n",
    "'''\n",
    "print()\n",
    "#print(f'Parent Nodes: {e.print_parent()}')\n",
    "#print(f'Parent Nodes: {g.print_parent()}')\n",
    "\n",
    "e.node = g.parent \n",
    "#no need to repeat it, just copy from existing list\n",
    "\n",
    "print(f'Parent Nodes: {e.node}')"
   ]
  },
  {
   "cell_type": "markdown",
   "metadata": {
    "id": "Khor4BJ7UXdS"
   },
   "source": [
    "## 6.5 Depth first search (Follow):  \n",
    "\n",
    "**Learning Objectives:**\n",
    "\n",
    "    1. Understand how depth first search works\n",
    "    2. Understand why depth first search is implemented.\n",
    "    3. Understand the necessity for depth first search."
   ]
  },
  {
   "cell_type": "code",
   "execution_count": 93,
   "metadata": {
    "id": "QB8E5VtB20Q5"
   },
   "outputs": [],
   "source": [
    "# Add comments to the code\n",
    "\n",
    "from collections import defaultdict\n",
    " \n",
    "class Graph:\n",
    "    def __init__(self):\n",
    "        self.graph = defaultdict(list)\n",
    " \n",
    "    def addEdge(self,u,v):\n",
    "        self.graph[u].append(v)\n",
    "\n",
    "\n",
    "    def DFS(self, s):\n",
    "        visited_list = []\n",
    "        DFS_stack = []  #uses PREORDER to solve stack order\n",
    " \n",
    "        DFS_stack.append(s)\n",
    "        visited_list.append(s)\n",
    "\n",
    "        while DFS_stack:\n",
    "            s = DFS_stack.pop(-1) ##take out last entry\n",
    "            print (s, end = \" \")\n",
    "            # sequence used: a gets popped... b, c gets added, then c get popped\n",
    "            # f gets popped, g gets popped, b gets popped, d and e gets added, e gets popped, f gets popped\n",
    " \n",
    "            for i in self.graph[s]:\n",
    "                if i not in visited_list:  #add it if not in the list\n",
    "                    DFS_stack.append(i)\n",
    "                    visited_list.append(i)\n",
    " \n"
   ]
  },
  {
   "cell_type": "code",
   "execution_count": 94,
   "metadata": {
    "colab": {
     "base_uri": "https://localhost:8080/"
    },
    "executionInfo": {
     "elapsed": 162,
     "status": "ok",
     "timestamp": 1644341887447,
     "user": {
      "displayName": "Travis Martin",
      "photoUrl": "https://lh3.googleusercontent.com/a/default-user=s64",
      "userId": "17005528951968776844"
     },
     "user_tz": 360
    },
    "id": "51l5FnET20iH",
    "outputId": "e3a530ad-a1e8-40dd-a73f-0e7e66fe9f67"
   },
   "outputs": [
    {
     "name": "stdout",
     "output_type": "stream",
     "text": [
      "Following is DFS from (starting from node 2)\n",
      "2 3 4 5 1 0 "
     ]
    }
   ],
   "source": [
    "\n",
    "g = Graph()\n",
    "\n",
    "g.addEdge(0, 1)\n",
    "g.addEdge(0, 2)\n",
    "g.addEdge(1, 2)\n",
    "g.addEdge(2, 0)\n",
    "g.addEdge(2, 1)\n",
    "g.addEdge(2, 5)\n",
    "g.addEdge(2, 3)\n",
    "g.addEdge(3, 4)\n",
    " \n",
    "start_node = 2\n",
    "\n",
    "print(f\"Following is DFS from (starting from node {start_node})\")\n",
    "g.DFS(start_node)\n"
   ]
  },
  {
   "cell_type": "markdown",
   "metadata": {
    "id": "uuYg2P6uUXgM"
   },
   "source": [
    "### As the above code executes, think about the following questions:\n",
    "\n",
    "1. Try starting the search from a couple of different start nodes and trace the traversal.\n",
    "2. What is the function of the visited queue?  track which node was evaluated\n",
    "3. What is the function of the DFS_queue? used for tracking current list to be popped and evaluated.\n",
    "4. Why do we use a stack for depth first search? last in first out operations are utilized, in the order of operations."
   ]
  },
  {
   "cell_type": "markdown",
   "metadata": {
    "id": "woRtvbBkUXiw"
   },
   "source": [
    "## 6.5 Depth first search (Group):  \n",
    "\n",
    "**Write a program that will do the following:**\n",
    "\n",
    "    1. Implement depth first search.\n",
    "    2. Implement a class Node.\n",
    "    3. Node class should have attributes value, and parent.\n",
    "    4. Graph class should **not** inherit the node class.\n",
    "    5. Create a graph object and use the add edge function to create a graph of nodes.  \n",
    "    6. Create at least 5 or 6 nodes.\n",
    "    7. Perform DFS and print the results of DFS.\n",
    "    8. As an added challenge, create a function to keep track of the parents of each node.\n",
    "    9. If you create the function, try printing these parents."
   ]
  },
  {
   "cell_type": "code",
   "execution_count": 96,
   "metadata": {
    "id": "GVkV_ISY6b88"
   },
   "outputs": [],
   "source": [
    "\n",
    "from collections import defaultdict\n",
    " \n",
    "class Graph:\n",
    "    def __init__(self):\n",
    "        self.graph = defaultdict(list)\n",
    " \n",
    "    def addEdge(self,u,v):\n",
    "        self.graph[u].append(v)\n",
    "\n",
    "\n",
    "    def DFS(self, s):\n",
    "        self.visited_list = []\n",
    "        self.DFS_stack = []\n",
    "        self.parent = {}\n",
    "        \n",
    "        self.DFS_stack.append(s)\n",
    "        self.visited_list.append(s)\n",
    "\n",
    "        while self.DFS_stack:\n",
    "            s = self.DFS_stack.pop(-1) ##take out last entry\n",
    "            print (s, end = \" \")\n",
    " \n",
    "            for i in self.graph[s]:\n",
    "                if i not in self.visited_list:  #add it if not in the list\n",
    "                    self.DFS_stack.append(i)\n",
    "                    self.visited_list.append(i)\n",
    "                    self.parent[i] = s\n",
    "                    Node().build_parent_list(i, s)\n",
    "\n",
    "    def print_parent(self):\n",
    "        return self.parent\n",
    "    \n",
    "    \n",
    "class Node:\n",
    "    def __init__(self):\n",
    "        self.node = defaultdict(list)\n",
    "        # test with list [] # create a list as parents dont need to be listed edges\n",
    "        \n",
    "    def build_parent_list(self, value, parent):\n",
    "        #self.value = value\n",
    "        #self.parent = parent\n",
    "        self.node[parent] = value\n",
    "        #print(value, parent)\n",
    "        #print(f'selfnode: {self.node}')\n",
    "        return\n",
    "     \n",
    "    def print_parent(self):\n",
    "        #print(self.node)\n",
    "        return g.print_parent()\n",
    "        "
   ]
  },
  {
   "cell_type": "code",
   "execution_count": 98,
   "metadata": {
    "colab": {
     "base_uri": "https://localhost:8080/"
    },
    "executionInfo": {
     "elapsed": 148,
     "status": "ok",
     "timestamp": 1644342244904,
     "user": {
      "displayName": "Travis Martin",
      "photoUrl": "https://lh3.googleusercontent.com/a/default-user=s64",
      "userId": "17005528951968776844"
     },
     "user_tz": 360
    },
    "id": "lcyWdH-Q6cES",
    "outputId": "9fae01f8-79c1-414a-865a-89823c91f566"
   },
   "outputs": [
    {
     "name": "stdout",
     "output_type": "stream",
     "text": [
      "Depth First Tree Traversal (starting from node 2)\n",
      "2 3 4 5 1 0 \n",
      "Parent Nodes: {0: 2, 1: 2, 5: 2, 3: 2, 4: 3}\n"
     ]
    }
   ],
   "source": [
    "\n",
    "g = Graph()\n",
    "e = Node()\n",
    "\n",
    "g.addEdge(0, 1)\n",
    "g.addEdge(0, 2)\n",
    "g.addEdge(1, 2)\n",
    "g.addEdge(2, 0)\n",
    "g.addEdge(2, 1)\n",
    "g.addEdge(2, 5)\n",
    "g.addEdge(2, 3)\n",
    "g.addEdge(3, 4)\n",
    "\n",
    "start_node = 2\n",
    "\n",
    "print (f\"Depth First Tree Traversal (starting from node {start_node})\")\n",
    "g.DFS(start_node)\n",
    "print()\n",
    "#print(f'Parent Nodes: {e.print_parent()}')\n",
    "#print(f'Parent Nodes: {g.print_parent()}')\n",
    "e.node = g.parent\n",
    "#no need to repeat it, just copy from existing list\n",
    "\n",
    "print(f'Parent Nodes: {e.node}')\n"
   ]
  }
 ],
 "metadata": {
  "colab": {
   "authorship_tag": "ABX9TyPIC/iWg/NxZ3WEugK28nzp",
   "collapsed_sections": [],
   "name": "Week6 Solutions.ipynb",
   "provenance": []
  },
  "kernelspec": {
   "display_name": "Python 3 (ipykernel)",
   "language": "python",
   "name": "python3"
  },
  "language_info": {
   "codemirror_mode": {
    "name": "ipython",
    "version": 3
   },
   "file_extension": ".py",
   "mimetype": "text/x-python",
   "name": "python",
   "nbconvert_exporter": "python",
   "pygments_lexer": "ipython3",
   "version": "3.9.7"
  }
 },
 "nbformat": 4,
 "nbformat_minor": 4
}
