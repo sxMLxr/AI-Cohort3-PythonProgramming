{
 "cells": [
  {
   "cell_type": "markdown",
   "id": "2f4a642b",
   "metadata": {},
   "source": [
    "# Workshop 3 [Student]\n",
    "\n",
    "This notebook will cover the following topics:\n",
    "\n",
    "1. Basic Recursion\n",
    "2. Mathematical problem solving using recursion.\n",
    "3. Recursion versus iteration\n",
    "4. Dynamic programming and big O notation.\n",
    "5. Searching and sorting.\n"
   ]
  },
  {
   "cell_type": "markdown",
   "id": "b638de8a",
   "metadata": {},
   "source": [
    "## 3.1 Basic Recursion (Follow):  \n",
    "\n",
    "**Learning Objectives:**\n",
    "\n",
    "    1. Understand how recursion works\n",
    "    2. Understand how to implement a simple recursion program\n",
    "    3. Understand how a program executes through recursion"
   ]
  },
  {
   "cell_type": "code",
   "execution_count": null,
   "id": "7f9e28e4",
   "metadata": {},
   "outputs": [],
   "source": [
    "# add comments \n",
    "\n",
    "def main():\n",
    "    number = 0\n",
    "    number = int(input('How many numbers to display? '))\n",
    "\n",
    "    print_num(number)\n",
    "\n",
    "    \n",
    "def print_num(n):\n",
    "    if n > 1:\n",
    "        print_num(n - 1)\n",
    "    print (n, sep=' ')\n",
    "\n",
    "\n",
    "if __name__ == '__main__':\n",
    "    main()"
   ]
  },
  {
   "cell_type": "markdown",
   "id": "c55b4780",
   "metadata": {},
   "source": [
    "### As the above code executes, think about the following questions:\n",
    "\n",
    "1. Map out the execution of the program with print statements.\n",
    "2. Follow the value of n as the program executes.\n",
    "3. How many times does print_num execute before the program terminates?"
   ]
  },
  {
   "cell_type": "markdown",
   "id": "1c843288",
   "metadata": {},
   "source": [
    "## 3.1 Basic Recursion (Group):  \n",
    "\n",
    "**Write a program that will do the following:**\n",
    "\n",
    "    1. Take an integer N input from the user.\n",
    "    2. The program will recursively create N rows of asterisks.\n",
    "    3. Each row N will have N asterisks.\n",
    "    4. Use recursion to accomplish this task.\n",
    "    \n",
    "    For example: N = 3 will produce the following results\n",
    "    1. *\n",
    "    2. **\n",
    "    3. ***\n",
    "    "
   ]
  },
  {
   "cell_type": "code",
   "execution_count": null,
   "id": "bd778336",
   "metadata": {},
   "outputs": [],
   "source": [
    "'''\n",
    "1. Take an integer N input from the user.\n",
    "2. The program will recursively create N rows of asterisks.\n",
    "3. Each row N will have N asterisks.\n",
    "4. Use recursion to accomplish this task.\n",
    "'''\n",
    "def main():\n",
    "    number = 0 # instruction 1\n",
    "    number = int(input('How many numbers to display? '))\n",
    "\n",
    "    print_num(number)\n",
    "\n",
    "    \n",
    "def print_num(n):\n",
    "    if n > 1:\n",
    "        #essentially count down\n",
    "        print_num(n-1)\n",
    "    #instruction 2\n",
    "    print (\"*\" * n, sep=' ') #instruction 3 and 4\n",
    "    #print at the end because we will print outside the recursion loop starting at zero/1\n",
    "\n",
    "\n",
    "if __name__ == '__main__':\n",
    "    main()\n"
   ]
  },
  {
   "cell_type": "markdown",
   "id": "3a88f60c",
   "metadata": {},
   "source": [
    "## 3.2 Mathematical Problem Solving Using Recursion (Follow):  \n",
    "\n",
    "**Learning Objectives:**\n",
    "\n",
    "    1. Understand how mathematical operations can be accomplished using recursion\n",
    "    2. Understand base case and recursive case in recursion"
   ]
  },
  {
   "cell_type": "code",
   "execution_count": null,
   "id": "4c11de03",
   "metadata": {
    "scrolled": true
   },
   "outputs": [],
   "source": [
    "# add comments\n",
    "\n",
    "def main():\n",
    "    \n",
    "    number = int(input('Enter a nonnegative integer: '))\n",
    "\n",
    "    fact = factorial(number)\n",
    "\n",
    "    print('The factorial of', number, 'is', fact)\n",
    "\n",
    "def factorial(num):\n",
    "    if num == 0:\n",
    "        return 1\n",
    "    else:\n",
    "        return num * factorial(num - 1)\n",
    "\n",
    "\n",
    "main()\n"
   ]
  },
  {
   "cell_type": "code",
   "execution_count": null,
   "id": "26dd64dc",
   "metadata": {},
   "outputs": [],
   "source": [
    "# Add comments\n",
    "\n",
    "def main():\n",
    "\n",
    "    num1 = 0\n",
    "    num2 = 0\n",
    "\n",
    "    while num1 <= 0:\n",
    "        num1 = int(input('Enter the first number: '))\n",
    "\n",
    "    while num2 <= 0:\n",
    "        num2 = int(input('Enter the second number: '))        \n",
    "\n",
    "    print(f'{num1} times {num2} is {multiply(num1, num2)}')\n",
    "    \n",
    "    \n",
    "def multiply(x, y):\n",
    "    if x == 0 or y == 0:\n",
    "        return 0\n",
    "    else:\n",
    "        return x + multiply(x, y - 1)  \n",
    "        #does not actually multiply\n",
    "        #just adds recursively y number of times\n",
    "\n",
    "if __name__ == '__main__':\n",
    "    main()"
   ]
  },
  {
   "cell_type": "markdown",
   "id": "923eabe7",
   "metadata": {},
   "source": [
    "### As the above code executes, think about the following questions:\n",
    "\n",
    "1. Trace the execution of the code by placing print statements throughout.\n",
    "2. As the above programs execute, what are the values of the variables?\n",
    "3. Why would python change a multiplication problem into a recursive addition problem?"
   ]
  },
  {
   "attachments": {
    "image.png": {
     "image/png": "[encoded data removed]"
    }
   },
   "cell_type": "markdown",
   "id": "2ac98e0f",
   "metadata": {},
   "source": [
    "## 3.2 Mathematical Problem Solving Using Recursion (Group): \n",
    "\n",
    "Write a program that will do the following:\n",
    "\n",
    "1. Compute the first N Fibonacci numbers. Take N from the user.\n",
    "2. The first Fibonacci number is 1.\n",
    "3. The second Fibonacci number is 1.\n",
    "4. All other Fibonacci numbers follow the formula:\n",
    "    ![image.png](attachment:image.png)\n",
    "5. So, the third Fibonacci number = 1 + 1 = 2.\n",
    "6. Print the sequence to the console."
   ]
  },
  {
   "cell_type": "code",
   "execution_count": 1,
   "id": "02343d66",
   "metadata": {},
   "outputs": [
    {
     "name": "stdout",
     "output_type": "stream",
     "text": [
      "Give me a number for the Fibonacci Sequence: 6\n",
      "Fibonacci series: \n",
      "1\n",
      "1\n",
      "2\n",
      "3\n",
      "5\n",
      "8\n"
     ]
    }
   ],
   "source": [
    "def main():\n",
    "    '''\n",
    "    number = 0\n",
    "    prevn = 0\n",
    "    cnum = 1\n",
    "    nextn = 0\n",
    "    '''\n",
    "    number = int(input('Give me a number for the Fibonacci Sequence: '))\n",
    "\n",
    "    print(\"Fibonacci series: \")\n",
    "    #version 1 -\n",
    "    #print_fnumv1(prevn, cnum, nextn, number)\n",
    "    #version 2\n",
    "    for i in range(1,number+1): #skip 0, and start at 1\n",
    "        print(print_fnum(i))  #no need to save variable just print\n",
    "'''  \n",
    "def print_fnumv1(p, c, nn, n):\n",
    "    p = c + nn \n",
    "    c = nn\n",
    "    nn = p\n",
    "                  \n",
    "    if n > 1:\n",
    "        print(f'{p}, ')\n",
    "        print_fnum(p, c, nn, n - 1)\n",
    "    else: \n",
    "        print(f'{p}')\n",
    "'''\n",
    "def print_fnum(n):   \n",
    "    \n",
    "    if n == 0: #base numbers\n",
    "        return 0 #we already know its 0, so return 0\n",
    "    elif n == 1: #base numbers\n",
    "        return 1 #we already know its 1, so return 1\n",
    "    else:\n",
    "        return( print_fnum(n-1) + print_fnum(n-2) )\n",
    "\n",
    "    \n",
    "if __name__ == '__main__':\n",
    "    main()"
   ]
  },
  {
   "cell_type": "markdown",
   "id": "5456bac5",
   "metadata": {},
   "source": [
    "## 3.3 Recursion versus Iteration (Follow):  \n",
    "\n",
    "**Learning Objectives:**\n",
    "\n",
    "    1. Understand the benefits of doing recursion versus iteration\n",
    "    2. Understand why recursion is faster than iteration"
   ]
  },
  {
   "cell_type": "code",
   "execution_count": null,
   "id": "2e0ba5fa",
   "metadata": {},
   "outputs": [],
   "source": [
    "# add comments\n",
    "\n",
    "import datetime\n",
    "\n",
    "def main(factorial_number): \n",
    "    number = compute_factorial(factorial_number)\n",
    "    print('The factorial of', factorial_number, 'is', number)\n",
    "    \n",
    "    \n",
    "def compute_factorial(number):\n",
    "    \n",
    "    factorial = 1\n",
    "    \n",
    "    for value in range(number, 1, -1):\n",
    "        factorial *= value\n",
    "    \n",
    "    return factorial\n",
    "\n",
    "    \n",
    "factorial_number = int(input('Enter an integer number: '))\n",
    "begin_time = datetime.datetime.now()\n",
    "main(factorial_number)\n",
    "\n",
    "print(datetime.datetime.now() - begin_time)"
   ]
  },
  {
   "cell_type": "code",
   "execution_count": null,
   "id": "1aa439d6",
   "metadata": {},
   "outputs": [],
   "source": [
    "# add comments\n",
    "\n",
    "import datetime\n",
    "\n",
    "def main(number):\n",
    "    \n",
    "    fact = factorial(number)\n",
    "\n",
    "    print('The factorial of', number, 'is', fact)\n",
    "\n",
    "    \n",
    "def factorial(num):\n",
    "    if num == 0:\n",
    "        return 1\n",
    "    else:\n",
    "        return num * factorial(num - 1)\n",
    "\n",
    "number = int(input('Enter a nonnegative integer: '))\n",
    "begin_time = datetime.datetime.now()\n",
    "main(number)\n",
    "\n",
    "print(datetime.datetime.now() - begin_time)"
   ]
  },
  {
   "cell_type": "markdown",
   "id": "7f04b8ca",
   "metadata": {},
   "source": [
    "### As the above code executes, think about the following questions:\n",
    "\n",
    "1. Explain how recursion is faster than iteration.\n",
    "2. Give the programs above a few runs with different values and see how they perform."
   ]
  },
  {
   "cell_type": "markdown",
   "id": "2effa503",
   "metadata": {},
   "source": [
    "## 3.3 Recursion versus Iteration (Group): \n",
    "\n",
    "Write a program that will do the following:\n",
    "\n",
    "1. Write or use a programs from the past.\n",
    "2. One program should be using iteration to accomplish its task.\n",
    "3. The other program should use recursion. \n",
    "4. Both programs should do the same thing.\n",
    "5. Time both programs using the above code."
   ]
  },
  {
   "cell_type": "code",
   "execution_count": null,
   "id": "798bb2af",
   "metadata": {},
   "outputs": [],
   "source": [
    "\n",
    "import random as rn\n",
    "\n",
    "rand = rn.randint(1,50)\n",
    "    \n",
    "def correct(number):\n",
    "    print(\"nice work, the number was:\",rand)\n",
    "    return number\n",
    "    \n",
    "    \n",
    "def guess_again():\n",
    "    givemenumber = int(input(\"Guess what number im thinking of: ENTER 0 to end  \"))\n",
    "    return givemenumber\n",
    "\n",
    "\n",
    "def main():\n",
    "\n",
    "    number = guess_again()\n",
    "    \n",
    "    if number == 0 or number == rand:\n",
    "        correct(number)\n",
    "        return 0\n",
    "    elif number < rand:\n",
    "        print(\"Guess again, too low\")\n",
    "    else: #number > rand:\n",
    "        print(\"Guess again, too high\")\n",
    "        \n",
    "    main()\n",
    "\n",
    "if __name__ == '__main__':\n",
    "    main()\n"
   ]
  },
  {
   "cell_type": "markdown",
   "id": "eda44ab5",
   "metadata": {},
   "source": [
    "## 3.4 Dynamic Programming and Big O Notation (Follow):  \n",
    "\n",
    "**Learning Objectives:**\n",
    "\n",
    "    1. Understand how to use dynamic programming\n",
    "    2. Understand why dynamic programming is considered faster than basic recursion\n",
    "    3. Understand when to use dynamic programming\n",
    "    4. Understand basic big O notation"
   ]
  },
  {
   "cell_type": "code",
   "execution_count": null,
   "id": "6ee92729",
   "metadata": {},
   "outputs": [],
   "source": [
    "import datetime\n",
    "\n",
    "def DPfact(N):\n",
    "    arr = {}\n",
    "    arr[0] = 1\n",
    "    arr[1] = 1\n",
    "    \n",
    "    if N in arr:\n",
    "        return arr[N]\n",
    "    else:\n",
    "        for i in range(2, N+1):\n",
    "                arr[i] = i * arr[i-1]\n",
    "    \n",
    "    return arr[N]\n",
    "      \n",
    "    \n",
    "num=int(input(\"Enter the number: \"))\n",
    "\n",
    "begin_time = datetime.datetime.now()\n",
    "print(\"factorial of \",num,\" (dynamic): \",end=\"\")\n",
    "print(DPfact(num))\n",
    "print(datetime.datetime.now() - begin_time)"
   ]
  },
  {
   "cell_type": "markdown",
   "id": "517f083a",
   "metadata": {},
   "source": [
    "### As the above code executes, think about the following questions:\n",
    "\n",
    "1. Trace the value of N as the program executes.\n",
    "2. Trace the value of arr as the program executes."
   ]
  },
  {
   "cell_type": "markdown",
   "id": "135f6878",
   "metadata": {},
   "source": [
    "## 3.4 Dynamic Programming and Big O Notation (Group):  \n",
    "\n",
    "**Write a program that will do the following:**\n",
    "\n",
    "    1. Write a program that will compute the first N Fibonacci numbers.\n",
    "    2. Write the program using dynamic programming.\n",
    "    3. Refer to excercise 3.2 for the formula if needed."
   ]
  },
  {
   "cell_type": "code",
   "execution_count": null,
   "id": "363e5a89",
   "metadata": {},
   "outputs": [],
   "source": [
    "def main():\n",
    "   \n",
    "    number = int(input('Give me a number for the Fibonacci Sequence: '))\n",
    "\n",
    "    print(\"Fibonacci series: \")\n",
    "    print(print_fnum(number).values())  #no need to save variable just print\n",
    "\n",
    "def print_fnum(N):   \n",
    "\n",
    "    arr = {}\n",
    "    arr[0] = 1 \n",
    "    arr[1] = 1\n",
    "    \n",
    "    if N in arr: #\n",
    "        return arr[N] \n",
    "    else:\n",
    "        for i in range(2,N+1): #start at index 2, as 0 & 1 already defined\n",
    "            #do some math to get fibonacci sequence\n",
    "            arr[i] = arr[i-1] + arr[i-2]\n",
    "            \n",
    "    return arr\n",
    "                           \n",
    "if __name__ == '__main__':\n",
    "    main()\n"
   ]
  },
  {
   "cell_type": "markdown",
   "id": "30ed692b",
   "metadata": {},
   "source": [
    "## 3.5 Searching and Sorting (Follow):  \n",
    "\n",
    "**Learning Objectives:**\n",
    "\n",
    "    1. Understand how sorting works\n",
    "    2. Understand the need for sorting in programming\n",
    "    3. Understand how searching works \n",
    "    "
   ]
  },
  {
   "cell_type": "code",
   "execution_count": null,
   "id": "8735ef75",
   "metadata": {},
   "outputs": [],
   "source": [
    "\n",
    "unsorted_list = [35, 73, 90, 65, 23, 86, 43, 81, 34, 58]\n",
    "\n",
    "def insertion_sort(unsorted_list):\n",
    "    \n",
    "    for i in unsorted_list:\n",
    "        j = unsorted_list.index(i)\n",
    "    \n",
    "        while j>0:\n",
    "            if unsorted_list[j-1] > unsorted_list[j]:\n",
    "                unsorted_list[j-1], unsorted_list[j] = unsorted_list[j], unsorted_list[j-1]\n",
    "            else:\n",
    "                break\n",
    "            j = j-1\n",
    "\n",
    "        \n",
    "insertion_sort(unsorted_list)\n",
    "print (unsorted_list)\n"
   ]
  },
  {
   "cell_type": "markdown",
   "id": "647c099f",
   "metadata": {},
   "source": [
    "### As the above code executes, think about the following questions:\n",
    "\n",
    "1. Trace the program while it executes.\n",
    "2. Take the unsorted list and move the elements around as the program executes.\n",
    "3. How many times does the while loop execute above?"
   ]
  },
  {
   "cell_type": "markdown",
   "id": "67bd6acd",
   "metadata": {},
   "source": [
    "## 3.5 Searching and Sorting (Group):  \n",
    "\n",
    "**Write a program that will do the following:**\n",
    "\n",
    "    1. Write a program that will conduct insertion sort, but do it recursively.\n",
    "    2. Add the code to test how long the code takes to run and verify it is faster than doing it iteratively.\n",
    "    "
   ]
  },
  {
   "cell_type": "code",
   "execution_count": 7,
   "id": "ff7fb92a",
   "metadata": {},
   "outputs": [
    {
     "name": "stdout",
     "output_type": "stream",
     "text": [
      "[23, 34, 35, 43, 58, 65, 73, 81, 86, 90]\n",
      "0:00:00.000206\n"
     ]
    }
   ],
   "source": [
    "import datetime\n",
    "\n",
    "unsorted_list = [35, 73, 90, 65, 23, 86, 43, 81, 34, 58]\n",
    "counter = int(len(unsorted_list))\n",
    "\n",
    "def recursion_sort(ulist, counter=0):\n",
    "    for j in range(counter):\n",
    "        while j > 0:\n",
    "            if ulist[j-1] > ulist[j]:\n",
    "                ulist[j-1], ulist[j] = ulist[j], ulist[j-1]\n",
    "            else:\n",
    "                break\n",
    "            j = j-1\n",
    "    #recursion_sort(ulist)\n",
    "    \n",
    "def main():    \n",
    "    begin_time = datetime.datetime.now()\n",
    "    recursion_sort(unsorted_list, counter)\n",
    "    print(unsorted_list)\n",
    "    print(datetime.datetime.now() - begin_time)\n",
    "\n",
    "main()"
   ]
  },
  {
   "cell_type": "code",
   "execution_count": 8,
   "id": "e6ea8e53",
   "metadata": {},
   "outputs": [
    {
     "name": "stdout",
     "output_type": "stream",
     "text": [
      "[23, 23, 34, 35, 43, 58, 65, 73, 81, 86, 90]\n",
      "0:00:00.001282\n"
     ]
    }
   ],
   "source": [
    "import datetime\n",
    "\n",
    "unsorted_list = [35, 73, 90, 65, 23, 86, 43, 81, 34, 58, 23]\n",
    "counter = int(len(unsorted_list))\n",
    "    \n",
    "def main():\n",
    "    begin_time = datetime.datetime.now()\n",
    "    for x in range(counter-4,0,-1): #count forwards: try 6 times just to test success rate\n",
    "        for i in range(counter-1,0,-1): #count backwards\n",
    "            iter_sort(unsorted_list, i)\n",
    "    \n",
    "    print(unsorted_list)\n",
    "    print(datetime.datetime.now() - begin_time)\n",
    "\n",
    "def iter_sort(ulist, index):\n",
    "    if ulist[index-1] > ulist[index]:\n",
    "        ulist[index-1], ulist[index] = ulist[index], ulist[index-1]\n",
    "    elif index > 1:\n",
    "        iter_sort(ulist, index-1)\n",
    "    else:\n",
    "        return 1   \n",
    "    \n",
    "main()"
   ]
  },
  {
   "cell_type": "markdown",
   "id": "99a7282e",
   "metadata": {},
   "source": [
    "## 3.6 Try and Except Blocks (Follow):  \n",
    "\n",
    "**Learning Objectives:**\n",
    "\n",
    "    1. Understand try and except blocks\n",
    "    2. Understand how a try and except block executes\n",
    "    3. Understand the flow of a try except block"
   ]
  },
  {
   "cell_type": "code",
   "execution_count": 6,
   "id": "3b5eef99",
   "metadata": {},
   "outputs": [
    {
     "name": "stdout",
     "output_type": "stream",
     "text": [
      "Enter numerator, a:9\n",
      "Enter denominator, b:6\n",
      "Result of a/b=1.500\n",
      "This will execute if the try executes.\n",
      "This will always execute.\n"
     ]
    }
   ],
   "source": [
    "# add comments to the code\n",
    "try:\n",
    "    a = int(input(\"Enter numerator, a:\"))\n",
    "    b = int(input(\"Enter denominator, b:\"))\n",
    "    c = a/b\n",
    "    print(f\"Result of a/b={c:.3f}\")\n",
    "    \n",
    "except ValueError:\n",
    "    print(\"Entered value must be a number. Please try again.\")\n",
    "    \n",
    "except ZeroDivisionError:\n",
    "    print(\"Unable to divide by zero. Please try again.\")\n",
    "    \n",
    "else:\n",
    "    print(\"This will execute if the try executes.\")\n",
    "    \n",
    "finally:\n",
    "    print(\"This will always execute.\")"
   ]
  },
  {
   "cell_type": "markdown",
   "id": "483eb2f7",
   "metadata": {},
   "source": [
    "### As the above code executes, think about the following questions:\n",
    "\n",
    "1. Which part executes first, second, third?\n",
    "2. Under what circumstances do each of the parts execute?\n",
    "3. Where would this sort of setup be useful when programming?"
   ]
  },
  {
   "cell_type": "code",
   "execution_count": null,
   "id": "62382350",
   "metadata": {},
   "outputs": [],
   "source": []
  }
 ],
 "metadata": {
  "kernelspec": {
   "display_name": "Python 3 (ipykernel)",
   "language": "python",
   "name": "python3"
  },
  "language_info": {
   "codemirror_mode": {
    "name": "ipython",
    "version": 3
   },
   "file_extension": ".py",
   "mimetype": "text/x-python",
   "name": "python",
   "nbconvert_exporter": "python",
   "pygments_lexer": "ipython3",
   "version": "3.9.7"
  }
 },
 "nbformat": 4,
 "nbformat_minor": 5
}
