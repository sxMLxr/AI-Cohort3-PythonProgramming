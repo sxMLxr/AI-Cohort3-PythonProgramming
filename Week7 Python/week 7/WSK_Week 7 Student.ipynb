{
 "cells": [
  {
   "cell_type": "markdown",
   "metadata": {
    "id": "i-lBOyvIXa6y"
   },
   "source": [
    "# Workshop 7 [Student]\n",
    "\n",
    "This notebook will cover the following topics:\n",
    "\n",
    "1. Opening, reading, and writing files\n",
    "2. File structure, file formats, and non-standard file encoding  \n",
    "3. File cursors and file pointers\n",
    "4. Reading in files as classes\n",
    "5. Exception handling in files and try, except blocks\n",
    "6. Mini project\n"
   ]
  },
  {
   "cell_type": "markdown",
   "metadata": {
    "id": "bR2o7B0cXbCt"
   },
   "source": [
    "## 7.1  Opening, reading, and writing files (Follow):  \n",
    "\n",
    "**Learning Objectives:**\n",
    "\n",
    "    1. Understand how to open and close files.\n",
    "    2. Understand how to write to and read from files."
   ]
  },
  {
   "cell_type": "code",
   "execution_count": null,
   "metadata": {
    "colab": {
     "base_uri": "https://localhost:8080/",
     "height": 321
    },
    "executionInfo": {
     "elapsed": 137,
     "status": "error",
     "timestamp": 1644456766543,
     "user": {
      "displayName": "Travis Martin",
      "photoUrl": "https://lh3.googleusercontent.com/a/default-user=s64",
      "userId": "17005528951968776844"
     },
     "user_tz": 360
    },
    "id": "UhhJ9-gNz9s1",
    "outputId": "11cce50f-89f1-497a-fed7-f1a4cb964b6b"
   },
   "outputs": [],
   "source": [
    "# add comments to the code\n",
    "\n",
    "# file read/write flags\n",
    "# 'r' read\n",
    "# 'r+' read/write\n",
    "# 'w' write\n",
    "# 'w+' write/read\n",
    "# 'a' append\n",
    "# 'a+' append/read\n",
    "\n",
    "def main():\n",
    "\n",
    "    line = ''\n",
    "    counter = 0\n",
    "    \n",
    "    infile = open('test.txt', 'r')\n",
    "\n",
    "    line = infile.readline()\n",
    "    counter = 1\n",
    "    \n",
    "    while line != '' and counter <= 5:\n",
    "        line = line.rstrip('\\n')\n",
    "        print(line)\n",
    "        line = infile.readline()\n",
    "        counter +=1  \n",
    "\n",
    "    infile.close()\n",
    "\n",
    "if __name__ == '__main__':\n",
    "    main()"
   ]
  },
  {
   "cell_type": "code",
   "execution_count": null,
   "metadata": {
    "id": "WoF2uOf6z9y8"
   },
   "outputs": [],
   "source": [
    "def main():\n",
    "\n",
    "    line = ''\n",
    "    counter = 0\n",
    "    \n",
    "    infile = open('test.txt', 'r')\n",
    "\n",
    "    lines = infile.readlines()\n",
    "    for line in lines:\n",
    "        print(line) \n",
    "\n",
    "    infile.close()\n",
    "\n",
    "if __name__ == '__main__':\n",
    "    main()"
   ]
  },
  {
   "cell_type": "code",
   "execution_count": null,
   "metadata": {},
   "outputs": [],
   "source": [
    "# add comments to the code\n",
    "\n",
    "import random\n",
    "\n",
    "def main():\n",
    "    filename = ''\n",
    "    numberOfRandoms = 0\n",
    "    randomNumber = 0\n",
    "\n",
    "    filename = \"test.txt\"\n",
    "\n",
    "    numberOfRandoms = int(input('Enter the number of '\n",
    "                                'random numbers to be '\n",
    "                                'written to the file: '))\n",
    "\n",
    "    outputFile = open(filename, 'a') \n",
    "    outputFile.write('\\n')\n",
    "    \n",
    "    for counter in range (numberOfRandoms):\n",
    "        randomNumber = random.randint(1, 500)\n",
    "        outputFile.write(str(randomNumber) + '\\n')\n",
    "\n",
    "    outputFile.close()\n",
    "\n",
    "\n",
    "if __name__ == '__main__':\n",
    "    main()"
   ]
  },
  {
   "cell_type": "markdown",
   "metadata": {
    "id": "ykPS_C_707BL"
   },
   "source": [
    "### As the above code executes, think about the following questions:\n",
    "\n",
    "1. In the first code example, why are only five lines printed?\n",
    "2. In the first code example, what does the line infile.readline() do?\n",
    "3. In the first code sample, what does the line.rstrip() function do?\n",
    "4. In the second code sample, what does the infile.readlines() function do?\n",
    "5. Why is there space between each output in the second code sample?\n",
    "6. What does the infile.close() function do?"
   ]
  },
  {
   "cell_type": "markdown",
   "metadata": {
    "id": "XebfKHYVzxcL"
   },
   "source": [
    "## 7.1  Opening, reading, and writing files (Group):  \n",
    "\n",
    "**Write a program that will do the following:**\n",
    "\n",
    "    1. Read the test.txt file to your program.\n",
    "    2. Remove all whitespace and carriage returns from the file.\n",
    "    3. Count the number of lines in the file and print the altered contents to the console.\n",
    "    \n",
    "    For example:  the first line should output \"oneline\"\n",
    "    Hint: Use the replace function to accomplish this."
   ]
  },
  {
   "cell_type": "code",
   "execution_count": null,
   "metadata": {
    "id": "tHDYSG9lz-ho"
   },
   "outputs": [],
   "source": [
    "\n",
    " "
   ]
  },
  {
   "cell_type": "markdown",
   "metadata": {
    "id": "pJ6U-aC-XbFy"
   },
   "source": [
    "## 7.2  File structure, file formats, and non-standard file encoding (Follow):  \n",
    "\n",
    "**Learning Objectives:**\n",
    "\n",
    "    1. Understand how to deal with standard text files.\n",
    "    2. Understand how to deal with CSV files.\n",
    "    3. Understnad how to deal with non-standard encoded files."
   ]
  },
  {
   "cell_type": "code",
   "execution_count": null,
   "metadata": {
    "id": "ezQY2m1U0RPA"
   },
   "outputs": [],
   "source": [
    "import csv\n",
    "\n",
    "with open('grades.csv', mode = 'w', newline='') as grades:\n",
    "        writer = csv.writer(grades)\n",
    "        writer.writerow([1, 'Red', 'A'])\n",
    "        writer.writerow([2, 'Green', 'B'])\n",
    "        writer.writerow([3, 'Blue', 'C'])\n",
    "        writer.writerow([4, 'Purple', 'D'])\n",
    "        writer.writerow([5, 'Orange', 'Excellent'])\n",
    "        \n",
    "with open('grades.csv', 'r', newline='') as grades:\n",
    "    print(f'{\"ID\":<4}{\"Name\":<7}{\"Grade\"}')\n",
    "    reader = csv.reader(grades)\n",
    "    for record in reader:\n",
    "        student_id, name, grade = record\n",
    "        print(f'{student_id:<4}{name:<7}{grade}')\n",
    "           "
   ]
  },
  {
   "cell_type": "code",
   "execution_count": null,
   "metadata": {
    "id": "BBPnJxAb0RVe"
   },
   "outputs": [],
   "source": [
    "# https://docs.python.org/3/library/io.html\n",
    "# The above link is the documentation for the built in io class in python\n",
    "# add comments to the code\n",
    "\n",
    "def main():\n",
    "    \n",
    "    infile = open('test.txt', 'r')\n",
    "\n",
    "    lines = infile.readlines()\n",
    "    \n",
    "    outfile = open('test-binary.bin', 'w')\n",
    "    for line in lines:\n",
    "        for character in line:\n",
    "            binary_character = format(ord(character), '08b')\n",
    "            outfile.write(binary_character)  \n",
    "\n",
    "    outfile.close()\n",
    "    infile.close()\n",
    "\n",
    "if __name__ == '__main__':\n",
    "    main()"
   ]
  },
  {
   "cell_type": "markdown",
   "metadata": {
    "id": "sKp1o1hZ1DSm"
   },
   "source": [
    "### As the above code executes, think about the following questions:\n",
    "\n",
    "1. Look at the CSV example above.  What does the with command do?  How is this different than try/except?\n",
    "2. What is a CSV file?  Why is it useful?\n",
    "3. In the second program why do I have a nested for loop?  Is there a better way to do this?\n",
    "4. What is the binary character variable?  What is contained inside the variable?"
   ]
  },
  {
   "cell_type": "markdown",
   "metadata": {
    "id": "6XBGjmxY0JqO"
   },
   "source": [
    "## 7.2  File structure, file formats, and non-standard file encoding (Group):  \n",
    "\n",
    "**Write a program that will do the following:**\n",
    "\n",
    "    1. Create a new CSV file with 4 columns.\n",
    "    2. The columns should be ID, Name, Grade, and raw score.\n",
    "    3. The ID, name, and grade can be anything you want.\n",
    "    4. The raw score column should be a random number between 0 and 100.\n",
    "    5. Write the results to the file.\n",
    "    6. Next, read the file and find the average grade for all students.\n",
    "    7. The CSV should have at least 5 rows.\n",
    "    8. As an added challenge, try changing the Grade to match the raw score."
   ]
  },
  {
   "cell_type": "code",
   "execution_count": null,
   "metadata": {
    "id": "NdQIE2OM0R7v"
   },
   "outputs": [],
   "source": [
    "\n"
   ]
  },
  {
   "cell_type": "markdown",
   "metadata": {
    "id": "Dj0OlrdWXbIf"
   },
   "source": [
    "## 7.3  File cursors and file pointers  (Follow):  \n",
    "\n",
    "**Learning Objectives:**\n",
    "\n",
    "    1. Understand what file pointers and curors are doing.\n",
    "    2. Understand how to manilulate file pointers and cursors."
   ]
  },
  {
   "cell_type": "code",
   "execution_count": null,
   "metadata": {
    "id": "kK3ToBte0cs9"
   },
   "outputs": [],
   "source": [
    "# add comments to the code\n",
    "\n",
    "infile = open('test.txt', 'r')\n",
    "lines = infile.read(10)\n",
    "print(lines)\n",
    "\n",
    "print(infile.tell())\n",
    "\n",
    "print(infile.seek(2))\n",
    "lines = infile.read(10)\n",
    "print(lines)\n",
    "infile.close()\n",
    "\n"
   ]
  },
  {
   "cell_type": "markdown",
   "metadata": {
    "id": "QmqxF-RO1Fa0"
   },
   "source": [
    "### As the above code executes, think about the following questions:\n",
    "\n",
    "1. What does the read() function do?\n",
    "2. What does the tell() function do?\n",
    "3. What does the seek() function do?"
   ]
  },
  {
   "cell_type": "markdown",
   "metadata": {
    "id": "plPBqUND0Uzo"
   },
   "source": [
    "## 7.3  File cursors and file pointers  (Group):  \n",
    "\n",
    "**Write a program that will do the following:**\n",
    "\n",
    "    1. Open the test.txt file.\n",
    "    2. Print to the console the file in reverse order.\n",
    "    3. Use the seek and read commands to do this.\n",
    "    3. As an added challenge, try to automate the process instead of just hard coding a bunch of seeks.\n",
    "    \n",
    "    For example: ten line\n",
    "                 nine line ..."
   ]
  },
  {
   "cell_type": "code",
   "execution_count": null,
   "metadata": {
    "id": "9d4bNyS10dR5"
   },
   "outputs": [],
   "source": [
    "\n"
   ]
  },
  {
   "cell_type": "markdown",
   "metadata": {
    "id": "6vzSkpkKXbLM"
   },
   "source": [
    "## 7.4  Reading in files as classes (Follow):  \n",
    "\n",
    "**Learning Objectives:**\n",
    "\n",
    "    1. Understand how to read a file in as a class.\n",
    "    2. Understand why reading a file as a class can be useful."
   ]
  },
  {
   "cell_type": "code",
   "execution_count": null,
   "metadata": {
    "id": "KeuEZ-Jm0mzi"
   },
   "outputs": [],
   "source": [
    "# add comments to the code\n",
    "\n",
    "import csv\n",
    "\n",
    "class Athlete:\n",
    "    def __init__(self, name, sex, age, height, weight, team, noc, games, year, season, city, sport, event, medal):\n",
    "        self.__name = name\n",
    "        self.__sex = sex\n",
    "        self.__age = age\n",
    "        self.__height = height\n",
    "        self.__weight = weight\n",
    "        self.__team = team\n",
    "        self.__noc = noc\n",
    "        self.__games = games\n",
    "        self.__year = year\n",
    "        self.__season = season\n",
    "        self.__city = city\n",
    "        self.__sport = sport\n",
    "        self.__event = event\n",
    "        self.__medal = medal\n",
    "        \n",
    "        \n",
    "    def get_age(self):\n",
    "        try:\n",
    "            if int(self.__age) > 0:\n",
    "                return int(self.__age)\n",
    "        except:\n",
    "            pass\n",
    "            return 0\n",
    "    \n"
   ]
  },
  {
   "cell_type": "code",
   "execution_count": null,
   "metadata": {
    "id": "KU9H9U8s0m5c"
   },
   "outputs": [],
   "source": [
    "athlete_list = []\n",
    "age_total = 0\n",
    "\n",
    "with open('athlete_events_short.csv', 'r', newline='') as athletes:\n",
    "    reader = csv.reader(athletes)\n",
    "    \n",
    "    header = next(reader)\n",
    "    \n",
    "    for line in reader:\n",
    "        new_athlete = Athlete(line[1], line[2], line[3], line[4], line[5], line[6], \n",
    "            line[7], line[8], line[9], line[10], line[11], line[12], line[13], line[14])\n",
    "        athlete_list.append(new_athlete)\n",
    "        \n",
    "for athlete in athlete_list:\n",
    "    age_total += athlete.get_age()\n",
    "    \n",
    "print(\" Average age in years for all olympians = \", age_total/len(athlete_list))"
   ]
  },
  {
   "cell_type": "markdown",
   "metadata": {
    "id": "1z52AFir1HaS"
   },
   "source": [
    "### As the above code executes, think about the following questions:\n",
    "\n",
    "1. What is this program doing?\n",
    "2. What does the newline='' do in line 4 above?\n",
    "3. What doe line 7 do?  Why is it there?\n",
    "4. Why did I implement a try/except block in 21-27 in the above code example?\n",
    "5. Am I actually finding the average age?  Explain."
   ]
  },
  {
   "cell_type": "markdown",
   "metadata": {
    "id": "LoQPKPR20eeo"
   },
   "source": [
    "## 7.4  Reading in files as classes (Group):  \n",
    "\n",
    "**Write a program that will do the following:**\n",
    "\n",
    "    1. Take the code above in 7.4 and extend it.  \n",
    "    2. Read in the file and compute the average weight and average height.\n",
    "    3. Also try to find the maximum height of all athletes.\n",
    "    4. Report the findings to the console."
   ]
  },
  {
   "cell_type": "code",
   "execution_count": null,
   "metadata": {
    "id": "XPPmc7t70nYU"
   },
   "outputs": [],
   "source": [
    "\n"
   ]
  },
  {
   "cell_type": "code",
   "execution_count": null,
   "metadata": {
    "id": "QEkGTZ-G0nbY"
   },
   "outputs": [],
   "source": [
    "\n"
   ]
  },
  {
   "cell_type": "markdown",
   "metadata": {
    "id": "tibJGoSxXbN3"
   },
   "source": [
    "## 7.5 Exception handling in files and try, except blocks (Follow):  \n",
    "\n",
    "**Learning Objectives:**\n",
    "\n",
    "    1. Understand how to catch errors in file handling.\n",
    "    2. Understand how to deal with errors in file handling.\n",
    "    3. Understand why it is necessary to handle file issues."
   ]
  },
  {
   "cell_type": "code",
   "execution_count": null,
   "metadata": {
    "id": "NOno0itR03fL"
   },
   "outputs": [],
   "source": [
    "# add comments to the code\n",
    "\n",
    "def main():\n",
    "    total = 0.0\n",
    "    number = 0.0\n",
    "    counter = 0\n",
    "    \n",
    "    filename = 'numbers.txt'\n",
    "    \n",
    "    try:\n",
    "        infile = open(filename, 'r')\n",
    "\n",
    "        for line in infile:\n",
    "            counter = counter + 1\n",
    "            number = float(line)\n",
    "            total += number\n",
    "        \n",
    "        #infile.close()\n",
    "\n",
    "        average = total / counter\n",
    "        print (f'Average: {average}')\n",
    "\n",
    "    \n",
    "    except IOError:\n",
    "        print('An error occurred while trying to read the file.')\n",
    "        error_flag = 1\n",
    "    except ValueError:\n",
    "        print('Non-numeric data found in the file')\n",
    "        error_flag = 1\n",
    "    except: \n",
    "        print('An error occurred')\n",
    "        error_flag = 1\n",
    "    else:\n",
    "        print(\"File loaded succesfully.\")\n",
    "        error_flag = 0\n",
    "    finally:\n",
    "        if error_flag == 1:\n",
    "            print(\"An error occured, please fix it.\")\n",
    "        else:\n",
    "            print(\"No errors occured, good job.\")\n",
    "        infile.close()\n",
    "        \n",
    "                     \n",
    "if __name__ == '__main__':\n",
    "    main()"
   ]
  },
  {
   "cell_type": "markdown",
   "metadata": {
    "id": "m5-YGuHl1Jlb"
   },
   "source": [
    "### As the above code executes, think about the following questions:\n",
    "\n",
    "1. Play around with the text file and try to get all the different exceptions.\n",
    "2. Will this code above catch all exceptions that could exist, explain?\n",
    "3. Lookup the exceptions in the above code and describe them briefly below."
   ]
  },
  {
   "cell_type": "markdown",
   "metadata": {
    "id": "Ocfgak580qbO"
   },
   "source": [
    "## 7.5 Exception handling in files and try, except blocks (Group):  \n",
    "\n",
    "**Write a porgram that will do the following:**\n",
    "\n",
    "    1. Load the numbers.txt text file by taking input from the user.\n",
    "    2. Add several random numbers to the file as input from the user.\n",
    "    3. Read in all the numbers in the file.\n",
    "    4. Encapsulate both reads and writes in separate try exception blocks\n",
    "    5. Find the average of all the numbers."
   ]
  },
  {
   "cell_type": "code",
   "execution_count": null,
   "metadata": {
    "id": "36VKGzBY04AQ"
   },
   "outputs": [],
   "source": [
    "\n"
   ]
  },
  {
   "cell_type": "markdown",
   "metadata": {
    "id": "pOlr3Qzozipa"
   },
   "source": [
    "## 7.6 Mini-Project (Group):  \n",
    "\n",
    "**Write a program that will do the following:**\n",
    "\n",
    "    1. Find a file from work or life.  If you cannot find a file, feel free to use the included file: \n",
    "        athlete_events.csv from kaggle.\n",
    "    2. The file must have numeric data and text data.  It may be a CSV, txt, or other file.\n",
    "    3. Read the file into the program as a class. \n",
    "    4. Do some basic analysis on the file.  Find the mean of the numeric data, count the number of rows, and so on.\n",
    "    5. Report the basic statistics to the console for the user.\n",
    "    6. As an added challenge, try finding things like mode for the text data, standard deviation for numeric, and so on.\n",
    "    7. Try also reporting the data graphically using matplot lib.  "
   ]
  },
  {
   "cell_type": "code",
   "execution_count": null,
   "metadata": {
    "id": "nkMi1qXp04y1"
   },
   "outputs": [],
   "source": []
  },
  {
   "cell_type": "code",
   "execution_count": null,
   "metadata": {
    "id": "Sk78mwNQ043Z"
   },
   "outputs": [],
   "source": []
  }
 ],
 "metadata": {
  "colab": {
   "authorship_tag": "ABX9TyOKYLbWzyJgPds9rc1AVPJL",
   "collapsed_sections": [],
   "name": "Week 7 Solutions.ipynb",
   "provenance": []
  },
  "kernelspec": {
   "display_name": "Python 3 (ipykernel)",
   "language": "python",
   "name": "python3"
  },
  "language_info": {
   "codemirror_mode": {
    "name": "ipython",
    "version": 3
   },
   "file_extension": ".py",
   "mimetype": "text/x-python",
   "name": "python",
   "nbconvert_exporter": "python",
   "pygments_lexer": "ipython3",
   "version": "3.8.12"
  }
 },
 "nbformat": 4,
 "nbformat_minor": 1
}
