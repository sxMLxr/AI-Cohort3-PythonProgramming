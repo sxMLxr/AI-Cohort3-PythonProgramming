{
 "cells": [
  {
   "cell_type": "markdown",
   "metadata": {
    "id": "i-lBOyvIXa6y"
   },
   "source": [
    "# Workshop 7 [Student]\n",
    "\n",
    "This notebook will cover the following topics:\n",
    "\n",
    "1. Opening, reading, and writing files\n",
    "2. File structure, file formats, and non-standard file encoding  \n",
    "3. File cursors and file pointers\n",
    "4. Reading in files as classes\n",
    "5. Exception handling in files and try, except blocks\n",
    "6. Mini project\n"
   ]
  },
  {
   "cell_type": "markdown",
   "metadata": {
    "id": "bR2o7B0cXbCt"
   },
   "source": [
    "## 7.1  Opening, reading, and writing files (Follow):  \n",
    "\n",
    "**Learning Objectives:**\n",
    "\n",
    "    1. Understand how to open and close files.\n",
    "    2. Understand how to write to and read from files."
   ]
  },
  {
   "cell_type": "code",
   "execution_count": null,
   "metadata": {
    "colab": {
     "base_uri": "https://localhost:8080/",
     "height": 321
    },
    "executionInfo": {
     "elapsed": 137,
     "status": "error",
     "timestamp": 1644456766543,
     "user": {
      "displayName": "Travis Martin",
      "photoUrl": "https://lh3.googleusercontent.com/a/default-user=s64",
      "userId": "17005528951968776844"
     },
     "user_tz": 360
    },
    "id": "UhhJ9-gNz9s1",
    "outputId": "11cce50f-89f1-497a-fed7-f1a4cb964b6b"
   },
   "outputs": [],
   "source": [
    "# add comments to the code\n",
    "\n",
    "# file read/write flags\n",
    "# 'r' read\n",
    "# 'r+' read/write\n",
    "# 'w' write\n",
    "# 'w+' write/read\n",
    "# 'a' append\n",
    "# 'a+' append/read\n",
    "\n",
    "def main():\n",
    "\n",
    "    line = ''\n",
    "    counter = 0\n",
    "    \n",
    "    infile = open('test.txt', 'r')  # read file test.txt\n",
    "\n",
    "    line = infile.readline()\n",
    "    counter = 1\n",
    "    \n",
    "    while line != '' and counter <= 5:\n",
    "        line = line.rstrip('\\n')    #remove new line breaks\n",
    "        print(line)\n",
    "        line = infile.readline()\n",
    "        counter +=1  \n",
    "\n",
    "    infile.close()\n",
    "\n",
    "if __name__ == '__main__':\n",
    "    main()"
   ]
  },
  {
   "cell_type": "code",
   "execution_count": null,
   "metadata": {
    "id": "WoF2uOf6z9y8"
   },
   "outputs": [],
   "source": [
    "def main():\n",
    "\n",
    "    line = ''\n",
    "    counter = 0\n",
    "    \n",
    "    infile = open('test.txt', 'r')\n",
    "\n",
    "    lines = infile.readlines()\n",
    "    for line in lines:  # read all lines and print them\n",
    "        print(line) \n",
    "\n",
    "    infile.close()\n",
    "\n",
    "if __name__ == '__main__':\n",
    "    main()"
   ]
  },
  {
   "cell_type": "code",
   "execution_count": null,
   "metadata": {},
   "outputs": [],
   "source": [
    "# add comments to the code\n",
    "\n",
    "# file read/write flags\n",
    "# 'r' read\n",
    "# 'r+' read/write\n",
    "# 'w' write\n",
    "# 'w+' write/read\n",
    "# 'a' append\n",
    "# 'a+' append/read\n",
    "\n",
    "import random\n",
    "\n",
    "def main():\n",
    "    filename = ''\n",
    "    numberOfRandoms = 0\n",
    "    randomNumber = 0\n",
    "\n",
    "    filename = \"test.txt\"\n",
    "\n",
    "    numberOfRandoms = int(input('Enter the number of '\n",
    "                                'random numbers to be '\n",
    "                                'written to the file: '))\n",
    "\n",
    "    outputFile = open(filename, 'a')  # append to file\n",
    "    outputFile.write('\\n')\n",
    "    \n",
    "    for counter in range (numberOfRandoms):\n",
    "        randomNumber = random.randint(1, 500)\n",
    "        outputFile.write(str(randomNumber) + '\\n')\n",
    "\n",
    "    outputFile.close()\n",
    "\n",
    "\n",
    "if __name__ == '__main__':\n",
    "    main()"
   ]
  },
  {
   "cell_type": "markdown",
   "metadata": {
    "id": "ykPS_C_707BL"
   },
   "source": [
    "### As the above code executes, think about the following questions:\n",
    "\n",
    "1. In the first code example, why are only five lines printed?  while loop sets a limit of <=5\n",
    "2. In the first code example, what does the line infile.readline() do?   \n",
    "3. In the first code sample, what does the line.rstrip() function do?  strips character from Right side of line\n",
    "4. In the second code sample, what does the infile.readlines() function do?  reads entire file and adds it to an array or list.\n",
    "5. Why is there space between each output in the second code sample?\n",
    "6. What does the infile.close() function do?  closes the file and releases the object"
   ]
  },
  {
   "cell_type": "markdown",
   "metadata": {
    "id": "XebfKHYVzxcL"
   },
   "source": [
    "## 7.1  Opening, reading, and writing files (Group):  \n",
    "\n",
    "**Write a program that will do the following:**\n",
    "\n",
    "    1. Read the test.txt file to your program.\n",
    "    2. Remove all whitespace and carriage returns from the file.\n",
    "    3. Count the number of lines in the file and print the altered contents to the console.\n",
    "    \n",
    "    For example:  the first line should output \"oneline\"\n",
    "    Hint: Use the replace function to accomplish this."
   ]
  },
  {
   "cell_type": "code",
   "execution_count": null,
   "metadata": {
    "id": "tHDYSG9lz-ho"
   },
   "outputs": [],
   "source": [
    "def main():\n",
    "\n",
    "    line = ''\n",
    "    counter = 0\n",
    "    \n",
    "    infile = open('test.txt', 'r')  # read file test.txt\n",
    "\n",
    "    line = infile.readline()\n",
    "    counter = 1\n",
    "    \n",
    "    while line != '' and counter <= 5:\n",
    "        line = line.rstrip('\\n')    #remove new line breaks\n",
    "        line = line.replace(\" \",\"\")\n",
    "        print(line)\n",
    "        line = infile.readline()\n",
    "        counter +=1  \n",
    "\n",
    "    infile.close()\n",
    "    #print(f'{counter} lines in the file')\n",
    "    \n",
    "    with open(r\"test.txt\", 'r') as fp:\n",
    "        x = len(fp.readlines())\n",
    "    print('Total lines:', x)\n",
    "    \n",
    "if __name__ == '__main__':\n",
    "    main()\n",
    " "
   ]
  },
  {
   "cell_type": "markdown",
   "metadata": {
    "id": "pJ6U-aC-XbFy"
   },
   "source": [
    "## 7.2  File structure, file formats, and non-standard file encoding (Follow):  \n",
    "\n",
    "**Learning Objectives:**\n",
    "\n",
    "    1. Understand how to deal with standard text files.\n",
    "    2. Understand how to deal with CSV files.\n",
    "    3. Understnad how to deal with non-standard encoded files."
   ]
  },
  {
   "cell_type": "code",
   "execution_count": null,
   "metadata": {
    "id": "ezQY2m1U0RPA"
   },
   "outputs": [],
   "source": [
    "import csv\n",
    "\n",
    "with open('grades.csv', mode = 'w', newline='') as grades:  #writes to a file.\n",
    "        writer = csv.writer(grades)\n",
    "        writer.writerow([1, 'Red', 'A'])\n",
    "        writer.writerow([2, 'Green', 'B'])\n",
    "        writer.writerow([3, 'Blue', 'C'])\n",
    "        writer.writerow([4, 'Purple', 'D'])\n",
    "        writer.writerow([5, 'Orange', 'Excellent'])\n",
    "        \n",
    "with open('grades.csv', 'r', newline='') as grades:\n",
    "    print(f'{\"ID\":<4}{\"Name\":<7}{\"Grade\"}')  # :<X is spaces\n",
    "    reader = csv.reader(grades)\n",
    "    for record in reader:\n",
    "        student_id, name, grade = record\n",
    "        print(f'{student_id:<4}{name:<7}{grade}')\n",
    "           "
   ]
  },
  {
   "cell_type": "code",
   "execution_count": null,
   "metadata": {
    "id": "BBPnJxAb0RVe"
   },
   "outputs": [],
   "source": [
    "# https://docs.python.org/3/library/io.html\n",
    "# The above link is the documentation for the built in io class in python\n",
    "# add comments to the code\n",
    "\n",
    "def main():\n",
    "    \n",
    "    infile = open('test.txt', 'r')  #read file\n",
    "\n",
    "    lines = infile.readlines()\n",
    "    \n",
    "    outfile = open('test-binary.bin', 'w')  # output using write function\n",
    "    for line in lines:\n",
    "        for character in line:\n",
    "            binary_character = format(ord(character), '08b')\n",
    "            outfile.write(binary_character)  \n",
    "\n",
    "    outfile.close()\n",
    "    infile.close()\n",
    "\n",
    "if __name__ == '__main__':\n",
    "    main()"
   ]
  },
  {
   "cell_type": "markdown",
   "metadata": {
    "id": "sKp1o1hZ1DSm"
   },
   "source": [
    "### As the above code executes, think about the following questions:\n",
    "\n",
    "1. Look at the CSV example above.  What does the with command do?  How is this different than try/except?\n",
    "2. What is a CSV file?  Why is it useful?\n",
    "3. In the second program why do I have a nested for loop?  Is there a better way to do this?\n",
    "4. What is the binary character variable?  What is contained inside the variable?"
   ]
  },
  {
   "cell_type": "markdown",
   "metadata": {
    "id": "6XBGjmxY0JqO"
   },
   "source": [
    "## 7.2  File structure, file formats, and non-standard file encoding (Group):  \n",
    "\n",
    "**Write a program that will do the following:**\n",
    "\n",
    "    1. Create a new CSV file with 4 columns.\n",
    "    2. The columns should be ID, Name, Grade, and raw score.\n",
    "    3. The ID, name, and grade can be anything you want.\n",
    "    4. The raw score column should be a random number between 0 and 100. \n",
    "    5. Write the results to the file.\n",
    "    6. Next, read the file and find the average grade for all students.\n",
    "    7. The CSV should have at least 5 rows.\n",
    "    8. As an added challenge, try changing the Grade to match the raw score."
   ]
  },
  {
   "cell_type": "code",
   "execution_count": null,
   "metadata": {
    "id": "NdQIE2OM0R7v"
   },
   "outputs": [],
   "source": [
    "import csv\n",
    "import random as rand\n",
    "\n",
    "raw_scoreTotal =0\n",
    "ClassCount = 0\n",
    "with open('grades2.csv', mode = 'w', newline='') as grades:  #writes to a file.\n",
    "        writer = csv.writer(grades)\n",
    "        writer.writerow([1, 'Tim', 'A',(rand.randint(1,101))])\n",
    "        writer.writerow([2, 'Greg', 'B',(rand.randint(1,101))])\n",
    "        writer.writerow([3, 'Bleh', 'C',(rand.randint(1,101))])\n",
    "        writer.writerow([4, 'Purge', 'D',(rand.randint(1,101))])\n",
    "        writer.writerow([5, 'Oxino', 'C',(rand.randint(1,101))])\n",
    "\n",
    "with open(r\"grades2.csv\", 'r') as fp:\n",
    "    x = len(fp.readlines())\n",
    "    ClassCount = x\n",
    "        \n",
    "with open('grades2.csv', 'r', newline='') as grades:\n",
    "    print(f'{\"ID\":<4}{\"Name\":<7}{\"Grade\":<7}{\"RawScore\"}')  # :<X is spaces\n",
    "    reader = csv.reader(grades)\n",
    "    for record in reader:\n",
    "        student_id, name, grade,raw_score = record\n",
    "        print(f'{student_id:<4}{name:<7}{grade:<7}{raw_score}')\n",
    "        raw_scoreTotal = raw_scoreTotal + float(raw_score)\n",
    "    print(f'Class Average is: {raw_scoreTotal/ClassCount}')"
   ]
  },
  {
   "cell_type": "markdown",
   "metadata": {
    "id": "Dj0OlrdWXbIf"
   },
   "source": [
    "## 7.3  File cursors and file pointers  (Follow):  \n",
    "\n",
    "**Learning Objectives:**\n",
    "\n",
    "    1. Understand what file pointers and curors are doing.\n",
    "    2. Understand how to manilulate file pointers and cursors."
   ]
  },
  {
   "cell_type": "code",
   "execution_count": null,
   "metadata": {
    "id": "kK3ToBte0cs9"
   },
   "outputs": [],
   "source": [
    "# add comments to the code\n",
    "\n",
    "infile = open('test.txt', 'r')\n",
    "lines = infile.read(10)  #read 10 bytes\n",
    "print(lines)\n",
    "\n",
    "print(infile.tell())  # outputs next byte number\n",
    "\n",
    "print(infile.seek(2))  #prints a 2 as it goes back to byte 2\n",
    "\n",
    "lines = infile.read(10)  #from line one e of \"one\" read 10 more bytes\n",
    "print(lines)\n",
    "infile.close()  #close file\n",
    "\n"
   ]
  },
  {
   "cell_type": "markdown",
   "metadata": {
    "id": "QmqxF-RO1Fa0"
   },
   "source": [
    "### As the above code executes, think about the following questions:\n",
    "\n",
    "1. What does the read() function do?\n",
    "2. What does the tell() function do?\n",
    "3. What does the seek() function do?"
   ]
  },
  {
   "cell_type": "markdown",
   "metadata": {
    "id": "plPBqUND0Uzo"
   },
   "source": [
    "## 7.3  File cursors and file pointers  (Group):  \n",
    "\n",
    "**Write a program that will do the following:**\n",
    "\n",
    "    1. Open the test.txt file.\n",
    "    2. Print to the console the file in reverse order.\n",
    "    3. Use the seek and read commands to do this.\n",
    "    3. As an added challenge, try to automate the process instead of just hard coding a bunch of seeks.\n",
    "    \n",
    "    For example: ten line\n",
    "                 nine line ..."
   ]
  },
  {
   "cell_type": "code",
   "execution_count": null,
   "metadata": {
    "id": "9d4bNyS10dR5"
   },
   "outputs": [],
   "source": [
    "totallines = 0\n",
    "line_count = []\n",
    "\n",
    "infile = open('test.txt', 'r')\n",
    "lines = infile.readlines()\n",
    "\n",
    "#for lynes in range(0,len(lines)):\n",
    "#    lines[lynes] = lines[lynes]\n",
    "\n",
    "#print(lines)\n",
    "\n",
    "for line in lines:\n",
    "    #print(line,len(line))\n",
    "    line_count.append(len(line))\n",
    "    totallines += int(len(line))\n",
    "#print(line_count)\n",
    "#print(f'TotalLines:::: {totallines}')\n",
    "\n",
    "infile.seek(totallines)\n",
    "#print(infile.tell())\n",
    "\n",
    "for i in range(10,-1,-1):\n",
    "        \n",
    "    ## recursive loop..adding all counts prior\n",
    "    ## then subtract from total_count\n",
    "    ## set seek to new line\n",
    "    if i == 9:\n",
    "        infile.seek(totallines)\n",
    "        print(infile.read(line_count[i]+1))\n",
    "       # print(totallines)\n",
    "    elif i == 8:\n",
    "        infile.seek(totallines - line_count[i])\n",
    "        print(infile.read(line_count[i]))\n",
    "        totallines = totallines - line_count[i]-2\n",
    "        #print(totallines)\n",
    "    elif i == 7:\n",
    "        infile.seek(totallines - line_count[i])\n",
    "        print(infile.read(line_count[i]))\n",
    "        totallines = totallines - line_count[i]-2\n",
    "        #print(totallines)\n",
    "    elif i == 6:\n",
    "        infile.seek(totallines - line_count[i])\n",
    "        print(infile.read(line_count[i]))\n",
    "        totallines = totallines - line_count[i]\n",
    "        #print(i,totallines)\n",
    "    elif i == 5:\n",
    "        infile.seek(totallines - line_count[i])\n",
    "        print(infile.read(line_count[i]))\n",
    "        totallines = totallines - line_count[i]-1\n",
    "        #print(totallines)\n",
    "    elif i == 4:\n",
    "        infile.seek(totallines - line_count[i])\n",
    "        print(infile.read(line_count[i]))\n",
    "        totallines = totallines - line_count[i]\n",
    "        #print(totallines)\n",
    "    elif i == 3:\n",
    "        infile.seek(totallines - line_count[i])\n",
    "        print(infile.read(line_count[i]))\n",
    "        totallines = totallines - line_count[i]-1\n",
    "        #print(totallines)\n",
    "    elif i == 2:\n",
    "        infile.seek(totallines - line_count[i])\n",
    "        print(infile.read(line_count[i]))\n",
    "        totallines = totallines - line_count[i]-1\n",
    "        #print(totallines)\n",
    "    elif i == 1:\n",
    "        infile.seek(totallines - line_count[i])\n",
    "        print(infile.read(line_count[i]))\n",
    "        totallines = totallines - line_count[i]-1\n",
    "        #print(totallines)\n",
    "    elif i == 0:\n",
    "        infile.seek(totallines - line_count[i])\n",
    "        print(infile.read(line_count[i]))\n",
    "        totallines = totallines - line_count[i]\n",
    "        #print(totallines)\n",
    "        \n",
    "   \n",
    "#print(f'TotalLines: {totallines}')\n",
    "\n",
    "infile.close()  #close fi+\n",
    "\n",
    "\n",
    "#print(\"\\nusing reversed lines function\")\n",
    "#for line in reversed(lines):\n",
    "#    print(line.strip('\\n'))\n",
    "    \n",
    "\n"
   ]
  },
  {
   "cell_type": "markdown",
   "metadata": {
    "id": "6vzSkpkKXbLM"
   },
   "source": [
    "## 7.4  Reading in files as classes (Follow):  \n",
    "\n",
    "**Learning Objectives:**\n",
    "\n",
    "    1. Understand how to read a file in as a class.\n",
    "    2. Understand why reading a file as a class can be useful."
   ]
  },
  {
   "cell_type": "code",
   "execution_count": null,
   "metadata": {
    "id": "KeuEZ-Jm0mzi"
   },
   "outputs": [],
   "source": [
    "# add comments to the code\n",
    "\n",
    "import csv\n",
    "\n",
    "class Athlete:\n",
    "    def __init__(self, name, sex, age, height, weight, team, noc, games, year, season, city, sport, event, medal):\n",
    "        self.__name = name\n",
    "        self.__sex = sex\n",
    "        self.__age = age\n",
    "        self.__height = height\n",
    "        self.__weight = weight\n",
    "        self.__team = team\n",
    "        self.__noc = noc\n",
    "        self.__games = games\n",
    "        self.__year = year\n",
    "        self.__season = season\n",
    "        self.__city = city\n",
    "        self.__sport = sport\n",
    "        self.__event = event\n",
    "        self.__medal = medal\n",
    "        \n",
    "        \n",
    "    def get_age(self):\n",
    "        try:\n",
    "            if int(self.__age) > 0:\n",
    "                return int(self.__age)\n",
    "        except:\n",
    "            pass\n",
    "            return 0\n",
    "    \n"
   ]
  },
  {
   "cell_type": "code",
   "execution_count": null,
   "metadata": {
    "id": "KU9H9U8s0m5c"
   },
   "outputs": [],
   "source": [
    "athlete_list = []\n",
    "age_total = 0\n",
    "\n",
    "with open('athlete_events_short.csv', 'r', newline='') as athletes:\n",
    "    reader = csv.reader(athletes)  \n",
    "    \n",
    "    header = next(reader)\n",
    "    \n",
    "    for line in reader:\n",
    "        new_athlete = Athlete(line[1], line[2], line[3], line[4], line[5], line[6], \n",
    "            line[7], line[8], line[9], line[10], line[11], line[12], line[13], line[14])\n",
    "        athlete_list.append(new_athlete)\n",
    "        \n",
    "for athlete in athlete_list:\n",
    "    age_total += athlete.get_age()\n",
    "    \n",
    "print(\" Average age in years for all olympians = \", age_total/len(athlete_list))"
   ]
  },
  {
   "cell_type": "markdown",
   "metadata": {
    "id": "1z52AFir1HaS"
   },
   "source": [
    "### As the above code executes, think about the following questions:\n",
    "\n",
    "1. What is this program doing?  reading content, and calculating age of athletes.\n",
    "2. What does the newline='' do in line 4 above? With open file handling is automatically set up.\n",
    "3. What doe line 7 do?  Why is it there?  Reads the header files of the data.\n",
    "4. Why did I implement a try/except block in 21-27 in the above code example? \n",
    "5. Am I actually finding the average age?  Explain. Not really, as there are multiple entries for the same person/people."
   ]
  },
  {
   "cell_type": "markdown",
   "metadata": {
    "id": "LoQPKPR20eeo"
   },
   "source": [
    "## 7.4  Reading in files as classes (Group):  \n",
    "\n",
    "**Write a program that will do the following:**\n",
    "\n",
    "    1. Take the code above in 7.4 and extend it.  \n",
    "    2. Read in the file and compute the average weight and average height.\n",
    "    3. Also try to find the maximum height of all athletes.\n",
    "    4. Report the findings to the console."
   ]
  },
  {
   "cell_type": "code",
   "execution_count": 15,
   "metadata": {
    "id": "XPPmc7t70nYU"
   },
   "outputs": [
    {
     "name": "stdout",
     "output_type": "stream",
     "text": [
      " Average age in years for all olympians =  23.895895895895897\n",
      " Average weight for all olympians =  53.83883883883884\n",
      " Average height for all olympians =  132.41141141141142\n",
      " Max height of all olypians =  210 cm\n"
     ]
    }
   ],
   "source": [
    "# add comments to the code\n",
    "\n",
    "import csv\n",
    "\n",
    "class Athlete:\n",
    "    def __init__(self, name, sex, age, height, weight, team, noc, games, year, season, city, sport, event, medal):\n",
    "        self.__name = name\n",
    "        self.__sex = sex\n",
    "        self.__age = age\n",
    "        self.__height = height\n",
    "        self.__weight = weight\n",
    "        self.__team = team\n",
    "        self.__noc = noc\n",
    "        self.__games = games\n",
    "        self.__year = year\n",
    "        self.__season = season\n",
    "        self.__city = city\n",
    "        self.__sport = sport\n",
    "        self.__event = event\n",
    "        self.__medal = medal\n",
    "        \n",
    "        \n",
    "    def get_age(self):\n",
    "        try:\n",
    "            if int(self.__age) > 0:\n",
    "                return int(self.__age)\n",
    "        except:\n",
    "            pass\n",
    "            return 0\n",
    "        \n",
    "    def get_weight(self):\n",
    "        try:\n",
    "            if int(self.__weight) > 0:\n",
    "                return int(self.__weight)\n",
    "        except:\n",
    "            pass\n",
    "            return 0    \n",
    "    \n",
    "    def get_height(self):\n",
    "        try:\n",
    "            if int(self.__height) > 0:\n",
    "                return int(self.__height)\n",
    "        except:\n",
    "            pass\n",
    "            return 0    \n",
    "        \n",
    "\n",
    "athlete_list = []\n",
    "#athlete_weight = []\n",
    "athlete_height = []\n",
    "age_total = 0\n",
    "weight_total = 0\n",
    "height_total = 0\n",
    "\n",
    "with open('athlete_events_short.csv', 'r', newline='') as athletes:\n",
    "    reader = csv.reader(athletes)  \n",
    "    \n",
    "    header = next(reader)\n",
    "    \n",
    "    for line in reader:\n",
    "        new_athlete = Athlete(line[1], line[2], line[3], line[4], line[5], line[6], \n",
    "            line[7], line[8], line[9], line[10], line[11], line[12], line[13], line[14])\n",
    "        if line[4] != \"NA\":\n",
    "            athlt_height = line[4]\n",
    "        athlete_height.append(athlt_height)\n",
    "        athlete_list.append(new_athlete)\n",
    "        \n",
    "for athlete in athlete_list:\n",
    "    age_total += athlete.get_age()\n",
    "    weight_total += athlete.get_weight()\n",
    "    height_total += athlete.get_height()\n",
    "\n",
    "        \n",
    "print(\" Average age in years for all olympians = \", age_total/len(athlete_list))\n",
    "print(\" Average weight for all olympians = \", weight_total/len(athlete_list))\n",
    "print(\" Average height for all olympians = \", height_total/len(athlete_list))\n",
    "print(\" Max height of all olypians = \", max(athlete_height), \"cm\")"
   ]
  },
  {
   "cell_type": "code",
   "execution_count": null,
   "metadata": {
    "id": "QEkGTZ-G0nbY"
   },
   "outputs": [],
   "source": [
    "\n"
   ]
  },
  {
   "cell_type": "markdown",
   "metadata": {
    "id": "tibJGoSxXbN3"
   },
   "source": [
    "## 7.5 Exception handling in files and try, except blocks (Follow):  \n",
    "\n",
    "**Learning Objectives:**\n",
    "\n",
    "    1. Understand how to catch errors in file handling.\n",
    "    2. Understand how to deal with errors in file handling.\n",
    "    3. Understand why it is necessary to handle file issues."
   ]
  },
  {
   "cell_type": "code",
   "execution_count": 22,
   "metadata": {
    "id": "NOno0itR03fL"
   },
   "outputs": [
    {
     "name": "stdout",
     "output_type": "stream",
     "text": [
      "File does not exist.\n",
      "An error occured, please fix it.\n"
     ]
    }
   ],
   "source": [
    "# add comments to the code\n",
    "\n",
    "def main():\n",
    "    total = 0.0\n",
    "    number = 0.0\n",
    "    counter = 0\n",
    "    \n",
    "    filename = 'numbers3.txt'\n",
    "    \n",
    "    ### try to complete this action \n",
    "    try:\n",
    "        infile = open(filename, 'r')\n",
    "\n",
    "        ### if succeed do the following: \n",
    "        for line in infile:\n",
    "            counter = counter + 1\n",
    "            number = float(line)\n",
    "            total += number\n",
    "        \n",
    "        #infile.close()\n",
    "\n",
    "        average = total / counter\n",
    "        print (f'Average: {average}')\n",
    "\n",
    "    ### if errors, file didnt load \n",
    "    except FileNotFoundError:  \n",
    "        ## added this except to test file not found\n",
    "        print('File does not exist.')\n",
    "        error_flag = 1\n",
    "    except IOError:\n",
    "        print('An error occurred while trying to read the file.')\n",
    "        error_flag = 1\n",
    "    except ValueError:\n",
    "        print('Non-numeric data found in the file')\n",
    "        error_flag = 1\n",
    "    except: \n",
    "        print('An error occurred')\n",
    "        error_flag = 1\n",
    "    else:  ### is successful \n",
    "        print(\"File loaded succesfully.\")\n",
    "        error_flag = 0\n",
    "    finally:  ## check for flags\n",
    "        if error_flag == 1:\n",
    "            print(\"An error occured, please fix it.\")\n",
    "            pass\n",
    "        else: \n",
    "            print(\"No errors occured, good job.\")\n",
    "            ## do a close as last result\n",
    "            infile.close()\n",
    "        \n",
    "                     \n",
    "if __name__ == '__main__':\n",
    "    main()"
   ]
  },
  {
   "cell_type": "markdown",
   "metadata": {
    "id": "m5-YGuHl1Jlb"
   },
   "source": [
    "### As the above code executes, think about the following questions:\n",
    "\n",
    "1. Play around with the text file and try to get all the different exceptions.  fun.\n",
    "2. Will this code above catch all exceptions that could exist, explain?  no.. file missing needs to be added.\n",
    "3. Lookup the exceptions in the above code and describe them briefly below.  "
   ]
  },
  {
   "cell_type": "markdown",
   "metadata": {
    "id": "Ocfgak580qbO"
   },
   "source": [
    "## 7.5 Exception handling in files and try, except blocks (Group):  \n",
    "\n",
    "**Write a porgram that will do the following:**\n",
    "\n",
    "    1. Load the numbers.txt text file by taking input from the user.\n",
    "    2. Add several random numbers to the file as input from the user.\n",
    "    3. Read in all the numbers in the file.\n",
    "    4. Encapsulate both reads and writes in separate try exception blocks\n",
    "    5. Find the average of all the numbers."
   ]
  },
  {
   "cell_type": "code",
   "execution_count": 25,
   "metadata": {
    "id": "36VKGzBY04AQ"
   },
   "outputs": [
    {
     "name": "stdout",
     "output_type": "stream",
     "text": [
      "I need 5 random numbers: 5\n",
      "I need 4 random numbers: 4\n",
      "I need 3 random numbers: 6\n",
      "I need 2 random numbers: 78\n",
      "I need 1 random numbers: 79\n",
      "File write succesful.\n",
      "No errors occured, for 'write operation' good job.\n",
      "Average: 34.4\n",
      "File loaded succesfully.\n",
      "No errors occured, for 'read operation' good job.\n"
     ]
    }
   ],
   "source": [
    "'''\n",
    "**Learning Objectives:**\n",
    "\n",
    "    1. Load the numbers.txt text file by taking input from the user.\n",
    "    2. Add several random numbers to the file as input from the user.\n",
    "    3. Read in all the numbers in the file.\n",
    "    4. Encapsulate both reads and writes in separate try exception blocks\n",
    "    5. Find the average of all the numbers.\n",
    "    \n",
    "'''\n",
    "def main():\n",
    "    total = 0.0\n",
    "    number = 0.0\n",
    "    counter = 0\n",
    "    \n",
    "    filename = 'numbers.txt'\n",
    "    \n",
    "    list_of_numbers = []\n",
    "    for i in range(4,-1,-1):\n",
    "        numerals = int(input(f'I need {i+1} random numbers: '))\n",
    "        list_of_numbers.append(numerals)    \n",
    "    ''' Write to an existing file, add numbers  code sample:    \n",
    "    infile = open(filename, 'r')  #read file\n",
    "    lines = infile.readlines()\n",
    "    infile.close()\n",
    "\n",
    "    '''\n",
    "    try:\n",
    "        outfile = open(filename, 'w')  # output using write function\n",
    "        for lon in list_of_numbers:\n",
    "            outfile.write(str(lon)+\"\\n\")\n",
    "\n",
    "    except IOError:\n",
    "        print('An error occurred while trying to write to the file.')\n",
    "        error_flag = 1\n",
    "    except FileNotFoundError:\n",
    "        print('File does not exist.')\n",
    "        error_flag = 1\n",
    "    except ValueError:\n",
    "        print('Non-numeric data found in the file')\n",
    "        error_flag = 1\n",
    "    except: \n",
    "        print('An error occurred')\n",
    "        error_flag = 1\n",
    "    else:\n",
    "        print(\"File write succesful.\")\n",
    "        error_flag = 0\n",
    "    finally:\n",
    "        if error_flag == 1:\n",
    "            print(\"An error occured, please fix it.\")\n",
    "        else:\n",
    "            print(\"No errors occured, for 'write operation' good job.\")\n",
    "        outfile.close()\n",
    "\n",
    "                  \n",
    "    ''' Open the file we just wrote to \n",
    "    '''    \n",
    "    \n",
    "    try:\n",
    "        infile = open(filename, 'r')\n",
    "\n",
    "        for line in infile:\n",
    "            counter = counter + 1\n",
    "            number = float(line)\n",
    "            total += number\n",
    "        \n",
    "        #infile.close()\n",
    "\n",
    "        average = total / counter\n",
    "        print (f'Average: {average}')\n",
    "\n",
    "    except FileNotFoundError:\n",
    "        print('File does not exist.')\n",
    "        error_flag = 1\n",
    "    except IOError:\n",
    "        print('An error occurred while trying to read the file.')\n",
    "        error_flag = 1\n",
    "    except ValueError:\n",
    "        print('Non-numeric data found in the file')\n",
    "        error_flag = 1\n",
    "    except: \n",
    "        print('An error occurred')\n",
    "        error_flag = 1\n",
    "    else:\n",
    "        print(\"File loaded succesfully.\")\n",
    "        error_flag = 0\n",
    "    finally:\n",
    "        if error_flag == 1:\n",
    "            print(\"An error occured, please fix it.\")\n",
    "            pass\n",
    "        else:\n",
    "            print(\"No errors occured, for 'read operation' good job.\")\n",
    "        infile.close()\n",
    "        \n",
    "                     \n",
    "if __name__ == '__main__':\n",
    "    main()"
   ]
  },
  {
   "cell_type": "markdown",
   "metadata": {
    "id": "pOlr3Qzozipa"
   },
   "source": [
    "## 7.6 Mini-Project (Group):  \n",
    "\n",
    "**Write a program that will do the following:**\n",
    "\n",
    "    1. Find a file from work or life.  If you cannot find a file, feel free to use the included file: \n",
    "        athlete_events.csv from kaggle.\n",
    "    2. The file must have numeric data and text data.  It may be a CSV, txt, or other file.\n",
    "    3. Read the file into the program as a class. \n",
    "    4. Do some basic analysis on the file.  Find the mean of the numeric data, count the number of rows, and so on.\n",
    "    5. Report the basic statistics to the console for the user.\n",
    "    6. As an added challenge, try finding things like mode for the text data, standard deviation for numeric, and so on.\n",
    "    7. Try also reporting the data graphically using matplot lib.  "
   ]
  },
  {
   "cell_type": "code",
   "execution_count": 79,
   "metadata": {
    "id": "nkMi1qXp04y1"
   },
   "outputs": [
    {
     "name": "stdout",
     "output_type": "stream",
     "text": [
      " Average age in years for all olympians =  25.476653696498055\n",
      " Average weight for all olympians =  67.147859922179\n",
      " Average height for all olympians =  162.04280155642024\n",
      " Max height of all olypians =  210 cm\n"
     ]
    },
    {
     "data": {
      "image/png": "[encoded data removed]",
      "text/plain": [
       "<Figure size 720x720 with 1 Axes>"
      ]
     },
     "metadata": {
      "needs_background": "light"
     },
     "output_type": "display_data"
    }
   ],
   "source": [
    "# add comments to the code\n",
    "\n",
    "import csv\n",
    "import matplotlib.pyplot as plt\n",
    "import pandas as pd\n",
    "import numpy as np\n",
    "import seaborn as sns\n",
    "\n",
    "\n",
    "class Athlete:\n",
    "    def __init__(self, name, sex, age, height, weight, team, noc, games, year, season, city, sport, event, medal):\n",
    "        self.__name = name\n",
    "        self.__sex = sex\n",
    "        self.__age = age\n",
    "        self.__height = height\n",
    "        self.__weight = weight\n",
    "        self.__team = team\n",
    "        self.__noc = noc\n",
    "        self.__games = games\n",
    "        self.__year = year\n",
    "        self.__season = season\n",
    "        self.__city = city\n",
    "        self.__sport = sport\n",
    "        self.__event = event\n",
    "        self.__medal = medal\n",
    "        \n",
    "        \n",
    "    def get_age(self):\n",
    "        try:\n",
    "            if int(self.__age) > 0:\n",
    "                return int(self.__age)\n",
    "        except:\n",
    "            pass\n",
    "            return 0\n",
    "        \n",
    "    def get_weight(self):\n",
    "        try:\n",
    "            if int(self.__weight) > 0:\n",
    "                return int(self.__weight)\n",
    "        except:\n",
    "            pass\n",
    "            return 0    \n",
    "    \n",
    "    def get_height(self):\n",
    "        try:\n",
    "            if int(self.__height) > 0:\n",
    "                return int(self.__height)\n",
    "        except:\n",
    "            pass\n",
    "            return 0    \n",
    "        \n",
    "\n",
    "athlete_list = []\n",
    "all_ages = []\n",
    "athlete_height = []\n",
    "age_total = 0\n",
    "weight_total = 0\n",
    "height_total = 0\n",
    "year = \"1989\"\n",
    "\n",
    "fig, ax = plt.subplots(figsize=(10, 10))\n",
    "\n",
    "with open('athlete_events_short.csv', 'r', newline='') as athletes:\n",
    "    reader = csv.reader(athletes)  \n",
    "    \n",
    "    header = next(reader)\n",
    "    \n",
    "    for line in reader:\n",
    "        if line[9] > year:\n",
    "            new_athlete = Athlete(line[1], line[2], line[3], line[4], line[5], line[6], \n",
    "                line[7], line[8], line[9], line[10], line[11], line[12], line[13], line[14])\n",
    "            if line[4] != \"NA\":\n",
    "                athlt_height = line[4]\n",
    "            athlete_height.append(athlt_height)\n",
    "            athlete_list.append(new_athlete)\n",
    "            if line[3] != \"NA\":\n",
    "                all_ages.append(line[3])\n",
    "        \n",
    "for athlete in athlete_list:\n",
    "    age_total += athlete.get_age()\n",
    "    weight_total += athlete.get_weight()\n",
    "    height_total += athlete.get_height()\n",
    "\n",
    "        \n",
    "print(\" Average age in years for all olympians = \", age_total/len(athlete_list))\n",
    "print(\" Average weight for all olympians = \", weight_total/len(athlete_list))\n",
    "print(\" Average height for all olympians = \", height_total/len(athlete_list))\n",
    "print(\" Max height of all olypians = \", max(athlete_height), \"cm\")\n",
    "\n",
    "title = f'Histogram of AGE GROUP for year: {year}'\n",
    "ax.set_title(title)\n",
    "\n",
    "# Tweak spacing to prevent clipping of ylabel\n",
    "fig.tight_layout()\n",
    "x = sorted(all_ages)\n",
    "num_bins = 50\n",
    "n, bins, patches = plt.hist(x, num_bins, facecolor='blue', alpha=1)\n",
    "plt.show()\n",
    "\n"
   ]
  },
  {
   "cell_type": "code",
   "execution_count": null,
   "metadata": {
    "id": "Sk78mwNQ043Z"
   },
   "outputs": [],
   "source": []
  }
 ],
 "metadata": {
  "colab": {
   "authorship_tag": "ABX9TyOKYLbWzyJgPds9rc1AVPJL",
   "collapsed_sections": [],
   "name": "Week 7 Solutions.ipynb",
   "provenance": []
  },
  "kernelspec": {
   "display_name": "Python 3 (ipykernel)",
   "language": "python",
   "name": "python3"
  },
  "language_info": {
   "codemirror_mode": {
    "name": "ipython",
    "version": 3
   },
   "file_extension": ".py",
   "mimetype": "text/x-python",
   "name": "python",
   "nbconvert_exporter": "python",
   "pygments_lexer": "ipython3",
   "version": "3.9.7"
  }
 },
 "nbformat": 4,
 "nbformat_minor": 1
}
